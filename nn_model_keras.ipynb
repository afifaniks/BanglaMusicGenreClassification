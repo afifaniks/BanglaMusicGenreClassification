{
 "cells": [
  {
   "cell_type": "markdown",
   "metadata": {},
   "source": [
    "<h2 style=\"color: green\">Testing Extracted Features w/ Keras</h2>\n",
    "Author: (Afif Al Mamun)[https://afifaniks.github.io]<br>\n",
    "Date: August 23, 2019"
   ]
  },
  {
   "cell_type": "code",
   "execution_count": 1,
   "metadata": {},
   "outputs": [
    {
     "name": "stderr",
     "output_type": "stream",
     "text": [
      "Using TensorFlow backend.\n"
     ]
    }
   ],
   "source": [
    "import keras\n",
    "from keras.models import Sequential\n",
    "from keras.regularizers import l2, l1\n",
    "from keras.layers import Dense, Dropout\n",
    "from sklearn.preprocessing import LabelEncoder\n",
    "from sklearn.preprocessing import StandardScaler\n",
    "from sklearn.metrics import confusion_matrix\n",
    "from sklearn.metrics import classification_report\n",
    "from sklearn.model_selection import train_test_split\n",
    "import numpy\n",
    "import pandas as pd\n",
    "import matplotlib.pyplot as plt\n",
    "from matplotlib import cm\n",
    "%matplotlib inline\n",
    "import seaborn as sn"
   ]
  },
  {
   "cell_type": "code",
   "execution_count": 2,
   "metadata": {
    "scrolled": true
   },
   "outputs": [
    {
     "data": {
      "text/html": [
       "<div>\n",
       "<style scoped>\n",
       "    .dataframe tbody tr th:only-of-type {\n",
       "        vertical-align: middle;\n",
       "    }\n",
       "\n",
       "    .dataframe tbody tr th {\n",
       "        vertical-align: top;\n",
       "    }\n",
       "\n",
       "    .dataframe thead th {\n",
       "        text-align: right;\n",
       "    }\n",
       "</style>\n",
       "<table border=\"1\" class=\"dataframe\">\n",
       "  <thead>\n",
       "    <tr style=\"text-align: right;\">\n",
       "      <th></th>\n",
       "      <th>file_name</th>\n",
       "      <th>zero_crossing</th>\n",
       "      <th>spectral_centroid</th>\n",
       "      <th>spectral_rolloff</th>\n",
       "      <th>spectral_bandwidth</th>\n",
       "      <th>chroma_frequency</th>\n",
       "      <th>rmse</th>\n",
       "      <th>delta</th>\n",
       "      <th>melspectogram</th>\n",
       "      <th>tempo</th>\n",
       "      <th>mfcc0</th>\n",
       "      <th>mfcc1</th>\n",
       "      <th>mfcc2</th>\n",
       "      <th>mfcc3</th>\n",
       "      <th>mfcc4</th>\n",
       "      <th>mfcc5</th>\n",
       "      <th>mfcc6</th>\n",
       "      <th>mfcc7</th>\n",
       "      <th>mfcc8</th>\n",
       "      <th>mfcc9</th>\n",
       "      <th>mfcc10</th>\n",
       "      <th>mfcc11</th>\n",
       "      <th>mfcc12</th>\n",
       "      <th>mfcc13</th>\n",
       "      <th>mfcc14</th>\n",
       "      <th>mfcc15</th>\n",
       "      <th>mfcc16</th>\n",
       "      <th>mfcc17</th>\n",
       "      <th>mfcc18</th>\n",
       "      <th>mfcc19</th>\n",
       "      <th>label</th>\n",
       "    </tr>\n",
       "  </thead>\n",
       "  <tbody>\n",
       "    <tr>\n",
       "      <th>0</th>\n",
       "      <td>(Tomake Paowa)  - Hridoy Khan &amp; Tasnim Anika F...</td>\n",
       "      <td>125424</td>\n",
       "      <td>1770.889394</td>\n",
       "      <td>3893.575094</td>\n",
       "      <td>2414.810615</td>\n",
       "      <td>0.315795</td>\n",
       "      <td>0.222552</td>\n",
       "      <td>-7.661680e-08</td>\n",
       "      <td>12.977708</td>\n",
       "      <td>172.265625</td>\n",
       "      <td>-107.906257</td>\n",
       "      <td>116.494382</td>\n",
       "      <td>23.320857</td>\n",
       "      <td>17.535451</td>\n",
       "      <td>9.382846</td>\n",
       "      <td>6.854393</td>\n",
       "      <td>-0.293704</td>\n",
       "      <td>-0.007064</td>\n",
       "      <td>-7.914926</td>\n",
       "      <td>1.532803</td>\n",
       "      <td>-5.300817</td>\n",
       "      <td>3.164991</td>\n",
       "      <td>-3.867179</td>\n",
       "      <td>5.325016</td>\n",
       "      <td>1.176338</td>\n",
       "      <td>-0.788755</td>\n",
       "      <td>-6.343288</td>\n",
       "      <td>2.488148</td>\n",
       "      <td>0.047027</td>\n",
       "      <td>7.211918</td>\n",
       "      <td>adhunik</td>\n",
       "    </tr>\n",
       "    <tr>\n",
       "      <th>1</th>\n",
       "      <td>008. Jai Bole Jete Naire - Jewel (1980).mp3</td>\n",
       "      <td>308658</td>\n",
       "      <td>2549.349989</td>\n",
       "      <td>4986.658880</td>\n",
       "      <td>2193.617981</td>\n",
       "      <td>0.310113</td>\n",
       "      <td>0.156930</td>\n",
       "      <td>8.893313e-08</td>\n",
       "      <td>5.118271</td>\n",
       "      <td>143.554688</td>\n",
       "      <td>-68.452095</td>\n",
       "      <td>81.151777</td>\n",
       "      <td>-35.804154</td>\n",
       "      <td>44.550898</td>\n",
       "      <td>-17.021686</td>\n",
       "      <td>18.244996</td>\n",
       "      <td>-18.741383</td>\n",
       "      <td>12.376125</td>\n",
       "      <td>-16.116041</td>\n",
       "      <td>8.450346</td>\n",
       "      <td>-11.745541</td>\n",
       "      <td>8.358729</td>\n",
       "      <td>-12.691169</td>\n",
       "      <td>11.393858</td>\n",
       "      <td>-6.176215</td>\n",
       "      <td>9.947330</td>\n",
       "      <td>-6.987708</td>\n",
       "      <td>7.935905</td>\n",
       "      <td>-9.452455</td>\n",
       "      <td>1.582699</td>\n",
       "      <td>adhunik</td>\n",
       "    </tr>\n",
       "  </tbody>\n",
       "</table>\n",
       "</div>"
      ],
      "text/plain": [
       "                                           file_name  zero_crossing  \\\n",
       "0  (Tomake Paowa)  - Hridoy Khan & Tasnim Anika F...         125424   \n",
       "1        008. Jai Bole Jete Naire - Jewel (1980).mp3         308658   \n",
       "\n",
       "   spectral_centroid  spectral_rolloff  spectral_bandwidth  chroma_frequency  \\\n",
       "0        1770.889394       3893.575094         2414.810615          0.315795   \n",
       "1        2549.349989       4986.658880         2193.617981          0.310113   \n",
       "\n",
       "       rmse         delta  melspectogram       tempo       mfcc0       mfcc1  \\\n",
       "0  0.222552 -7.661680e-08      12.977708  172.265625 -107.906257  116.494382   \n",
       "1  0.156930  8.893313e-08       5.118271  143.554688  -68.452095   81.151777   \n",
       "\n",
       "       mfcc2      mfcc3      mfcc4      mfcc5      mfcc6      mfcc7  \\\n",
       "0  23.320857  17.535451   9.382846   6.854393  -0.293704  -0.007064   \n",
       "1 -35.804154  44.550898 -17.021686  18.244996 -18.741383  12.376125   \n",
       "\n",
       "       mfcc8     mfcc9     mfcc10    mfcc11     mfcc12     mfcc13    mfcc14  \\\n",
       "0  -7.914926  1.532803  -5.300817  3.164991  -3.867179   5.325016  1.176338   \n",
       "1 -16.116041  8.450346 -11.745541  8.358729 -12.691169  11.393858 -6.176215   \n",
       "\n",
       "     mfcc15    mfcc16    mfcc17    mfcc18    mfcc19    label  \n",
       "0 -0.788755 -6.343288  2.488148  0.047027  7.211918  adhunik  \n",
       "1  9.947330 -6.987708  7.935905 -9.452455  1.582699  adhunik  "
      ]
     },
     "execution_count": 2,
     "metadata": {},
     "output_type": "execute_result"
    }
   ],
   "source": [
    "df = pd.read_csv('dataset.csv', encoding='latin-1')\n",
    "pd.options.display.max_columns=None\n",
    "df.head(2)"
   ]
  },
  {
   "cell_type": "markdown",
   "metadata": {},
   "source": [
    "# Data Visualization"
   ]
  },
  {
   "cell_type": "code",
   "execution_count": 3,
   "metadata": {},
   "outputs": [
    {
     "name": "stdout",
     "output_type": "stream",
     "text": [
      "nazrul        312\n",
      "rabindra      297\n",
      "band          295\n",
      "hiphop        295\n",
      "adhunik       283\n",
      "palligeeti    260\n",
      "Name: label, dtype: int64\n"
     ]
    },
    {
     "data": {
      "image/png": "[encoded data removed]",
      "text/plain": [
       "<Figure size 432x288 with 1 Axes>"
      ]
     },
     "metadata": {
      "needs_background": "light"
     },
     "output_type": "display_data"
    }
   ],
   "source": [
    "X = df['label'].value_counts()\n",
    "\n",
    "classes = X.keys()\n",
    "\n",
    "label = {}\n",
    "\n",
    "for c in classes:\n",
    "    label[c] = X[c]\n",
    "\n",
    "plt.bar(label.keys(), label.values())\n",
    "plt.xlabel('Class Name')\n",
    "plt.ylabel('Number of Instances')\n",
    "\n",
    "print(X)"
   ]
  },
  {
   "cell_type": "code",
   "execution_count": 4,
   "metadata": {},
   "outputs": [],
   "source": [
    "import numpy as np"
   ]
  },
  {
   "cell_type": "code",
   "execution_count": 5,
   "metadata": {},
   "outputs": [],
   "source": [
    "data_adhunik = df[df['label'] == 'adhunik']\n",
    "data_band = df[df['label'] == 'band']\n",
    "data_hiphop = df[df['label'] == 'hiphop']\n",
    "data_nazrul = df[df['label'] == 'nazrul']\n",
    "data_palligeeti = df[df['label'] == 'palligeeti']\n",
    "data_rabindra = df[df['label'] == 'rabindra']"
   ]
  },
  {
   "cell_type": "code",
   "execution_count": 6,
   "metadata": {},
   "outputs": [],
   "source": [
    "data_list = [data_adhunik, data_band, data_hiphop, data_nazrul, data_palligeeti, data_rabindra]\n",
    "classes = np.array(['adhunik', 'band', 'hiphop', 'nazrul', 'palligeeti', 'rabindra'])"
   ]
  },
  {
   "cell_type": "code",
   "execution_count": 7,
   "metadata": {
    "scrolled": false
   },
   "outputs": [
    {
     "name": "stdout",
     "output_type": "stream",
     "text": [
      "zero_crossing\n",
      "179833.67137809188\n",
      "275995.7152542373\n",
      "225064.01016949152\n",
      "184407.72435897434\n",
      "261663.73846153845\n",
      "169258.16498316498\n"
     ]
    },
    {
     "data": {
      "image/png": "[encoded data removed]",
      "text/plain": [
       "<Figure size 432x288 with 2 Axes>"
      ]
     },
     "metadata": {
      "needs_background": "light"
     },
     "output_type": "display_data"
    }
   ],
   "source": [
    "# Zero Crossings Visualization\n",
    "col_name = 'zero_crossing'\n",
    "print(col_name)\n",
    "y = []\n",
    "for data in data_list:\n",
    "    print(data[col_name].mean())\n",
    "    y.append(data[col_name].mean())\n",
    "y = np.array(y)\n",
    "colors = cm.hsv(y / float(max(y)))\n",
    "plot = plt.scatter(y, y, c = y, cmap = 'hsv')\n",
    "plt.clf()\n",
    "plt.colorbar(plot)\n",
    "plt.bar(classes, y, color = colors, width=0.6)\n",
    "plt.show()"
   ]
  },
  {
   "cell_type": "code",
   "execution_count": 8,
   "metadata": {},
   "outputs": [
    {
     "name": "stdout",
     "output_type": "stream",
     "text": [
      "spectral_centroid\n",
      "2004.755221108732\n",
      "2585.1004981981914\n",
      "2436.973775151505\n",
      "1363.5994732748848\n",
      "2233.453301876838\n",
      "1536.5376533372362\n"
     ]
    },
    {
     "data": {
      "image/png": "[encoded data removed]",
      "text/plain": [
       "<Figure size 432x288 with 2 Axes>"
      ]
     },
     "metadata": {
      "needs_background": "light"
     },
     "output_type": "display_data"
    }
   ],
   "source": [
    "# Spectral Centroid Visualization\n",
    "col_name = 'spectral_centroid'\n",
    "print(col_name)\n",
    "y = []\n",
    "for data in data_list:\n",
    "    print(data[col_name].mean())\n",
    "    y.append(data[col_name].mean())\n",
    "y = np.array(y)\n",
    "colors = cm.hsv(y / float(max(y)))\n",
    "plot = plt.scatter(y, y, c = y, cmap = 'hsv')\n",
    "plt.clf()\n",
    "plt.colorbar(plot)\n",
    "plt.bar(classes, y, color = colors, width=0.6)\n",
    "plt.show()"
   ]
  },
  {
   "cell_type": "code",
   "execution_count": 9,
   "metadata": {},
   "outputs": [
    {
     "name": "stdout",
     "output_type": "stream",
     "text": [
      "spectral_rolloff\n",
      "4313.329030219406\n",
      "5396.123389211625\n",
      "5194.412510907178\n",
      "2449.7371480025135\n",
      "4414.39211426174\n",
      "2983.1727724146535\n"
     ]
    },
    {
     "data": {
      "image/png": "[encoded data removed]",
      "text/plain": [
       "<Figure size 432x288 with 2 Axes>"
      ]
     },
     "metadata": {
      "needs_background": "light"
     },
     "output_type": "display_data"
    }
   ],
   "source": [
    "# Spectral Rolloff Visualization\n",
    "col_name = 'spectral_rolloff'\n",
    "print(col_name)\n",
    "y = []\n",
    "for data in data_list:\n",
    "    print(data[col_name].mean())\n",
    "    y.append(data[col_name].mean())\n",
    "y = np.array(y)\n",
    "colors = cm.hsv(y / float(max(y)))\n",
    "plot = plt.scatter(y, y, c = y, cmap = 'hsv')\n",
    "plt.clf()\n",
    "plt.colorbar(plot)\n",
    "plt.bar(classes, y, color = colors, width=0.6)\n",
    "plt.show()"
   ]
  },
  {
   "cell_type": "code",
   "execution_count": 10,
   "metadata": {},
   "outputs": [
    {
     "name": "stdout",
     "output_type": "stream",
     "text": [
      "spectral_bandwidth\n",
      "2326.1618148804455\n",
      "2513.215376382651\n",
      "2512.7762357336333\n",
      "1236.3016089670282\n",
      "2111.88097648089\n",
      "1629.9497009604122\n"
     ]
    },
    {
     "data": {
      "image/png": "[encoded data removed]",
      "text/plain": [
       "<Figure size 432x288 with 2 Axes>"
      ]
     },
     "metadata": {
      "needs_background": "light"
     },
     "output_type": "display_data"
    }
   ],
   "source": [
    "# Spectral Bandwidth Visualization\n",
    "col_name = 'spectral_bandwidth'\n",
    "print(col_name)\n",
    "y = []\n",
    "for data in data_list:\n",
    "    print(data[col_name].mean())\n",
    "    y.append(data[col_name].mean())\n",
    "y = np.array(y)\n",
    "colors = cm.hsv(y / float(max(y)))\n",
    "plot = plt.scatter(y, y, c = y, cmap = 'hsv')\n",
    "plt.clf()\n",
    "plt.colorbar(plot)\n",
    "plt.bar(classes, y, color = colors, width=0.6)\n",
    "plt.show()"
   ]
  },
  {
   "cell_type": "code",
   "execution_count": 11,
   "metadata": {},
   "outputs": [
    {
     "name": "stdout",
     "output_type": "stream",
     "text": [
      "chroma_frequency\n",
      "0.31287358583951597\n",
      "0.35978639505996607\n",
      "0.3888264347954499\n",
      "0.2385208801594986\n",
      "0.2837889299683471\n",
      "0.25048065993487884\n"
     ]
    },
    {
     "data": {
      "image/png": "[encoded data removed]",
      "text/plain": [
       "<Figure size 432x288 with 2 Axes>"
      ]
     },
     "metadata": {
      "needs_background": "light"
     },
     "output_type": "display_data"
    }
   ],
   "source": [
    "# Chroma Frequency Visualization\n",
    "col_name = 'chroma_frequency'\n",
    "print(col_name)\n",
    "y = []\n",
    "for data in data_list:\n",
    "    print(data[col_name].mean())\n",
    "    y.append(data[col_name].mean())\n",
    "y = np.array(y)\n",
    "colors = cm.hsv(y / float(max(y)))\n",
    "plot = plt.scatter(y, y, c = y, cmap = 'hsv')\n",
    "plt.clf()\n",
    "plt.colorbar(plot)\n",
    "plt.bar(classes, y, color = colors, width=0.6)\n",
    "plt.show()"
   ]
  },
  {
   "cell_type": "code",
   "execution_count": 12,
   "metadata": {
    "scrolled": true
   },
   "outputs": [
    {
     "name": "stdout",
     "output_type": "stream",
     "text": [
      "tempo\n",
      "119.84027513127766\n",
      "127.02895567930297\n",
      "112.95735878442223\n",
      "124.15518484953725\n",
      "125.12835234826758\n",
      "129.56600392149448\n"
     ]
    },
    {
     "data": {
      "image/png": "[encoded data removed]",
      "text/plain": [
       "<Figure size 432x288 with 2 Axes>"
      ]
     },
     "metadata": {
      "needs_background": "light"
     },
     "output_type": "display_data"
    }
   ],
   "source": [
    "# Tempo Visualization\n",
    "col_name = 'tempo'\n",
    "print(col_name)\n",
    "y = []\n",
    "for data in data_list:\n",
    "    print(data[col_name].mean())\n",
    "    y.append(data[col_name].mean())\n",
    "y = np.array(y)\n",
    "colors = cm.hsv(y / float(max(y)))\n",
    "plot = plt.scatter(y, y, c = y, cmap = 'hsv')\n",
    "plt.clf()\n",
    "plt.colorbar(plot)\n",
    "plt.bar(classes, y, color = colors, width=0.6)\n",
    "plt.show()"
   ]
  },
  {
   "cell_type": "code",
   "execution_count": 13,
   "metadata": {},
   "outputs": [
    {
     "name": "stdout",
     "output_type": "stream",
     "text": [
      "zero_crossing\n",
      "179833.67137809188\n",
      "275995.7152542373\n",
      "225064.01016949152\n",
      "184407.72435897434\n",
      "261663.73846153845\n",
      "169258.16498316498\n"
     ]
    },
    {
     "data": {
      "image/png": "[encoded data removed]",
      "text/plain": [
       "<Figure size 432x288 with 2 Axes>"
      ]
     },
     "metadata": {
      "needs_background": "light"
     },
     "output_type": "display_data"
    }
   ],
   "source": [
    "# Zero Crossings Visualization\n",
    "col_name = 'zero_crossing'\n",
    "print(col_name)\n",
    "y = []\n",
    "for data in data_list:\n",
    "    print(data[col_name].mean())\n",
    "    y.append(data[col_name].mean())\n",
    "y = np.array(y)\n",
    "colors = cm.hsv(y / float(max(y)))\n",
    "plot = plt.scatter(y, y, c = y, cmap = 'hsv')\n",
    "plt.clf()\n",
    "plt.colorbar(plot)\n",
    "plt.bar(classes, y, color = colors, width=0.6)\n",
    "plt.show()"
   ]
  },
  {
   "cell_type": "code",
   "execution_count": 14,
   "metadata": {
    "scrolled": true
   },
   "outputs": [
    {
     "name": "stdout",
     "output_type": "stream",
     "text": [
      "rmse\n",
      "0.1754621670010599\n",
      "0.16074368868813577\n",
      "0.20779618672881348\n",
      "0.17412291010576922\n",
      "0.169135676623077\n",
      "0.14150188897643104\n"
     ]
    },
    {
     "data": {
      "image/png": "[encoded data removed]",
      "text/plain": [
       "<Figure size 432x288 with 2 Axes>"
      ]
     },
     "metadata": {
      "needs_background": "light"
     },
     "output_type": "display_data"
    }
   ],
   "source": [
    "# RMSE Visualization\n",
    "col_name = 'rmse'\n",
    "print(col_name)\n",
    "y = []\n",
    "for data in data_list:\n",
    "    print(data[col_name].mean())\n",
    "    y.append(data[col_name].mean())\n",
    "y = np.array(y)\n",
    "colors = cm.hsv(y / float(max(y)))\n",
    "plot = plt.scatter(y, y, c = y, cmap = 'hsv')\n",
    "plt.clf()\n",
    "plt.colorbar(plot)\n",
    "plt.bar(classes, y, color = colors, width=0.6)\n",
    "plt.show()"
   ]
  },
  {
   "cell_type": "markdown",
   "metadata": {},
   "source": [
    "# Preparing Data"
   ]
  },
  {
   "cell_type": "code",
   "execution_count": 15,
   "metadata": {},
   "outputs": [],
   "source": [
    "# Splitting data\n",
    "y = df['label']\n",
    "X = df.drop(['file_name', 'label'], axis=1)\n",
    "\n",
    "# Scaling values by normal distribution\n",
    "sc = StandardScaler()\n",
    "X = sc.fit_transform(X)\n",
    "\n",
    "X_train, X_test, y_train, y_test = train_test_split(X, y, train_size=0.8) #4\n",
    "\n",
    "encoder = LabelEncoder()\n",
    "y_train = encoder.fit_transform(y_train)\n",
    "y_test = encoder.fit_transform(y_test)"
   ]
  },
  {
   "cell_type": "code",
   "execution_count": 16,
   "metadata": {},
   "outputs": [
    {
     "data": {
      "text/plain": [
       "array(['adhunik', 'band', 'hiphop', 'nazrul', 'palligeeti', 'rabindra'],\n",
       "      dtype=object)"
      ]
     },
     "execution_count": 16,
     "metadata": {},
     "output_type": "execute_result"
    }
   ],
   "source": [
    "encoder.classes_"
   ]
  },
  {
   "cell_type": "code",
   "execution_count": 17,
   "metadata": {},
   "outputs": [
    {
     "data": {
      "text/plain": [
       "array(['adhunik', 'band', 'hiphop', 'nazrul', 'palligeeti', 'rabindra'],\n",
       "      dtype=object)"
      ]
     },
     "execution_count": 17,
     "metadata": {},
     "output_type": "execute_result"
    }
   ],
   "source": [
    "encoder.inverse_transform([0, 1, 2, 3, 4, 5])"
   ]
  },
  {
   "cell_type": "code",
   "execution_count": 18,
   "metadata": {},
   "outputs": [
    {
     "name": "stdout",
     "output_type": "stream",
     "text": [
      "(1393, 29) (349, 29)\n"
     ]
    }
   ],
   "source": [
    "print(X_train.shape, X_test.shape)"
   ]
  },
  {
   "cell_type": "markdown",
   "metadata": {},
   "source": [
    "# Model Training"
   ]
  },
  {
   "cell_type": "code",
   "execution_count": 19,
   "metadata": {},
   "outputs": [
    {
     "name": "stdout",
     "output_type": "stream",
     "text": [
      "WARNING:tensorflow:From E:\\Installs\\Anaconda\\lib\\site-packages\\tensorflow_core\\python\\ops\\resource_variable_ops.py:1630: calling BaseResourceVariable.__init__ (from tensorflow.python.ops.resource_variable_ops) with constraint is deprecated and will be removed in a future version.\n",
      "Instructions for updating:\n",
      "If using Keras pass *_constraint arguments to layers.\n",
      "Model: \"Bangla Music Genre Classifier\"\n",
      "_________________________________________________________________\n",
      "Layer (type)                 Output Shape              Param #   \n",
      "=================================================================\n",
      "First_Layer (Dense)          (None, 256)               7680      \n",
      "_________________________________________________________________\n",
      "dropout_1 (Dropout)          (None, 256)               0         \n",
      "_________________________________________________________________\n",
      "Second_Layer (Dense)         (None, 128)               32896     \n",
      "_________________________________________________________________\n",
      "dropout_2 (Dropout)          (None, 128)               0         \n",
      "_________________________________________________________________\n",
      "Third_Layer (Dense)          (None, 64)                8256      \n",
      "_________________________________________________________________\n",
      "dropout_3 (Dropout)          (None, 64)                0         \n",
      "_________________________________________________________________\n",
      "Fourth_Layer (Dense)         (None, 64)                4160      \n",
      "_________________________________________________________________\n",
      "dropout_4 (Dropout)          (None, 64)                0         \n",
      "_________________________________________________________________\n",
      "Output_Layer (Dense)         (None, 6)                 390       \n",
      "=================================================================\n",
      "Total params: 53,382\n",
      "Trainable params: 53,382\n",
      "Non-trainable params: 0\n",
      "_________________________________________________________________\n"
     ]
    }
   ],
   "source": [
    "# Creating model\n",
    "model = Sequential()\n",
    "model.name=\"Bangla Music Genre Classifier\"\n",
    "model.add(Dense(256, activation='relu', input_dim=29, name=\"First_Layer\", kernel_regularizer=l2(0.0001), bias_regularizer=l2(0.002)))\n",
    "model.add(Dropout(0.5))\n",
    "model.add(Dense(128, activation='relu', name=\"Second_Layer\", kernel_regularizer=l2(0.002), bias_regularizer=l2(0.0001)))\n",
    "model.add(Dropout(0.4))\n",
    "model.add(Dense(64, activation='relu', name=\"Third_Layer\", kernel_regularizer=l1(0.002), bias_regularizer=l2(0.001)))\n",
    "model.add(Dropout(0.4))\n",
    "model.add(Dense(64, activation='relu', name=\"Fourth_Layer\", kernel_regularizer=l2(0.001), bias_regularizer=l2(0.0001)))\n",
    "model.add(Dropout(0.4))\n",
    "model.add(Dense(6, activation='softmax', name=\"Output_Layer\", kernel_regularizer=l2(0.001), bias_regularizer=l2(0.002)))\n",
    "model.summary()"
   ]
  },
  {
   "cell_type": "code",
   "execution_count": 20,
   "metadata": {},
   "outputs": [
    {
     "name": "stdout",
     "output_type": "stream",
     "text": [
      "WARNING:tensorflow:From E:\\Installs\\Anaconda\\lib\\site-packages\\keras\\backend\\tensorflow_backend.py:422: The name tf.global_variables is deprecated. Please use tf.compat.v1.global_variables instead.\n",
      "\n",
      "Train on 1393 samples, validate on 349 samples\n",
      "Epoch 1/100\n",
      "1393/1393 [==============================] - 1s 383us/step - loss: 3.6833 - accuracy: 0.1888 - val_loss: 3.5251 - val_accuracy: 0.3352\n",
      "Epoch 2/100\n",
      "1393/1393 [==============================] - 0s 52us/step - loss: 3.5392 - accuracy: 0.2297 - val_loss: 3.4086 - val_accuracy: 0.4069\n",
      "Epoch 3/100\n",
      "1393/1393 [==============================] - 0s 47us/step - loss: 3.4101 - accuracy: 0.2735 - val_loss: 3.2806 - val_accuracy: 0.4069\n",
      "Epoch 4/100\n",
      "1393/1393 [==============================] - 0s 48us/step - loss: 3.3142 - accuracy: 0.2893 - val_loss: 3.1548 - val_accuracy: 0.4011\n",
      "Epoch 5/100\n",
      "1393/1393 [==============================] - 0s 65us/step - loss: 3.1878 - accuracy: 0.3338 - val_loss: 3.0295 - val_accuracy: 0.4298\n",
      "Epoch 6/100\n",
      "1393/1393 [==============================] - 0s 51us/step - loss: 3.1081 - accuracy: 0.3374 - val_loss: 2.9114 - val_accuracy: 0.4441\n",
      "Epoch 7/100\n",
      "1393/1393 [==============================] - 0s 59us/step - loss: 2.9689 - accuracy: 0.3877 - val_loss: 2.7958 - val_accuracy: 0.4613\n",
      "Epoch 8/100\n",
      "1393/1393 [==============================] - 0s 49us/step - loss: 2.8650 - accuracy: 0.4092 - val_loss: 2.6849 - val_accuracy: 0.4756\n",
      "Epoch 9/100\n",
      "1393/1393 [==============================] - 0s 48us/step - loss: 2.7485 - accuracy: 0.4358 - val_loss: 2.5816 - val_accuracy: 0.5014\n",
      "Epoch 10/100\n",
      "1393/1393 [==============================] - 0s 47us/step - loss: 2.6474 - accuracy: 0.4544 - val_loss: 2.4818 - val_accuracy: 0.5301\n",
      "Epoch 11/100\n",
      "1393/1393 [==============================] - 0s 48us/step - loss: 2.5743 - accuracy: 0.4695 - val_loss: 2.3879 - val_accuracy: 0.5587\n",
      "Epoch 12/100\n",
      "1393/1393 [==============================] - 0s 47us/step - loss: 2.4707 - accuracy: 0.5018 - val_loss: 2.3016 - val_accuracy: 0.5673\n",
      "Epoch 13/100\n",
      "1393/1393 [==============================] - 0s 49us/step - loss: 2.4335 - accuracy: 0.4795 - val_loss: 2.2225 - val_accuracy: 0.5788\n",
      "Epoch 14/100\n",
      "1393/1393 [==============================] - 0s 45us/step - loss: 2.3590 - accuracy: 0.4968 - val_loss: 2.1552 - val_accuracy: 0.5874\n",
      "Epoch 15/100\n",
      "1393/1393 [==============================] - 0s 44us/step - loss: 2.2692 - accuracy: 0.5255 - val_loss: 2.0900 - val_accuracy: 0.6017\n",
      "Epoch 16/100\n",
      "1393/1393 [==============================] - 0s 48us/step - loss: 2.1883 - accuracy: 0.5406 - val_loss: 2.0273 - val_accuracy: 0.6160\n",
      "Epoch 17/100\n",
      "1393/1393 [==============================] - 0s 44us/step - loss: 2.1427 - accuracy: 0.5528 - val_loss: 1.9583 - val_accuracy: 0.6218\n",
      "Epoch 18/100\n",
      "1393/1393 [==============================] - 0s 44us/step - loss: 2.0650 - accuracy: 0.5535 - val_loss: 1.8920 - val_accuracy: 0.6132\n",
      "Epoch 19/100\n",
      "1393/1393 [==============================] - 0s 47us/step - loss: 2.0599 - accuracy: 0.5406 - val_loss: 1.8461 - val_accuracy: 0.6332\n",
      "Epoch 20/100\n",
      "1393/1393 [==============================] - 0s 48us/step - loss: 1.9635 - accuracy: 0.5944 - val_loss: 1.7995 - val_accuracy: 0.6332\n",
      "Epoch 21/100\n",
      "1393/1393 [==============================] - 0s 43us/step - loss: 1.8995 - accuracy: 0.5937 - val_loss: 1.7451 - val_accuracy: 0.6189\n",
      "Epoch 22/100\n",
      "1393/1393 [==============================] - 0s 44us/step - loss: 1.8618 - accuracy: 0.5908 - val_loss: 1.6990 - val_accuracy: 0.6246\n",
      "Epoch 23/100\n",
      "1393/1393 [==============================] - 0s 47us/step - loss: 1.8161 - accuracy: 0.6016 - val_loss: 1.6524 - val_accuracy: 0.6304\n",
      "Epoch 24/100\n",
      "1393/1393 [==============================] - 0s 51us/step - loss: 1.7648 - accuracy: 0.6116 - val_loss: 1.6099 - val_accuracy: 0.6447\n",
      "Epoch 25/100\n",
      "1393/1393 [==============================] - 0s 45us/step - loss: 1.7284 - accuracy: 0.5858 - val_loss: 1.5669 - val_accuracy: 0.6447\n",
      "Epoch 26/100\n",
      "1393/1393 [==============================] - 0s 47us/step - loss: 1.7031 - accuracy: 0.6138 - val_loss: 1.5306 - val_accuracy: 0.6562\n",
      "Epoch 27/100\n",
      "1393/1393 [==============================] - 0s 52us/step - loss: 1.6750 - accuracy: 0.6281 - val_loss: 1.5057 - val_accuracy: 0.6504\n",
      "Epoch 28/100\n",
      "1393/1393 [==============================] - 0s 50us/step - loss: 1.6150 - accuracy: 0.6274 - val_loss: 1.4781 - val_accuracy: 0.6619\n",
      "Epoch 29/100\n",
      "1393/1393 [==============================] - 0s 48us/step - loss: 1.5917 - accuracy: 0.6368 - val_loss: 1.4539 - val_accuracy: 0.6504\n",
      "Epoch 30/100\n",
      "1393/1393 [==============================] - 0s 49us/step - loss: 1.5621 - accuracy: 0.6403 - val_loss: 1.4290 - val_accuracy: 0.6447\n",
      "Epoch 31/100\n",
      "1393/1393 [==============================] - 0s 47us/step - loss: 1.5449 - accuracy: 0.6468 - val_loss: 1.4104 - val_accuracy: 0.6418\n",
      "Epoch 32/100\n",
      "1393/1393 [==============================] - 0s 47us/step - loss: 1.5167 - accuracy: 0.6368 - val_loss: 1.3920 - val_accuracy: 0.6562\n",
      "Epoch 33/100\n",
      "1393/1393 [==============================] - 0s 46us/step - loss: 1.4827 - accuracy: 0.6518 - val_loss: 1.3677 - val_accuracy: 0.6619\n",
      "Epoch 34/100\n",
      "1393/1393 [==============================] - 0s 45us/step - loss: 1.4424 - accuracy: 0.6525 - val_loss: 1.3496 - val_accuracy: 0.6619\n",
      "Epoch 35/100\n",
      "1393/1393 [==============================] - 0s 48us/step - loss: 1.4433 - accuracy: 0.6439 - val_loss: 1.3280 - val_accuracy: 0.6705\n",
      "Epoch 36/100\n",
      "1393/1393 [==============================] - 0s 45us/step - loss: 1.3969 - accuracy: 0.6648 - val_loss: 1.3128 - val_accuracy: 0.6648\n",
      "Epoch 37/100\n",
      "1393/1393 [==============================] - 0s 42us/step - loss: 1.3830 - accuracy: 0.6533 - val_loss: 1.3012 - val_accuracy: 0.6734\n",
      "Epoch 38/100\n",
      "1393/1393 [==============================] - 0s 44us/step - loss: 1.3820 - accuracy: 0.6712 - val_loss: 1.2892 - val_accuracy: 0.6562\n",
      "Epoch 39/100\n",
      "1393/1393 [==============================] - 0s 45us/step - loss: 1.3657 - accuracy: 0.6648 - val_loss: 1.2871 - val_accuracy: 0.6705\n",
      "Epoch 40/100\n",
      "1393/1393 [==============================] - 0s 45us/step - loss: 1.3619 - accuracy: 0.6655 - val_loss: 1.2593 - val_accuracy: 0.6705\n",
      "Epoch 41/100\n",
      "1393/1393 [==============================] - 0s 45us/step - loss: 1.3453 - accuracy: 0.6640 - val_loss: 1.2503 - val_accuracy: 0.6762\n",
      "Epoch 42/100\n",
      "1393/1393 [==============================] - 0s 46us/step - loss: 1.2995 - accuracy: 0.6719 - val_loss: 1.2390 - val_accuracy: 0.6791\n",
      "Epoch 43/100\n",
      "1393/1393 [==============================] - 0s 46us/step - loss: 1.2974 - accuracy: 0.6676 - val_loss: 1.2255 - val_accuracy: 0.6791\n",
      "Epoch 44/100\n",
      "1393/1393 [==============================] - 0s 43us/step - loss: 1.2836 - accuracy: 0.6798 - val_loss: 1.2161 - val_accuracy: 0.6734\n",
      "Epoch 45/100\n",
      "1393/1393 [==============================] - 0s 47us/step - loss: 1.2354 - accuracy: 0.6820 - val_loss: 1.2101 - val_accuracy: 0.6848\n",
      "Epoch 46/100\n",
      "1393/1393 [==============================] - 0s 44us/step - loss: 1.2677 - accuracy: 0.6798 - val_loss: 1.2040 - val_accuracy: 0.6819\n",
      "Epoch 47/100\n",
      "1393/1393 [==============================] - 0s 47us/step - loss: 1.2194 - accuracy: 0.6942 - val_loss: 1.1917 - val_accuracy: 0.6762\n",
      "Epoch 48/100\n",
      "1393/1393 [==============================] - 0s 45us/step - loss: 1.2397 - accuracy: 0.6849 - val_loss: 1.1789 - val_accuracy: 0.6705\n",
      "Epoch 49/100\n",
      "1393/1393 [==============================] - 0s 45us/step - loss: 1.1822 - accuracy: 0.6978 - val_loss: 1.1703 - val_accuracy: 0.6905\n",
      "Epoch 50/100\n",
      "1393/1393 [==============================] - 0s 45us/step - loss: 1.2319 - accuracy: 0.6863 - val_loss: 1.1736 - val_accuracy: 0.6848\n",
      "Epoch 51/100\n",
      "1393/1393 [==============================] - 0s 45us/step - loss: 1.1736 - accuracy: 0.7021 - val_loss: 1.1618 - val_accuracy: 0.6877\n",
      "Epoch 52/100\n",
      "1393/1393 [==============================] - 0s 44us/step - loss: 1.2387 - accuracy: 0.6748 - val_loss: 1.1517 - val_accuracy: 0.6848\n",
      "Epoch 53/100\n",
      "1393/1393 [==============================] - 0s 44us/step - loss: 1.1691 - accuracy: 0.6992 - val_loss: 1.1580 - val_accuracy: 0.6905\n",
      "Epoch 54/100\n",
      "1393/1393 [==============================] - 0s 43us/step - loss: 1.2072 - accuracy: 0.6791 - val_loss: 1.1405 - val_accuracy: 0.6934\n",
      "Epoch 55/100\n"
     ]
    },
    {
     "name": "stdout",
     "output_type": "stream",
     "text": [
      "1393/1393 [==============================] - 0s 44us/step - loss: 1.1698 - accuracy: 0.6971 - val_loss: 1.1320 - val_accuracy: 0.6848\n",
      "Epoch 56/100\n",
      "1393/1393 [==============================] - 0s 44us/step - loss: 1.1618 - accuracy: 0.6971 - val_loss: 1.1340 - val_accuracy: 0.6934\n",
      "Epoch 57/100\n",
      "1393/1393 [==============================] - 0s 43us/step - loss: 1.1224 - accuracy: 0.7143 - val_loss: 1.1244 - val_accuracy: 0.6991\n",
      "Epoch 58/100\n",
      "1393/1393 [==============================] - 0s 47us/step - loss: 1.1400 - accuracy: 0.7064 - val_loss: 1.1227 - val_accuracy: 0.6877\n",
      "Epoch 59/100\n",
      "1393/1393 [==============================] - 0s 48us/step - loss: 1.1278 - accuracy: 0.6971 - val_loss: 1.1206 - val_accuracy: 0.6905\n",
      "Epoch 60/100\n",
      "1393/1393 [==============================] - 0s 49us/step - loss: 1.1345 - accuracy: 0.7071 - val_loss: 1.1098 - val_accuracy: 0.7020\n",
      "Epoch 61/100\n",
      "1393/1393 [==============================] - 0s 50us/step - loss: 1.1085 - accuracy: 0.7193 - val_loss: 1.1059 - val_accuracy: 0.6934\n",
      "Epoch 62/100\n",
      "1393/1393 [==============================] - 0s 46us/step - loss: 1.1260 - accuracy: 0.7136 - val_loss: 1.1027 - val_accuracy: 0.6905\n",
      "Epoch 63/100\n",
      "1393/1393 [==============================] - 0s 44us/step - loss: 1.1088 - accuracy: 0.7078 - val_loss: 1.0993 - val_accuracy: 0.6991\n",
      "Epoch 64/100\n",
      "1393/1393 [==============================] - 0s 45us/step - loss: 1.1093 - accuracy: 0.7042 - val_loss: 1.0930 - val_accuracy: 0.6963\n",
      "Epoch 65/100\n",
      "1393/1393 [==============================] - 0s 44us/step - loss: 1.1049 - accuracy: 0.7121 - val_loss: 1.0862 - val_accuracy: 0.7049\n",
      "Epoch 66/100\n",
      "1393/1393 [==============================] - 0s 44us/step - loss: 1.0927 - accuracy: 0.7136 - val_loss: 1.0903 - val_accuracy: 0.7049\n",
      "Epoch 67/100\n",
      "1393/1393 [==============================] - 0s 47us/step - loss: 1.0960 - accuracy: 0.7164 - val_loss: 1.0867 - val_accuracy: 0.7020\n",
      "Epoch 68/100\n",
      "1393/1393 [==============================] - 0s 44us/step - loss: 1.0652 - accuracy: 0.7373 - val_loss: 1.0752 - val_accuracy: 0.7077\n",
      "Epoch 69/100\n",
      "1393/1393 [==============================] - 0s 42us/step - loss: 1.0680 - accuracy: 0.7337 - val_loss: 1.0735 - val_accuracy: 0.7135\n",
      "Epoch 70/100\n",
      "1393/1393 [==============================] - 0s 46us/step - loss: 1.0680 - accuracy: 0.7294 - val_loss: 1.0651 - val_accuracy: 0.7106\n",
      "Epoch 71/100\n",
      "1393/1393 [==============================] - 0s 44us/step - loss: 1.0590 - accuracy: 0.7308 - val_loss: 1.0575 - val_accuracy: 0.7049\n",
      "Epoch 72/100\n",
      "1393/1393 [==============================] - 0s 49us/step - loss: 1.0430 - accuracy: 0.7243 - val_loss: 1.0568 - val_accuracy: 0.7221\n",
      "Epoch 73/100\n",
      "1393/1393 [==============================] - 0s 57us/step - loss: 1.0901 - accuracy: 0.7193 - val_loss: 1.0513 - val_accuracy: 0.7077\n",
      "Epoch 74/100\n",
      "1393/1393 [==============================] - 0s 53us/step - loss: 1.0367 - accuracy: 0.7423 - val_loss: 1.0622 - val_accuracy: 0.7077\n",
      "Epoch 75/100\n",
      "1393/1393 [==============================] - 0s 61us/step - loss: 1.0363 - accuracy: 0.7344 - val_loss: 1.0644 - val_accuracy: 0.7020\n",
      "Epoch 76/100\n",
      "1393/1393 [==============================] - 0s 58us/step - loss: 1.0508 - accuracy: 0.7265 - val_loss: 1.0517 - val_accuracy: 0.7106\n",
      "Epoch 77/100\n",
      "1393/1393 [==============================] - 0s 60us/step - loss: 1.0200 - accuracy: 0.7373 - val_loss: 1.0495 - val_accuracy: 0.7106\n",
      "Epoch 78/100\n",
      "1393/1393 [==============================] - 0s 49us/step - loss: 1.0292 - accuracy: 0.7322 - val_loss: 1.0504 - val_accuracy: 0.7077\n",
      "Epoch 79/100\n",
      "1393/1393 [==============================] - 0s 49us/step - loss: 1.0433 - accuracy: 0.7408 - val_loss: 1.0480 - val_accuracy: 0.7077\n",
      "Epoch 80/100\n",
      "1393/1393 [==============================] - 0s 49us/step - loss: 1.0386 - accuracy: 0.7380 - val_loss: 1.0463 - val_accuracy: 0.7135\n",
      "Epoch 81/100\n",
      "1393/1393 [==============================] - 0s 45us/step - loss: 0.9989 - accuracy: 0.7566 - val_loss: 1.0516 - val_accuracy: 0.6991\n",
      "Epoch 82/100\n",
      "1393/1393 [==============================] - 0s 42us/step - loss: 1.0196 - accuracy: 0.7559 - val_loss: 1.0523 - val_accuracy: 0.7192\n",
      "Epoch 83/100\n",
      "1393/1393 [==============================] - 0s 44us/step - loss: 0.9982 - accuracy: 0.7394 - val_loss: 1.0452 - val_accuracy: 0.7077\n",
      "Epoch 84/100\n",
      "1393/1393 [==============================] - 0s 45us/step - loss: 1.0307 - accuracy: 0.7243 - val_loss: 1.0395 - val_accuracy: 0.7106\n",
      "Epoch 85/100\n",
      "1393/1393 [==============================] - 0s 44us/step - loss: 0.9843 - accuracy: 0.7452 - val_loss: 1.0424 - val_accuracy: 0.7135\n",
      "Epoch 86/100\n",
      "1393/1393 [==============================] - 0s 47us/step - loss: 0.9741 - accuracy: 0.7559 - val_loss: 1.0399 - val_accuracy: 0.7135\n",
      "Epoch 87/100\n",
      "1393/1393 [==============================] - 0s 44us/step - loss: 0.9940 - accuracy: 0.7480 - val_loss: 1.0289 - val_accuracy: 0.7135\n",
      "Epoch 88/100\n",
      "1393/1393 [==============================] - 0s 44us/step - loss: 0.9757 - accuracy: 0.7480 - val_loss: 1.0278 - val_accuracy: 0.7192\n",
      "Epoch 89/100\n",
      "1393/1393 [==============================] - 0s 46us/step - loss: 0.9930 - accuracy: 0.7523 - val_loss: 1.0250 - val_accuracy: 0.7106\n",
      "Epoch 90/100\n",
      "1393/1393 [==============================] - 0s 47us/step - loss: 0.9742 - accuracy: 0.7566 - val_loss: 1.0328 - val_accuracy: 0.7163\n",
      "Epoch 91/100\n",
      "1393/1393 [==============================] - 0s 70us/step - loss: 0.9606 - accuracy: 0.7552 - val_loss: 1.0348 - val_accuracy: 0.7163\n",
      "Epoch 92/100\n",
      "1393/1393 [==============================] - 0s 63us/step - loss: 0.9651 - accuracy: 0.7480 - val_loss: 1.0257 - val_accuracy: 0.7135\n",
      "Epoch 93/100\n",
      "1393/1393 [==============================] - 0s 71us/step - loss: 0.9855 - accuracy: 0.7416 - val_loss: 1.0212 - val_accuracy: 0.7221\n",
      "Epoch 94/100\n",
      "1393/1393 [==============================] - 0s 52us/step - loss: 0.9563 - accuracy: 0.7609 - val_loss: 1.0232 - val_accuracy: 0.7249\n",
      "Epoch 95/100\n",
      "1393/1393 [==============================] - 0s 50us/step - loss: 0.9516 - accuracy: 0.7574 - val_loss: 1.0236 - val_accuracy: 0.7192\n",
      "Epoch 96/100\n",
      "1393/1393 [==============================] - 0s 50us/step - loss: 0.9657 - accuracy: 0.7516 - val_loss: 1.0268 - val_accuracy: 0.7307\n",
      "Epoch 97/100\n",
      "1393/1393 [==============================] - 0s 46us/step - loss: 0.9372 - accuracy: 0.7645 - val_loss: 1.0217 - val_accuracy: 0.7192\n",
      "Epoch 98/100\n",
      "1393/1393 [==============================] - 0s 46us/step - loss: 0.9503 - accuracy: 0.7602 - val_loss: 1.0163 - val_accuracy: 0.7192\n",
      "Epoch 99/100\n",
      "1393/1393 [==============================] - 0s 47us/step - loss: 0.9535 - accuracy: 0.7609 - val_loss: 1.0244 - val_accuracy: 0.7163\n",
      "Epoch 100/100\n",
      "1393/1393 [==============================] - 0s 43us/step - loss: 0.9394 - accuracy: 0.7638 - val_loss: 1.0246 - val_accuracy: 0.7221\n"
     ]
    }
   ],
   "source": [
    "model.compile(optimizer='adam', loss='sparse_categorical_crossentropy', metrics=['accuracy'])\n",
    "\n",
    "history = model.fit(X_train, y_train, batch_size=200, validation_data=(X_test, y_test), validation_split=0.2, epochs=100)"
   ]
  },
  {
   "cell_type": "code",
   "execution_count": 21,
   "metadata": {},
   "outputs": [
    {
     "data": {
      "text/plain": [
       "array([5, 2, 4, 3, 1, 3, 3, 3, 3, 1, 5, 3, 0, 0, 1, 4, 5, 0, 0, 5, 0, 1,\n",
       "       2, 4, 2, 5, 5, 2, 3, 0, 2, 0, 5, 0, 3, 1, 2, 4, 2, 4, 3, 4, 4, 1,\n",
       "       4, 2, 3, 2, 1, 5, 0, 4, 4, 3, 1, 0, 5, 2, 2, 2, 2, 5, 1, 3, 2, 2,\n",
       "       5, 5, 2, 4, 3, 3, 0, 5, 1, 3, 3, 5, 2, 2, 4, 1, 5, 3, 2, 3, 3, 1,\n",
       "       5, 1, 2, 0, 4, 4, 2, 0, 2, 3, 5, 1, 0, 2, 2, 5, 4, 3, 3, 0, 5, 4,\n",
       "       2, 0, 1, 0, 1, 5, 0, 0, 5, 2, 0, 5, 3, 5, 3, 0, 5, 3, 4, 1, 4, 5,\n",
       "       3, 2, 5, 0, 3, 3, 3, 3, 2, 0, 2, 1, 4, 3, 2, 1, 2, 0, 2, 1, 4, 2,\n",
       "       5, 4, 0, 1, 2, 1, 5, 3, 0, 5, 5, 1, 4, 3, 2, 1, 4, 1, 4, 4, 5, 0,\n",
       "       2, 1, 0, 1, 2, 4, 2, 4, 1, 4, 3, 3, 4, 5, 2, 3, 3, 1, 1, 3, 4, 4,\n",
       "       4, 4, 0, 5, 5, 0, 5, 2, 3, 0, 5, 3, 0, 5, 4, 2, 0, 2, 0, 3, 5, 3,\n",
       "       2, 0, 5, 4, 5, 5, 1, 1, 5, 3, 5, 1, 5, 3, 1, 0, 4, 5, 2, 3, 3, 4,\n",
       "       5, 1, 4, 4, 0, 5, 0, 1, 2, 2, 3, 1, 0, 5, 0, 2, 2, 1, 4, 5, 4, 3,\n",
       "       1, 2, 5, 5, 3, 2, 3, 3, 1, 5, 4, 2, 1, 0, 1, 3, 0, 1, 0, 0, 3, 2,\n",
       "       1, 0, 2, 3, 1, 2, 2, 4, 2, 2, 5, 0, 2, 5, 3, 1, 2, 1, 2, 4, 1, 3,\n",
       "       4, 3, 5, 3, 1, 3, 0, 2, 4, 2, 4, 0, 2, 2, 0, 5, 2, 5, 5, 4, 3, 0,\n",
       "       3, 3, 0, 5, 3, 2, 0, 3, 4, 1, 0, 2, 0, 5, 2, 0, 4, 2, 1],\n",
       "      dtype=int64)"
      ]
     },
     "execution_count": 21,
     "metadata": {},
     "output_type": "execute_result"
    }
   ],
   "source": [
    "y_predict = model.predict_classes(X_test)\n",
    "y_predict"
   ]
  },
  {
   "cell_type": "code",
   "execution_count": 22,
   "metadata": {},
   "outputs": [
    {
     "data": {
      "text/plain": [
       "dict_keys(['val_loss', 'val_accuracy', 'loss', 'accuracy'])"
      ]
     },
     "execution_count": 22,
     "metadata": {},
     "output_type": "execute_result"
    }
   ],
   "source": [
    "history.history.keys()"
   ]
  },
  {
   "cell_type": "code",
   "execution_count": 23,
   "metadata": {},
   "outputs": [
    {
     "name": "stdout",
     "output_type": "stream",
     "text": [
      "349/349 [==============================] - 0s 52us/step\n",
      "1.024580137948252 0.7220630645751953\n"
     ]
    }
   ],
   "source": [
    "score, acc = model.evaluate(X_test, y_test)\n",
    "print(score, acc)"
   ]
  },
  {
   "cell_type": "markdown",
   "metadata": {},
   "source": [
    "# Visualization"
   ]
  },
  {
   "cell_type": "code",
   "execution_count": 24,
   "metadata": {},
   "outputs": [
    {
     "data": {
      "image/png": "[encoded data removed]",
      "text/plain": [
       "<Figure size 432x288 with 1 Axes>"
      ]
     },
     "metadata": {
      "needs_background": "light"
     },
     "output_type": "display_data"
    }
   ],
   "source": [
    "# Summarize history for accuracy\n",
    "plt.plot(history.history['accuracy'])\n",
    "plt.plot(history.history['val_accuracy'])\n",
    "plt.title('Train vs Validation Accuracy')\n",
    "plt.ylabel('accuracy')\n",
    "plt.xlabel('epoch')\n",
    "plt.legend(['training accuracy', 'validation accuracy'], loc='lower right')\n",
    "plt.show()"
   ]
  },
  {
   "cell_type": "code",
   "execution_count": 25,
   "metadata": {},
   "outputs": [
    {
     "data": {
      "image/png": "[encoded data removed]",
      "text/plain": [
       "<Figure size 432x288 with 1 Axes>"
      ]
     },
     "metadata": {
      "needs_background": "light"
     },
     "output_type": "display_data"
    }
   ],
   "source": [
    "# Summarize history for loss\n",
    "plt.plot(history.history['loss'])\n",
    "plt.plot(history.history['val_loss'])\n",
    "plt.title('Train Loss vs Validation Loss')\n",
    "plt.ylabel('loss')\n",
    "plt.xlabel('epoch')\n",
    "plt.legend(['training loss', 'vaidation loss'], loc='upper right')\n",
    "plt.show()"
   ]
  },
  {
   "cell_type": "code",
   "execution_count": 26,
   "metadata": {},
   "outputs": [
    {
     "data": {
      "text/plain": [
       "dict_keys(['val_loss', 'val_accuracy', 'loss', 'accuracy'])"
      ]
     },
     "execution_count": 26,
     "metadata": {},
     "output_type": "execute_result"
    }
   ],
   "source": [
    "history.history.keys()"
   ]
  },
  {
   "cell_type": "code",
   "execution_count": 27,
   "metadata": {},
   "outputs": [
    {
     "data": {
      "text/plain": [
       "<matplotlib.axes._subplots.AxesSubplot at 0x211e8f72780>"
      ]
     },
     "execution_count": 27,
     "metadata": {},
     "output_type": "execute_result"
    },
    {
     "data": {
      "image/png": "[encoded data removed]",
      "text/plain": [
       "<Figure size 432x288 with 2 Axes>"
      ]
     },
     "metadata": {
      "needs_background": "light"
     },
     "output_type": "display_data"
    }
   ],
   "source": [
    "# Confusion Matrix\n",
    "con_mat = confusion_matrix(y_test, y_predict)\n",
    "df_cm = pd.DataFrame(con_mat, columns=encoder.classes_, index=encoder.classes_)\n",
    "sn.heatmap(df_cm, annot=True)"
   ]
  },
  {
   "cell_type": "code",
   "execution_count": 28,
   "metadata": {},
   "outputs": [
    {
     "name": "stdout",
     "output_type": "stream",
     "text": [
      "              precision    recall  f1-score   support\n",
      "\n",
      "     adhunik       0.75      0.63      0.68        65\n",
      "        band       0.71      0.78      0.74        46\n",
      "      hiphop       0.81      0.90      0.85        62\n",
      "      nazrul       0.80      0.73      0.76        70\n",
      "  palligeeti       0.66      0.63      0.65        52\n",
      "    rabindra       0.58      0.65      0.61        54\n",
      "\n",
      "    accuracy                           0.72       349\n",
      "   macro avg       0.72      0.72      0.72       349\n",
      "weighted avg       0.72      0.72      0.72       349\n",
      "\n"
     ]
    }
   ],
   "source": [
    "print(classification_report(y_test, y_predict, target_names=encoder.classes_))"
   ]
  },
  {
   "cell_type": "code",
   "execution_count": 29,
   "metadata": {},
   "outputs": [
    {
     "name": "stdout",
     "output_type": "stream",
     "text": [
      "Total:  349 True:  252 False:  97\n"
     ]
    }
   ],
   "source": [
    "false = 0\n",
    "true = 0\n",
    "for i in range(len(y_predict)):\n",
    "    if y_predict[i] == y_test[i]:\n",
    "        true += 1\n",
    "    else:\n",
    "        false += 1\n",
    "print('Total: ', false + true, 'True: ', true, 'False: ', false)"
   ]
  }
 ],
 "metadata": {
  "kernelspec": {
   "display_name": "Python 3",
   "language": "python",
   "name": "python3"
  },
  "language_info": {
   "codemirror_mode": {
    "name": "ipython",
    "version": 3
   },
   "file_extension": ".py",
   "mimetype": "text/x-python",
   "name": "python",
   "nbconvert_exporter": "python",
   "pygments_lexer": "ipython3",
   "version": "3.7.3"
  }
 },
 "nbformat": 4,
 "nbformat_minor": 2
}
