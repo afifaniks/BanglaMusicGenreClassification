{
 "cells": [
  {
   "cell_type": "markdown",
   "metadata": {},
   "source": [
    "<h2 style=\"color: green\">Testing Extracted Features w/ LR</h2>\n",
    "Author: [Afif Al Mamun](https://afifaniks.github.io)<br>\n",
    "Date: 5 July, 2019\n",
    "\n",
    "Tested for three classes.\n",
    "0 : Band Music\n",
    "1 : Nazrul Sangeet\n",
    "2 : Hiphop\n",
    "3 : Lokogeeti\n",
    "4 : Polligeeti\n",
    "5 : Pop\n",
    "6 : Rabindra Sangeet"
   ]
  },
  {
   "cell_type": "code",
   "execution_count": 1,
   "metadata": {},
   "outputs": [],
   "source": [
    "from sklearn.preprocessing import LabelEncoder\n",
    "from sklearn.linear_model import LogisticRegression \n",
    "from sklearn.model_selection import train_test_split\n",
    "from sklearn.svm import SVC\n",
    "import pandas as pd\n",
    "import pickle\n",
    "from tqdm import tqdm_notebook as tqdm"
   ]
  },
  {
   "cell_type": "code",
   "execution_count": 2,
   "metadata": {},
   "outputs": [],
   "source": [
    "df = pd.read_csv('dataset.csv', encoding='latin-1')"
   ]
  },
  {
   "cell_type": "code",
   "execution_count": 3,
   "metadata": {
    "scrolled": true
   },
   "outputs": [],
   "source": [
    "# X = df[df.label != 'bandsongs']\n",
    "# X = df[df.label != 'lokogeeti']\n",
    "y = df['label']\n",
    "X = df.drop(['file_name', 'label'], axis=1)\n",
    "le = LabelEncoder()\n",
    "\n",
    "y = le.fit_transform(y)"
   ]
  },
  {
   "cell_type": "code",
   "execution_count": 4,
   "metadata": {},
   "outputs": [],
   "source": [
    "def save_model(model):\n",
    "    # Saving the model\n",
    "    model_name = 'lr_model.sav'\n",
    "\n",
    "    with open(model_name, 'wb') as file:\n",
    "        pickle.dump(model, file)\n",
    "        print(\"Model Saved!\")"
   ]
  },
  {
   "cell_type": "code",
   "execution_count": 5,
   "metadata": {},
   "outputs": [],
   "source": [
    "def get_best_fit():\n",
    "    \n",
    "    best_fit = 0\n",
    "    \n",
    "    for i in range(100):\n",
    "        X_train, X_test, y_train, y_test = train_test_split(X, y, train_size=0.85)\n",
    "        model = LogisticRegression()\n",
    "\n",
    "        model.fit(X_train, y_train)\n",
    "        score = model.score(X_test, y_test)\n",
    "        \n",
    "        if score > best_fit:\n",
    "            save_model(model)\n",
    "            best_fit = score\n",
    "        print(\"Accuracy:\", score*100, \"%\", \"Best:\", best_fit*100)"
   ]
  },
  {
   "cell_type": "code",
   "execution_count": 6,
   "metadata": {},
   "outputs": [
    {
     "name": "stderr",
     "output_type": "stream",
     "text": [
      "E:\\Installs\\Anaconda\\lib\\site-packages\\sklearn\\linear_model\\logistic.py:432: FutureWarning: Default solver will be changed to 'lbfgs' in 0.22. Specify a solver to silence this warning.\n",
      "  FutureWarning)\n",
      "E:\\Installs\\Anaconda\\lib\\site-packages\\sklearn\\linear_model\\logistic.py:469: FutureWarning: Default multi_class will be changed to 'auto' in 0.22. Specify the multi_class option to silence this warning.\n",
      "  \"this warning.\", FutureWarning)\n"
     ]
    },
    {
     "name": "stdout",
     "output_type": "stream",
     "text": [
      "Model Saved!\n",
      "Accuracy: 62.59541984732825 % Best: 62.59541984732825\n"
     ]
    },
    {
     "name": "stderr",
     "output_type": "stream",
     "text": [
      "E:\\Installs\\Anaconda\\lib\\site-packages\\sklearn\\linear_model\\logistic.py:432: FutureWarning: Default solver will be changed to 'lbfgs' in 0.22. Specify a solver to silence this warning.\n",
      "  FutureWarning)\n",
      "E:\\Installs\\Anaconda\\lib\\site-packages\\sklearn\\linear_model\\logistic.py:469: FutureWarning: Default multi_class will be changed to 'auto' in 0.22. Specify the multi_class option to silence this warning.\n",
      "  \"this warning.\", FutureWarning)\n"
     ]
    },
    {
     "name": "stdout",
     "output_type": "stream",
     "text": [
      "Model Saved!\n",
      "Accuracy: 66.03053435114504 % Best: 66.03053435114504\n"
     ]
    },
    {
     "name": "stderr",
     "output_type": "stream",
     "text": [
      "E:\\Installs\\Anaconda\\lib\\site-packages\\sklearn\\linear_model\\logistic.py:432: FutureWarning: Default solver will be changed to 'lbfgs' in 0.22. Specify a solver to silence this warning.\n",
      "  FutureWarning)\n",
      "E:\\Installs\\Anaconda\\lib\\site-packages\\sklearn\\linear_model\\logistic.py:469: FutureWarning: Default multi_class will be changed to 'auto' in 0.22. Specify the multi_class option to silence this warning.\n",
      "  \"this warning.\", FutureWarning)\n"
     ]
    },
    {
     "name": "stdout",
     "output_type": "stream",
     "text": [
      "Accuracy: 63.74045801526718 % Best: 66.03053435114504\n"
     ]
    },
    {
     "name": "stderr",
     "output_type": "stream",
     "text": [
      "E:\\Installs\\Anaconda\\lib\\site-packages\\sklearn\\linear_model\\logistic.py:432: FutureWarning: Default solver will be changed to 'lbfgs' in 0.22. Specify a solver to silence this warning.\n",
      "  FutureWarning)\n",
      "E:\\Installs\\Anaconda\\lib\\site-packages\\sklearn\\linear_model\\logistic.py:469: FutureWarning: Default multi_class will be changed to 'auto' in 0.22. Specify the multi_class option to silence this warning.\n",
      "  \"this warning.\", FutureWarning)\n"
     ]
    },
    {
     "name": "stdout",
     "output_type": "stream",
     "text": [
      "Accuracy: 57.63358778625955 % Best: 66.03053435114504\n"
     ]
    },
    {
     "name": "stderr",
     "output_type": "stream",
     "text": [
      "E:\\Installs\\Anaconda\\lib\\site-packages\\sklearn\\linear_model\\logistic.py:432: FutureWarning: Default solver will be changed to 'lbfgs' in 0.22. Specify a solver to silence this warning.\n",
      "  FutureWarning)\n",
      "E:\\Installs\\Anaconda\\lib\\site-packages\\sklearn\\linear_model\\logistic.py:469: FutureWarning: Default multi_class will be changed to 'auto' in 0.22. Specify the multi_class option to silence this warning.\n",
      "  \"this warning.\", FutureWarning)\n"
     ]
    },
    {
     "name": "stdout",
     "output_type": "stream",
     "text": [
      "Accuracy: 58.396946564885496 % Best: 66.03053435114504\n"
     ]
    },
    {
     "name": "stderr",
     "output_type": "stream",
     "text": [
      "E:\\Installs\\Anaconda\\lib\\site-packages\\sklearn\\linear_model\\logistic.py:432: FutureWarning: Default solver will be changed to 'lbfgs' in 0.22. Specify a solver to silence this warning.\n",
      "  FutureWarning)\n",
      "E:\\Installs\\Anaconda\\lib\\site-packages\\sklearn\\linear_model\\logistic.py:469: FutureWarning: Default multi_class will be changed to 'auto' in 0.22. Specify the multi_class option to silence this warning.\n",
      "  \"this warning.\", FutureWarning)\n"
     ]
    },
    {
     "name": "stdout",
     "output_type": "stream",
     "text": [
      "Accuracy: 62.59541984732825 % Best: 66.03053435114504\n"
     ]
    },
    {
     "name": "stderr",
     "output_type": "stream",
     "text": [
      "E:\\Installs\\Anaconda\\lib\\site-packages\\sklearn\\linear_model\\logistic.py:432: FutureWarning: Default solver will be changed to 'lbfgs' in 0.22. Specify a solver to silence this warning.\n",
      "  FutureWarning)\n",
      "E:\\Installs\\Anaconda\\lib\\site-packages\\sklearn\\linear_model\\logistic.py:469: FutureWarning: Default multi_class will be changed to 'auto' in 0.22. Specify the multi_class option to silence this warning.\n",
      "  \"this warning.\", FutureWarning)\n"
     ]
    },
    {
     "name": "stdout",
     "output_type": "stream",
     "text": [
      "Accuracy: 64.12213740458014 % Best: 66.03053435114504\n"
     ]
    },
    {
     "name": "stderr",
     "output_type": "stream",
     "text": [
      "E:\\Installs\\Anaconda\\lib\\site-packages\\sklearn\\linear_model\\logistic.py:432: FutureWarning: Default solver will be changed to 'lbfgs' in 0.22. Specify a solver to silence this warning.\n",
      "  FutureWarning)\n",
      "E:\\Installs\\Anaconda\\lib\\site-packages\\sklearn\\linear_model\\logistic.py:469: FutureWarning: Default multi_class will be changed to 'auto' in 0.22. Specify the multi_class option to silence this warning.\n",
      "  \"this warning.\", FutureWarning)\n"
     ]
    },
    {
     "name": "stdout",
     "output_type": "stream",
     "text": [
      "Model Saved!\n",
      "Accuracy: 66.41221374045801 % Best: 66.41221374045801\n"
     ]
    },
    {
     "name": "stderr",
     "output_type": "stream",
     "text": [
      "E:\\Installs\\Anaconda\\lib\\site-packages\\sklearn\\linear_model\\logistic.py:432: FutureWarning: Default solver will be changed to 'lbfgs' in 0.22. Specify a solver to silence this warning.\n",
      "  FutureWarning)\n",
      "E:\\Installs\\Anaconda\\lib\\site-packages\\sklearn\\linear_model\\logistic.py:469: FutureWarning: Default multi_class will be changed to 'auto' in 0.22. Specify the multi_class option to silence this warning.\n",
      "  \"this warning.\", FutureWarning)\n"
     ]
    },
    {
     "name": "stdout",
     "output_type": "stream",
     "text": [
      "Accuracy: 61.832061068702295 % Best: 66.41221374045801\n"
     ]
    },
    {
     "name": "stderr",
     "output_type": "stream",
     "text": [
      "E:\\Installs\\Anaconda\\lib\\site-packages\\sklearn\\linear_model\\logistic.py:432: FutureWarning: Default solver will be changed to 'lbfgs' in 0.22. Specify a solver to silence this warning.\n",
      "  FutureWarning)\n",
      "E:\\Installs\\Anaconda\\lib\\site-packages\\sklearn\\linear_model\\logistic.py:469: FutureWarning: Default multi_class will be changed to 'auto' in 0.22. Specify the multi_class option to silence this warning.\n",
      "  \"this warning.\", FutureWarning)\n"
     ]
    },
    {
     "name": "stdout",
     "output_type": "stream",
     "text": [
      "Accuracy: 66.03053435114504 % Best: 66.41221374045801\n"
     ]
    },
    {
     "name": "stderr",
     "output_type": "stream",
     "text": [
      "E:\\Installs\\Anaconda\\lib\\site-packages\\sklearn\\linear_model\\logistic.py:432: FutureWarning: Default solver will be changed to 'lbfgs' in 0.22. Specify a solver to silence this warning.\n",
      "  FutureWarning)\n",
      "E:\\Installs\\Anaconda\\lib\\site-packages\\sklearn\\linear_model\\logistic.py:469: FutureWarning: Default multi_class will be changed to 'auto' in 0.22. Specify the multi_class option to silence this warning.\n",
      "  \"this warning.\", FutureWarning)\n"
     ]
    },
    {
     "name": "stdout",
     "output_type": "stream",
     "text": [
      "Accuracy: 62.59541984732825 % Best: 66.41221374045801\n"
     ]
    },
    {
     "name": "stderr",
     "output_type": "stream",
     "text": [
      "E:\\Installs\\Anaconda\\lib\\site-packages\\sklearn\\linear_model\\logistic.py:432: FutureWarning: Default solver will be changed to 'lbfgs' in 0.22. Specify a solver to silence this warning.\n",
      "  FutureWarning)\n",
      "E:\\Installs\\Anaconda\\lib\\site-packages\\sklearn\\linear_model\\logistic.py:469: FutureWarning: Default multi_class will be changed to 'auto' in 0.22. Specify the multi_class option to silence this warning.\n",
      "  \"this warning.\", FutureWarning)\n"
     ]
    },
    {
     "name": "stdout",
     "output_type": "stream",
     "text": [
      "Accuracy: 65.2671755725191 % Best: 66.41221374045801\n"
     ]
    },
    {
     "name": "stderr",
     "output_type": "stream",
     "text": [
      "E:\\Installs\\Anaconda\\lib\\site-packages\\sklearn\\linear_model\\logistic.py:432: FutureWarning: Default solver will be changed to 'lbfgs' in 0.22. Specify a solver to silence this warning.\n",
      "  FutureWarning)\n",
      "E:\\Installs\\Anaconda\\lib\\site-packages\\sklearn\\linear_model\\logistic.py:469: FutureWarning: Default multi_class will be changed to 'auto' in 0.22. Specify the multi_class option to silence this warning.\n",
      "  \"this warning.\", FutureWarning)\n"
     ]
    },
    {
     "name": "stdout",
     "output_type": "stream",
     "text": [
      "Accuracy: 59.541984732824424 % Best: 66.41221374045801\n"
     ]
    },
    {
     "name": "stderr",
     "output_type": "stream",
     "text": [
      "E:\\Installs\\Anaconda\\lib\\site-packages\\sklearn\\linear_model\\logistic.py:432: FutureWarning: Default solver will be changed to 'lbfgs' in 0.22. Specify a solver to silence this warning.\n",
      "  FutureWarning)\n",
      "E:\\Installs\\Anaconda\\lib\\site-packages\\sklearn\\linear_model\\logistic.py:469: FutureWarning: Default multi_class will be changed to 'auto' in 0.22. Specify the multi_class option to silence this warning.\n",
      "  \"this warning.\", FutureWarning)\n"
     ]
    },
    {
     "name": "stdout",
     "output_type": "stream",
     "text": [
      "Accuracy: 59.92366412213741 % Best: 66.41221374045801\n"
     ]
    },
    {
     "name": "stderr",
     "output_type": "stream",
     "text": [
      "E:\\Installs\\Anaconda\\lib\\site-packages\\sklearn\\linear_model\\logistic.py:432: FutureWarning: Default solver will be changed to 'lbfgs' in 0.22. Specify a solver to silence this warning.\n",
      "  FutureWarning)\n",
      "E:\\Installs\\Anaconda\\lib\\site-packages\\sklearn\\linear_model\\logistic.py:469: FutureWarning: Default multi_class will be changed to 'auto' in 0.22. Specify the multi_class option to silence this warning.\n",
      "  \"this warning.\", FutureWarning)\n"
     ]
    },
    {
     "name": "stdout",
     "output_type": "stream",
     "text": [
      "Accuracy: 61.45038167938931 % Best: 66.41221374045801\n"
     ]
    },
    {
     "name": "stderr",
     "output_type": "stream",
     "text": [
      "E:\\Installs\\Anaconda\\lib\\site-packages\\sklearn\\linear_model\\logistic.py:432: FutureWarning: Default solver will be changed to 'lbfgs' in 0.22. Specify a solver to silence this warning.\n",
      "  FutureWarning)\n",
      "E:\\Installs\\Anaconda\\lib\\site-packages\\sklearn\\linear_model\\logistic.py:469: FutureWarning: Default multi_class will be changed to 'auto' in 0.22. Specify the multi_class option to silence this warning.\n",
      "  \"this warning.\", FutureWarning)\n"
     ]
    },
    {
     "name": "stdout",
     "output_type": "stream",
     "text": [
      "Accuracy: 64.12213740458014 % Best: 66.41221374045801\n"
     ]
    },
    {
     "name": "stderr",
     "output_type": "stream",
     "text": [
      "E:\\Installs\\Anaconda\\lib\\site-packages\\sklearn\\linear_model\\logistic.py:432: FutureWarning: Default solver will be changed to 'lbfgs' in 0.22. Specify a solver to silence this warning.\n",
      "  FutureWarning)\n",
      "E:\\Installs\\Anaconda\\lib\\site-packages\\sklearn\\linear_model\\logistic.py:469: FutureWarning: Default multi_class will be changed to 'auto' in 0.22. Specify the multi_class option to silence this warning.\n",
      "  \"this warning.\", FutureWarning)\n"
     ]
    },
    {
     "name": "stdout",
     "output_type": "stream",
     "text": [
      "Accuracy: 60.30534351145038 % Best: 66.41221374045801\n"
     ]
    },
    {
     "name": "stderr",
     "output_type": "stream",
     "text": [
      "E:\\Installs\\Anaconda\\lib\\site-packages\\sklearn\\linear_model\\logistic.py:432: FutureWarning: Default solver will be changed to 'lbfgs' in 0.22. Specify a solver to silence this warning.\n",
      "  FutureWarning)\n",
      "E:\\Installs\\Anaconda\\lib\\site-packages\\sklearn\\linear_model\\logistic.py:469: FutureWarning: Default multi_class will be changed to 'auto' in 0.22. Specify the multi_class option to silence this warning.\n",
      "  \"this warning.\", FutureWarning)\n"
     ]
    },
    {
     "name": "stdout",
     "output_type": "stream",
     "text": [
      "Accuracy: 62.59541984732825 % Best: 66.41221374045801\n"
     ]
    },
    {
     "name": "stderr",
     "output_type": "stream",
     "text": [
      "E:\\Installs\\Anaconda\\lib\\site-packages\\sklearn\\linear_model\\logistic.py:432: FutureWarning: Default solver will be changed to 'lbfgs' in 0.22. Specify a solver to silence this warning.\n",
      "  FutureWarning)\n",
      "E:\\Installs\\Anaconda\\lib\\site-packages\\sklearn\\linear_model\\logistic.py:469: FutureWarning: Default multi_class will be changed to 'auto' in 0.22. Specify the multi_class option to silence this warning.\n",
      "  \"this warning.\", FutureWarning)\n"
     ]
    },
    {
     "name": "stdout",
     "output_type": "stream",
     "text": [
      "Model Saved!\n",
      "Accuracy: 67.17557251908397 % Best: 67.17557251908397\n"
     ]
    },
    {
     "name": "stderr",
     "output_type": "stream",
     "text": [
      "E:\\Installs\\Anaconda\\lib\\site-packages\\sklearn\\linear_model\\logistic.py:432: FutureWarning: Default solver will be changed to 'lbfgs' in 0.22. Specify a solver to silence this warning.\n",
      "  FutureWarning)\n",
      "E:\\Installs\\Anaconda\\lib\\site-packages\\sklearn\\linear_model\\logistic.py:469: FutureWarning: Default multi_class will be changed to 'auto' in 0.22. Specify the multi_class option to silence this warning.\n",
      "  \"this warning.\", FutureWarning)\n"
     ]
    },
    {
     "name": "stdout",
     "output_type": "stream",
     "text": [
      "Accuracy: 60.30534351145038 % Best: 67.17557251908397\n"
     ]
    },
    {
     "name": "stderr",
     "output_type": "stream",
     "text": [
      "E:\\Installs\\Anaconda\\lib\\site-packages\\sklearn\\linear_model\\logistic.py:432: FutureWarning: Default solver will be changed to 'lbfgs' in 0.22. Specify a solver to silence this warning.\n",
      "  FutureWarning)\n",
      "E:\\Installs\\Anaconda\\lib\\site-packages\\sklearn\\linear_model\\logistic.py:469: FutureWarning: Default multi_class will be changed to 'auto' in 0.22. Specify the multi_class option to silence this warning.\n",
      "  \"this warning.\", FutureWarning)\n"
     ]
    },
    {
     "name": "stdout",
     "output_type": "stream",
     "text": [
      "Accuracy: 57.63358778625955 % Best: 67.17557251908397\n"
     ]
    },
    {
     "name": "stderr",
     "output_type": "stream",
     "text": [
      "E:\\Installs\\Anaconda\\lib\\site-packages\\sklearn\\linear_model\\logistic.py:432: FutureWarning: Default solver will be changed to 'lbfgs' in 0.22. Specify a solver to silence this warning.\n",
      "  FutureWarning)\n",
      "E:\\Installs\\Anaconda\\lib\\site-packages\\sklearn\\linear_model\\logistic.py:469: FutureWarning: Default multi_class will be changed to 'auto' in 0.22. Specify the multi_class option to silence this warning.\n",
      "  \"this warning.\", FutureWarning)\n"
     ]
    },
    {
     "name": "stdout",
     "output_type": "stream",
     "text": [
      "Accuracy: 60.30534351145038 % Best: 67.17557251908397\n"
     ]
    },
    {
     "name": "stderr",
     "output_type": "stream",
     "text": [
      "E:\\Installs\\Anaconda\\lib\\site-packages\\sklearn\\linear_model\\logistic.py:432: FutureWarning: Default solver will be changed to 'lbfgs' in 0.22. Specify a solver to silence this warning.\n",
      "  FutureWarning)\n",
      "E:\\Installs\\Anaconda\\lib\\site-packages\\sklearn\\linear_model\\logistic.py:469: FutureWarning: Default multi_class will be changed to 'auto' in 0.22. Specify the multi_class option to silence this warning.\n",
      "  \"this warning.\", FutureWarning)\n"
     ]
    },
    {
     "name": "stdout",
     "output_type": "stream",
     "text": [
      "Accuracy: 64.8854961832061 % Best: 67.17557251908397\n"
     ]
    },
    {
     "name": "stderr",
     "output_type": "stream",
     "text": [
      "E:\\Installs\\Anaconda\\lib\\site-packages\\sklearn\\linear_model\\logistic.py:432: FutureWarning: Default solver will be changed to 'lbfgs' in 0.22. Specify a solver to silence this warning.\n",
      "  FutureWarning)\n",
      "E:\\Installs\\Anaconda\\lib\\site-packages\\sklearn\\linear_model\\logistic.py:469: FutureWarning: Default multi_class will be changed to 'auto' in 0.22. Specify the multi_class option to silence this warning.\n",
      "  \"this warning.\", FutureWarning)\n"
     ]
    },
    {
     "name": "stdout",
     "output_type": "stream",
     "text": [
      "Accuracy: 63.74045801526718 % Best: 67.17557251908397\n"
     ]
    },
    {
     "name": "stderr",
     "output_type": "stream",
     "text": [
      "E:\\Installs\\Anaconda\\lib\\site-packages\\sklearn\\linear_model\\logistic.py:432: FutureWarning: Default solver will be changed to 'lbfgs' in 0.22. Specify a solver to silence this warning.\n",
      "  FutureWarning)\n",
      "E:\\Installs\\Anaconda\\lib\\site-packages\\sklearn\\linear_model\\logistic.py:469: FutureWarning: Default multi_class will be changed to 'auto' in 0.22. Specify the multi_class option to silence this warning.\n",
      "  \"this warning.\", FutureWarning)\n"
     ]
    },
    {
     "name": "stdout",
     "output_type": "stream",
     "text": [
      "Accuracy: 64.12213740458014 % Best: 67.17557251908397\n"
     ]
    },
    {
     "name": "stderr",
     "output_type": "stream",
     "text": [
      "E:\\Installs\\Anaconda\\lib\\site-packages\\sklearn\\linear_model\\logistic.py:432: FutureWarning: Default solver will be changed to 'lbfgs' in 0.22. Specify a solver to silence this warning.\n",
      "  FutureWarning)\n",
      "E:\\Installs\\Anaconda\\lib\\site-packages\\sklearn\\linear_model\\logistic.py:469: FutureWarning: Default multi_class will be changed to 'auto' in 0.22. Specify the multi_class option to silence this warning.\n",
      "  \"this warning.\", FutureWarning)\n"
     ]
    },
    {
     "name": "stdout",
     "output_type": "stream",
     "text": [
      "Accuracy: 64.50381679389314 % Best: 67.17557251908397\n"
     ]
    },
    {
     "name": "stderr",
     "output_type": "stream",
     "text": [
      "E:\\Installs\\Anaconda\\lib\\site-packages\\sklearn\\linear_model\\logistic.py:432: FutureWarning: Default solver will be changed to 'lbfgs' in 0.22. Specify a solver to silence this warning.\n",
      "  FutureWarning)\n",
      "E:\\Installs\\Anaconda\\lib\\site-packages\\sklearn\\linear_model\\logistic.py:469: FutureWarning: Default multi_class will be changed to 'auto' in 0.22. Specify the multi_class option to silence this warning.\n",
      "  \"this warning.\", FutureWarning)\n"
     ]
    },
    {
     "name": "stdout",
     "output_type": "stream",
     "text": [
      "Accuracy: 64.8854961832061 % Best: 67.17557251908397\n"
     ]
    },
    {
     "name": "stderr",
     "output_type": "stream",
     "text": [
      "E:\\Installs\\Anaconda\\lib\\site-packages\\sklearn\\linear_model\\logistic.py:432: FutureWarning: Default solver will be changed to 'lbfgs' in 0.22. Specify a solver to silence this warning.\n",
      "  FutureWarning)\n",
      "E:\\Installs\\Anaconda\\lib\\site-packages\\sklearn\\linear_model\\logistic.py:469: FutureWarning: Default multi_class will be changed to 'auto' in 0.22. Specify the multi_class option to silence this warning.\n",
      "  \"this warning.\", FutureWarning)\n"
     ]
    },
    {
     "name": "stdout",
     "output_type": "stream",
     "text": [
      "Model Saved!\n",
      "Accuracy: 70.22900763358778 % Best: 70.22900763358778\n"
     ]
    },
    {
     "name": "stderr",
     "output_type": "stream",
     "text": [
      "E:\\Installs\\Anaconda\\lib\\site-packages\\sklearn\\linear_model\\logistic.py:432: FutureWarning: Default solver will be changed to 'lbfgs' in 0.22. Specify a solver to silence this warning.\n",
      "  FutureWarning)\n",
      "E:\\Installs\\Anaconda\\lib\\site-packages\\sklearn\\linear_model\\logistic.py:469: FutureWarning: Default multi_class will be changed to 'auto' in 0.22. Specify the multi_class option to silence this warning.\n",
      "  \"this warning.\", FutureWarning)\n"
     ]
    },
    {
     "name": "stdout",
     "output_type": "stream",
     "text": [
      "Accuracy: 60.68702290076335 % Best: 70.22900763358778\n"
     ]
    },
    {
     "name": "stderr",
     "output_type": "stream",
     "text": [
      "E:\\Installs\\Anaconda\\lib\\site-packages\\sklearn\\linear_model\\logistic.py:432: FutureWarning: Default solver will be changed to 'lbfgs' in 0.22. Specify a solver to silence this warning.\n",
      "  FutureWarning)\n",
      "E:\\Installs\\Anaconda\\lib\\site-packages\\sklearn\\linear_model\\logistic.py:469: FutureWarning: Default multi_class will be changed to 'auto' in 0.22. Specify the multi_class option to silence this warning.\n",
      "  \"this warning.\", FutureWarning)\n"
     ]
    },
    {
     "name": "stdout",
     "output_type": "stream",
     "text": [
      "Accuracy: 63.74045801526718 % Best: 70.22900763358778\n"
     ]
    },
    {
     "name": "stderr",
     "output_type": "stream",
     "text": [
      "E:\\Installs\\Anaconda\\lib\\site-packages\\sklearn\\linear_model\\logistic.py:432: FutureWarning: Default solver will be changed to 'lbfgs' in 0.22. Specify a solver to silence this warning.\n",
      "  FutureWarning)\n",
      "E:\\Installs\\Anaconda\\lib\\site-packages\\sklearn\\linear_model\\logistic.py:469: FutureWarning: Default multi_class will be changed to 'auto' in 0.22. Specify the multi_class option to silence this warning.\n",
      "  \"this warning.\", FutureWarning)\n"
     ]
    },
    {
     "name": "stdout",
     "output_type": "stream",
     "text": [
      "Accuracy: 62.59541984732825 % Best: 70.22900763358778\n"
     ]
    },
    {
     "name": "stderr",
     "output_type": "stream",
     "text": [
      "E:\\Installs\\Anaconda\\lib\\site-packages\\sklearn\\linear_model\\logistic.py:432: FutureWarning: Default solver will be changed to 'lbfgs' in 0.22. Specify a solver to silence this warning.\n",
      "  FutureWarning)\n",
      "E:\\Installs\\Anaconda\\lib\\site-packages\\sklearn\\linear_model\\logistic.py:469: FutureWarning: Default multi_class will be changed to 'auto' in 0.22. Specify the multi_class option to silence this warning.\n",
      "  \"this warning.\", FutureWarning)\n"
     ]
    },
    {
     "name": "stdout",
     "output_type": "stream",
     "text": [
      "Accuracy: 64.12213740458014 % Best: 70.22900763358778\n"
     ]
    },
    {
     "name": "stderr",
     "output_type": "stream",
     "text": [
      "E:\\Installs\\Anaconda\\lib\\site-packages\\sklearn\\linear_model\\logistic.py:432: FutureWarning: Default solver will be changed to 'lbfgs' in 0.22. Specify a solver to silence this warning.\n",
      "  FutureWarning)\n",
      "E:\\Installs\\Anaconda\\lib\\site-packages\\sklearn\\linear_model\\logistic.py:469: FutureWarning: Default multi_class will be changed to 'auto' in 0.22. Specify the multi_class option to silence this warning.\n",
      "  \"this warning.\", FutureWarning)\n"
     ]
    },
    {
     "name": "stdout",
     "output_type": "stream",
     "text": [
      "Accuracy: 64.12213740458014 % Best: 70.22900763358778\n"
     ]
    },
    {
     "name": "stderr",
     "output_type": "stream",
     "text": [
      "E:\\Installs\\Anaconda\\lib\\site-packages\\sklearn\\linear_model\\logistic.py:432: FutureWarning: Default solver will be changed to 'lbfgs' in 0.22. Specify a solver to silence this warning.\n",
      "  FutureWarning)\n",
      "E:\\Installs\\Anaconda\\lib\\site-packages\\sklearn\\linear_model\\logistic.py:469: FutureWarning: Default multi_class will be changed to 'auto' in 0.22. Specify the multi_class option to silence this warning.\n",
      "  \"this warning.\", FutureWarning)\n"
     ]
    },
    {
     "name": "stdout",
     "output_type": "stream",
     "text": [
      "Accuracy: 62.213740458015266 % Best: 70.22900763358778\n"
     ]
    },
    {
     "name": "stderr",
     "output_type": "stream",
     "text": [
      "E:\\Installs\\Anaconda\\lib\\site-packages\\sklearn\\linear_model\\logistic.py:432: FutureWarning: Default solver will be changed to 'lbfgs' in 0.22. Specify a solver to silence this warning.\n",
      "  FutureWarning)\n",
      "E:\\Installs\\Anaconda\\lib\\site-packages\\sklearn\\linear_model\\logistic.py:469: FutureWarning: Default multi_class will be changed to 'auto' in 0.22. Specify the multi_class option to silence this warning.\n",
      "  \"this warning.\", FutureWarning)\n"
     ]
    },
    {
     "name": "stdout",
     "output_type": "stream",
     "text": [
      "Accuracy: 59.16030534351145 % Best: 70.22900763358778\n"
     ]
    },
    {
     "name": "stderr",
     "output_type": "stream",
     "text": [
      "E:\\Installs\\Anaconda\\lib\\site-packages\\sklearn\\linear_model\\logistic.py:432: FutureWarning: Default solver will be changed to 'lbfgs' in 0.22. Specify a solver to silence this warning.\n",
      "  FutureWarning)\n",
      "E:\\Installs\\Anaconda\\lib\\site-packages\\sklearn\\linear_model\\logistic.py:469: FutureWarning: Default multi_class will be changed to 'auto' in 0.22. Specify the multi_class option to silence this warning.\n",
      "  \"this warning.\", FutureWarning)\n"
     ]
    },
    {
     "name": "stdout",
     "output_type": "stream",
     "text": [
      "Accuracy: 66.03053435114504 % Best: 70.22900763358778\n"
     ]
    },
    {
     "name": "stderr",
     "output_type": "stream",
     "text": [
      "E:\\Installs\\Anaconda\\lib\\site-packages\\sklearn\\linear_model\\logistic.py:432: FutureWarning: Default solver will be changed to 'lbfgs' in 0.22. Specify a solver to silence this warning.\n",
      "  FutureWarning)\n",
      "E:\\Installs\\Anaconda\\lib\\site-packages\\sklearn\\linear_model\\logistic.py:469: FutureWarning: Default multi_class will be changed to 'auto' in 0.22. Specify the multi_class option to silence this warning.\n",
      "  \"this warning.\", FutureWarning)\n"
     ]
    },
    {
     "name": "stdout",
     "output_type": "stream",
     "text": [
      "Accuracy: 61.832061068702295 % Best: 70.22900763358778\n"
     ]
    },
    {
     "name": "stderr",
     "output_type": "stream",
     "text": [
      "E:\\Installs\\Anaconda\\lib\\site-packages\\sklearn\\linear_model\\logistic.py:432: FutureWarning: Default solver will be changed to 'lbfgs' in 0.22. Specify a solver to silence this warning.\n",
      "  FutureWarning)\n",
      "E:\\Installs\\Anaconda\\lib\\site-packages\\sklearn\\linear_model\\logistic.py:469: FutureWarning: Default multi_class will be changed to 'auto' in 0.22. Specify the multi_class option to silence this warning.\n",
      "  \"this warning.\", FutureWarning)\n"
     ]
    },
    {
     "name": "stdout",
     "output_type": "stream",
     "text": [
      "Accuracy: 57.25190839694656 % Best: 70.22900763358778\n"
     ]
    },
    {
     "name": "stderr",
     "output_type": "stream",
     "text": [
      "E:\\Installs\\Anaconda\\lib\\site-packages\\sklearn\\linear_model\\logistic.py:432: FutureWarning: Default solver will be changed to 'lbfgs' in 0.22. Specify a solver to silence this warning.\n",
      "  FutureWarning)\n",
      "E:\\Installs\\Anaconda\\lib\\site-packages\\sklearn\\linear_model\\logistic.py:469: FutureWarning: Default multi_class will be changed to 'auto' in 0.22. Specify the multi_class option to silence this warning.\n",
      "  \"this warning.\", FutureWarning)\n"
     ]
    },
    {
     "name": "stdout",
     "output_type": "stream",
     "text": [
      "Accuracy: 53.05343511450382 % Best: 70.22900763358778\n"
     ]
    },
    {
     "name": "stderr",
     "output_type": "stream",
     "text": [
      "E:\\Installs\\Anaconda\\lib\\site-packages\\sklearn\\linear_model\\logistic.py:432: FutureWarning: Default solver will be changed to 'lbfgs' in 0.22. Specify a solver to silence this warning.\n",
      "  FutureWarning)\n",
      "E:\\Installs\\Anaconda\\lib\\site-packages\\sklearn\\linear_model\\logistic.py:469: FutureWarning: Default multi_class will be changed to 'auto' in 0.22. Specify the multi_class option to silence this warning.\n",
      "  \"this warning.\", FutureWarning)\n"
     ]
    },
    {
     "name": "stdout",
     "output_type": "stream",
     "text": [
      "Accuracy: 62.59541984732825 % Best: 70.22900763358778\n"
     ]
    },
    {
     "name": "stderr",
     "output_type": "stream",
     "text": [
      "E:\\Installs\\Anaconda\\lib\\site-packages\\sklearn\\linear_model\\logistic.py:432: FutureWarning: Default solver will be changed to 'lbfgs' in 0.22. Specify a solver to silence this warning.\n",
      "  FutureWarning)\n",
      "E:\\Installs\\Anaconda\\lib\\site-packages\\sklearn\\linear_model\\logistic.py:469: FutureWarning: Default multi_class will be changed to 'auto' in 0.22. Specify the multi_class option to silence this warning.\n",
      "  \"this warning.\", FutureWarning)\n"
     ]
    },
    {
     "name": "stdout",
     "output_type": "stream",
     "text": [
      "Accuracy: 66.03053435114504 % Best: 70.22900763358778\n"
     ]
    },
    {
     "name": "stderr",
     "output_type": "stream",
     "text": [
      "E:\\Installs\\Anaconda\\lib\\site-packages\\sklearn\\linear_model\\logistic.py:432: FutureWarning: Default solver will be changed to 'lbfgs' in 0.22. Specify a solver to silence this warning.\n",
      "  FutureWarning)\n",
      "E:\\Installs\\Anaconda\\lib\\site-packages\\sklearn\\linear_model\\logistic.py:469: FutureWarning: Default multi_class will be changed to 'auto' in 0.22. Specify the multi_class option to silence this warning.\n",
      "  \"this warning.\", FutureWarning)\n"
     ]
    },
    {
     "name": "stdout",
     "output_type": "stream",
     "text": [
      "Accuracy: 66.79389312977099 % Best: 70.22900763358778\n"
     ]
    },
    {
     "name": "stderr",
     "output_type": "stream",
     "text": [
      "E:\\Installs\\Anaconda\\lib\\site-packages\\sklearn\\linear_model\\logistic.py:432: FutureWarning: Default solver will be changed to 'lbfgs' in 0.22. Specify a solver to silence this warning.\n",
      "  FutureWarning)\n",
      "E:\\Installs\\Anaconda\\lib\\site-packages\\sklearn\\linear_model\\logistic.py:469: FutureWarning: Default multi_class will be changed to 'auto' in 0.22. Specify the multi_class option to silence this warning.\n",
      "  \"this warning.\", FutureWarning)\n"
     ]
    },
    {
     "name": "stdout",
     "output_type": "stream",
     "text": [
      "Accuracy: 66.79389312977099 % Best: 70.22900763358778\n"
     ]
    },
    {
     "name": "stderr",
     "output_type": "stream",
     "text": [
      "E:\\Installs\\Anaconda\\lib\\site-packages\\sklearn\\linear_model\\logistic.py:432: FutureWarning: Default solver will be changed to 'lbfgs' in 0.22. Specify a solver to silence this warning.\n",
      "  FutureWarning)\n",
      "E:\\Installs\\Anaconda\\lib\\site-packages\\sklearn\\linear_model\\logistic.py:469: FutureWarning: Default multi_class will be changed to 'auto' in 0.22. Specify the multi_class option to silence this warning.\n",
      "  \"this warning.\", FutureWarning)\n"
     ]
    },
    {
     "name": "stdout",
     "output_type": "stream",
     "text": [
      "Accuracy: 63.358778625954194 % Best: 70.22900763358778\n"
     ]
    },
    {
     "name": "stderr",
     "output_type": "stream",
     "text": [
      "E:\\Installs\\Anaconda\\lib\\site-packages\\sklearn\\linear_model\\logistic.py:432: FutureWarning: Default solver will be changed to 'lbfgs' in 0.22. Specify a solver to silence this warning.\n",
      "  FutureWarning)\n",
      "E:\\Installs\\Anaconda\\lib\\site-packages\\sklearn\\linear_model\\logistic.py:469: FutureWarning: Default multi_class will be changed to 'auto' in 0.22. Specify the multi_class option to silence this warning.\n",
      "  \"this warning.\", FutureWarning)\n"
     ]
    },
    {
     "name": "stdout",
     "output_type": "stream",
     "text": [
      "Accuracy: 63.358778625954194 % Best: 70.22900763358778\n"
     ]
    },
    {
     "name": "stderr",
     "output_type": "stream",
     "text": [
      "E:\\Installs\\Anaconda\\lib\\site-packages\\sklearn\\linear_model\\logistic.py:432: FutureWarning: Default solver will be changed to 'lbfgs' in 0.22. Specify a solver to silence this warning.\n",
      "  FutureWarning)\n",
      "E:\\Installs\\Anaconda\\lib\\site-packages\\sklearn\\linear_model\\logistic.py:469: FutureWarning: Default multi_class will be changed to 'auto' in 0.22. Specify the multi_class option to silence this warning.\n",
      "  \"this warning.\", FutureWarning)\n"
     ]
    },
    {
     "name": "stdout",
     "output_type": "stream",
     "text": [
      "Accuracy: 67.17557251908397 % Best: 70.22900763358778\n"
     ]
    },
    {
     "name": "stderr",
     "output_type": "stream",
     "text": [
      "E:\\Installs\\Anaconda\\lib\\site-packages\\sklearn\\linear_model\\logistic.py:432: FutureWarning: Default solver will be changed to 'lbfgs' in 0.22. Specify a solver to silence this warning.\n",
      "  FutureWarning)\n",
      "E:\\Installs\\Anaconda\\lib\\site-packages\\sklearn\\linear_model\\logistic.py:469: FutureWarning: Default multi_class will be changed to 'auto' in 0.22. Specify the multi_class option to silence this warning.\n",
      "  \"this warning.\", FutureWarning)\n"
     ]
    },
    {
     "name": "stdout",
     "output_type": "stream",
     "text": [
      "Accuracy: 58.01526717557252 % Best: 70.22900763358778\n"
     ]
    },
    {
     "name": "stderr",
     "output_type": "stream",
     "text": [
      "E:\\Installs\\Anaconda\\lib\\site-packages\\sklearn\\linear_model\\logistic.py:432: FutureWarning: Default solver will be changed to 'lbfgs' in 0.22. Specify a solver to silence this warning.\n",
      "  FutureWarning)\n",
      "E:\\Installs\\Anaconda\\lib\\site-packages\\sklearn\\linear_model\\logistic.py:469: FutureWarning: Default multi_class will be changed to 'auto' in 0.22. Specify the multi_class option to silence this warning.\n",
      "  \"this warning.\", FutureWarning)\n"
     ]
    },
    {
     "name": "stdout",
     "output_type": "stream",
     "text": [
      "Accuracy: 58.396946564885496 % Best: 70.22900763358778\n"
     ]
    },
    {
     "name": "stderr",
     "output_type": "stream",
     "text": [
      "E:\\Installs\\Anaconda\\lib\\site-packages\\sklearn\\linear_model\\logistic.py:432: FutureWarning: Default solver will be changed to 'lbfgs' in 0.22. Specify a solver to silence this warning.\n",
      "  FutureWarning)\n",
      "E:\\Installs\\Anaconda\\lib\\site-packages\\sklearn\\linear_model\\logistic.py:469: FutureWarning: Default multi_class will be changed to 'auto' in 0.22. Specify the multi_class option to silence this warning.\n",
      "  \"this warning.\", FutureWarning)\n"
     ]
    },
    {
     "name": "stdout",
     "output_type": "stream",
     "text": [
      "Accuracy: 57.25190839694656 % Best: 70.22900763358778\n"
     ]
    },
    {
     "name": "stderr",
     "output_type": "stream",
     "text": [
      "E:\\Installs\\Anaconda\\lib\\site-packages\\sklearn\\linear_model\\logistic.py:432: FutureWarning: Default solver will be changed to 'lbfgs' in 0.22. Specify a solver to silence this warning.\n",
      "  FutureWarning)\n",
      "E:\\Installs\\Anaconda\\lib\\site-packages\\sklearn\\linear_model\\logistic.py:469: FutureWarning: Default multi_class will be changed to 'auto' in 0.22. Specify the multi_class option to silence this warning.\n",
      "  \"this warning.\", FutureWarning)\n"
     ]
    },
    {
     "name": "stdout",
     "output_type": "stream",
     "text": [
      "Accuracy: 67.55725190839695 % Best: 70.22900763358778\n"
     ]
    },
    {
     "name": "stderr",
     "output_type": "stream",
     "text": [
      "E:\\Installs\\Anaconda\\lib\\site-packages\\sklearn\\linear_model\\logistic.py:432: FutureWarning: Default solver will be changed to 'lbfgs' in 0.22. Specify a solver to silence this warning.\n",
      "  FutureWarning)\n",
      "E:\\Installs\\Anaconda\\lib\\site-packages\\sklearn\\linear_model\\logistic.py:469: FutureWarning: Default multi_class will be changed to 'auto' in 0.22. Specify the multi_class option to silence this warning.\n",
      "  \"this warning.\", FutureWarning)\n"
     ]
    },
    {
     "name": "stdout",
     "output_type": "stream",
     "text": [
      "Accuracy: 62.97709923664122 % Best: 70.22900763358778\n"
     ]
    },
    {
     "name": "stderr",
     "output_type": "stream",
     "text": [
      "E:\\Installs\\Anaconda\\lib\\site-packages\\sklearn\\linear_model\\logistic.py:432: FutureWarning: Default solver will be changed to 'lbfgs' in 0.22. Specify a solver to silence this warning.\n",
      "  FutureWarning)\n",
      "E:\\Installs\\Anaconda\\lib\\site-packages\\sklearn\\linear_model\\logistic.py:469: FutureWarning: Default multi_class will be changed to 'auto' in 0.22. Specify the multi_class option to silence this warning.\n",
      "  \"this warning.\", FutureWarning)\n"
     ]
    },
    {
     "name": "stdout",
     "output_type": "stream",
     "text": [
      "Accuracy: 58.396946564885496 % Best: 70.22900763358778\n"
     ]
    },
    {
     "name": "stderr",
     "output_type": "stream",
     "text": [
      "E:\\Installs\\Anaconda\\lib\\site-packages\\sklearn\\linear_model\\logistic.py:432: FutureWarning: Default solver will be changed to 'lbfgs' in 0.22. Specify a solver to silence this warning.\n",
      "  FutureWarning)\n",
      "E:\\Installs\\Anaconda\\lib\\site-packages\\sklearn\\linear_model\\logistic.py:469: FutureWarning: Default multi_class will be changed to 'auto' in 0.22. Specify the multi_class option to silence this warning.\n",
      "  \"this warning.\", FutureWarning)\n"
     ]
    },
    {
     "name": "stdout",
     "output_type": "stream",
     "text": [
      "Accuracy: 60.30534351145038 % Best: 70.22900763358778\n"
     ]
    },
    {
     "name": "stderr",
     "output_type": "stream",
     "text": [
      "E:\\Installs\\Anaconda\\lib\\site-packages\\sklearn\\linear_model\\logistic.py:432: FutureWarning: Default solver will be changed to 'lbfgs' in 0.22. Specify a solver to silence this warning.\n",
      "  FutureWarning)\n",
      "E:\\Installs\\Anaconda\\lib\\site-packages\\sklearn\\linear_model\\logistic.py:469: FutureWarning: Default multi_class will be changed to 'auto' in 0.22. Specify the multi_class option to silence this warning.\n",
      "  \"this warning.\", FutureWarning)\n"
     ]
    },
    {
     "name": "stdout",
     "output_type": "stream",
     "text": [
      "Accuracy: 62.97709923664122 % Best: 70.22900763358778\n"
     ]
    },
    {
     "name": "stderr",
     "output_type": "stream",
     "text": [
      "E:\\Installs\\Anaconda\\lib\\site-packages\\sklearn\\linear_model\\logistic.py:432: FutureWarning: Default solver will be changed to 'lbfgs' in 0.22. Specify a solver to silence this warning.\n",
      "  FutureWarning)\n",
      "E:\\Installs\\Anaconda\\lib\\site-packages\\sklearn\\linear_model\\logistic.py:469: FutureWarning: Default multi_class will be changed to 'auto' in 0.22. Specify the multi_class option to silence this warning.\n",
      "  \"this warning.\", FutureWarning)\n"
     ]
    },
    {
     "name": "stdout",
     "output_type": "stream",
     "text": [
      "Accuracy: 61.832061068702295 % Best: 70.22900763358778\n"
     ]
    },
    {
     "name": "stderr",
     "output_type": "stream",
     "text": [
      "E:\\Installs\\Anaconda\\lib\\site-packages\\sklearn\\linear_model\\logistic.py:432: FutureWarning: Default solver will be changed to 'lbfgs' in 0.22. Specify a solver to silence this warning.\n",
      "  FutureWarning)\n",
      "E:\\Installs\\Anaconda\\lib\\site-packages\\sklearn\\linear_model\\logistic.py:469: FutureWarning: Default multi_class will be changed to 'auto' in 0.22. Specify the multi_class option to silence this warning.\n",
      "  \"this warning.\", FutureWarning)\n"
     ]
    },
    {
     "name": "stdout",
     "output_type": "stream",
     "text": [
      "Accuracy: 59.16030534351145 % Best: 70.22900763358778\n"
     ]
    },
    {
     "name": "stderr",
     "output_type": "stream",
     "text": [
      "E:\\Installs\\Anaconda\\lib\\site-packages\\sklearn\\linear_model\\logistic.py:432: FutureWarning: Default solver will be changed to 'lbfgs' in 0.22. Specify a solver to silence this warning.\n",
      "  FutureWarning)\n",
      "E:\\Installs\\Anaconda\\lib\\site-packages\\sklearn\\linear_model\\logistic.py:469: FutureWarning: Default multi_class will be changed to 'auto' in 0.22. Specify the multi_class option to silence this warning.\n",
      "  \"this warning.\", FutureWarning)\n"
     ]
    },
    {
     "name": "stdout",
     "output_type": "stream",
     "text": [
      "Accuracy: 62.97709923664122 % Best: 70.22900763358778\n"
     ]
    },
    {
     "name": "stderr",
     "output_type": "stream",
     "text": [
      "E:\\Installs\\Anaconda\\lib\\site-packages\\sklearn\\linear_model\\logistic.py:432: FutureWarning: Default solver will be changed to 'lbfgs' in 0.22. Specify a solver to silence this warning.\n",
      "  FutureWarning)\n",
      "E:\\Installs\\Anaconda\\lib\\site-packages\\sklearn\\linear_model\\logistic.py:469: FutureWarning: Default multi_class will be changed to 'auto' in 0.22. Specify the multi_class option to silence this warning.\n",
      "  \"this warning.\", FutureWarning)\n"
     ]
    },
    {
     "name": "stdout",
     "output_type": "stream",
     "text": [
      "Accuracy: 58.778625954198475 % Best: 70.22900763358778\n"
     ]
    },
    {
     "name": "stderr",
     "output_type": "stream",
     "text": [
      "E:\\Installs\\Anaconda\\lib\\site-packages\\sklearn\\linear_model\\logistic.py:432: FutureWarning: Default solver will be changed to 'lbfgs' in 0.22. Specify a solver to silence this warning.\n",
      "  FutureWarning)\n",
      "E:\\Installs\\Anaconda\\lib\\site-packages\\sklearn\\linear_model\\logistic.py:469: FutureWarning: Default multi_class will be changed to 'auto' in 0.22. Specify the multi_class option to silence this warning.\n",
      "  \"this warning.\", FutureWarning)\n"
     ]
    },
    {
     "name": "stdout",
     "output_type": "stream",
     "text": [
      "Accuracy: 64.8854961832061 % Best: 70.22900763358778\n"
     ]
    },
    {
     "name": "stderr",
     "output_type": "stream",
     "text": [
      "E:\\Installs\\Anaconda\\lib\\site-packages\\sklearn\\linear_model\\logistic.py:432: FutureWarning: Default solver will be changed to 'lbfgs' in 0.22. Specify a solver to silence this warning.\n",
      "  FutureWarning)\n",
      "E:\\Installs\\Anaconda\\lib\\site-packages\\sklearn\\linear_model\\logistic.py:469: FutureWarning: Default multi_class will be changed to 'auto' in 0.22. Specify the multi_class option to silence this warning.\n",
      "  \"this warning.\", FutureWarning)\n"
     ]
    },
    {
     "name": "stdout",
     "output_type": "stream",
     "text": [
      "Accuracy: 64.8854961832061 % Best: 70.22900763358778\n"
     ]
    },
    {
     "name": "stderr",
     "output_type": "stream",
     "text": [
      "E:\\Installs\\Anaconda\\lib\\site-packages\\sklearn\\linear_model\\logistic.py:432: FutureWarning: Default solver will be changed to 'lbfgs' in 0.22. Specify a solver to silence this warning.\n",
      "  FutureWarning)\n",
      "E:\\Installs\\Anaconda\\lib\\site-packages\\sklearn\\linear_model\\logistic.py:469: FutureWarning: Default multi_class will be changed to 'auto' in 0.22. Specify the multi_class option to silence this warning.\n",
      "  \"this warning.\", FutureWarning)\n"
     ]
    },
    {
     "name": "stdout",
     "output_type": "stream",
     "text": [
      "Accuracy: 57.25190839694656 % Best: 70.22900763358778\n"
     ]
    },
    {
     "name": "stderr",
     "output_type": "stream",
     "text": [
      "E:\\Installs\\Anaconda\\lib\\site-packages\\sklearn\\linear_model\\logistic.py:432: FutureWarning: Default solver will be changed to 'lbfgs' in 0.22. Specify a solver to silence this warning.\n",
      "  FutureWarning)\n",
      "E:\\Installs\\Anaconda\\lib\\site-packages\\sklearn\\linear_model\\logistic.py:469: FutureWarning: Default multi_class will be changed to 'auto' in 0.22. Specify the multi_class option to silence this warning.\n",
      "  \"this warning.\", FutureWarning)\n"
     ]
    },
    {
     "name": "stdout",
     "output_type": "stream",
     "text": [
      "Accuracy: 54.961832061068705 % Best: 70.22900763358778\n"
     ]
    },
    {
     "name": "stderr",
     "output_type": "stream",
     "text": [
      "E:\\Installs\\Anaconda\\lib\\site-packages\\sklearn\\linear_model\\logistic.py:432: FutureWarning: Default solver will be changed to 'lbfgs' in 0.22. Specify a solver to silence this warning.\n",
      "  FutureWarning)\n",
      "E:\\Installs\\Anaconda\\lib\\site-packages\\sklearn\\linear_model\\logistic.py:469: FutureWarning: Default multi_class will be changed to 'auto' in 0.22. Specify the multi_class option to silence this warning.\n",
      "  \"this warning.\", FutureWarning)\n"
     ]
    },
    {
     "name": "stdout",
     "output_type": "stream",
     "text": [
      "Accuracy: 60.68702290076335 % Best: 70.22900763358778\n"
     ]
    },
    {
     "name": "stderr",
     "output_type": "stream",
     "text": [
      "E:\\Installs\\Anaconda\\lib\\site-packages\\sklearn\\linear_model\\logistic.py:432: FutureWarning: Default solver will be changed to 'lbfgs' in 0.22. Specify a solver to silence this warning.\n",
      "  FutureWarning)\n",
      "E:\\Installs\\Anaconda\\lib\\site-packages\\sklearn\\linear_model\\logistic.py:469: FutureWarning: Default multi_class will be changed to 'auto' in 0.22. Specify the multi_class option to silence this warning.\n",
      "  \"this warning.\", FutureWarning)\n"
     ]
    },
    {
     "name": "stdout",
     "output_type": "stream",
     "text": [
      "Accuracy: 56.10687022900763 % Best: 70.22900763358778\n"
     ]
    },
    {
     "name": "stderr",
     "output_type": "stream",
     "text": [
      "E:\\Installs\\Anaconda\\lib\\site-packages\\sklearn\\linear_model\\logistic.py:432: FutureWarning: Default solver will be changed to 'lbfgs' in 0.22. Specify a solver to silence this warning.\n",
      "  FutureWarning)\n",
      "E:\\Installs\\Anaconda\\lib\\site-packages\\sklearn\\linear_model\\logistic.py:469: FutureWarning: Default multi_class will be changed to 'auto' in 0.22. Specify the multi_class option to silence this warning.\n",
      "  \"this warning.\", FutureWarning)\n"
     ]
    },
    {
     "name": "stdout",
     "output_type": "stream",
     "text": [
      "Accuracy: 62.213740458015266 % Best: 70.22900763358778\n"
     ]
    },
    {
     "name": "stderr",
     "output_type": "stream",
     "text": [
      "E:\\Installs\\Anaconda\\lib\\site-packages\\sklearn\\linear_model\\logistic.py:432: FutureWarning: Default solver will be changed to 'lbfgs' in 0.22. Specify a solver to silence this warning.\n",
      "  FutureWarning)\n",
      "E:\\Installs\\Anaconda\\lib\\site-packages\\sklearn\\linear_model\\logistic.py:469: FutureWarning: Default multi_class will be changed to 'auto' in 0.22. Specify the multi_class option to silence this warning.\n",
      "  \"this warning.\", FutureWarning)\n"
     ]
    },
    {
     "name": "stdout",
     "output_type": "stream",
     "text": [
      "Accuracy: 62.59541984732825 % Best: 70.22900763358778\n"
     ]
    },
    {
     "name": "stderr",
     "output_type": "stream",
     "text": [
      "E:\\Installs\\Anaconda\\lib\\site-packages\\sklearn\\linear_model\\logistic.py:432: FutureWarning: Default solver will be changed to 'lbfgs' in 0.22. Specify a solver to silence this warning.\n",
      "  FutureWarning)\n",
      "E:\\Installs\\Anaconda\\lib\\site-packages\\sklearn\\linear_model\\logistic.py:469: FutureWarning: Default multi_class will be changed to 'auto' in 0.22. Specify the multi_class option to silence this warning.\n",
      "  \"this warning.\", FutureWarning)\n"
     ]
    },
    {
     "name": "stdout",
     "output_type": "stream",
     "text": [
      "Accuracy: 67.17557251908397 % Best: 70.22900763358778\n"
     ]
    },
    {
     "name": "stderr",
     "output_type": "stream",
     "text": [
      "E:\\Installs\\Anaconda\\lib\\site-packages\\sklearn\\linear_model\\logistic.py:432: FutureWarning: Default solver will be changed to 'lbfgs' in 0.22. Specify a solver to silence this warning.\n",
      "  FutureWarning)\n",
      "E:\\Installs\\Anaconda\\lib\\site-packages\\sklearn\\linear_model\\logistic.py:469: FutureWarning: Default multi_class will be changed to 'auto' in 0.22. Specify the multi_class option to silence this warning.\n",
      "  \"this warning.\", FutureWarning)\n"
     ]
    },
    {
     "name": "stdout",
     "output_type": "stream",
     "text": [
      "Accuracy: 64.12213740458014 % Best: 70.22900763358778\n"
     ]
    },
    {
     "name": "stderr",
     "output_type": "stream",
     "text": [
      "E:\\Installs\\Anaconda\\lib\\site-packages\\sklearn\\linear_model\\logistic.py:432: FutureWarning: Default solver will be changed to 'lbfgs' in 0.22. Specify a solver to silence this warning.\n",
      "  FutureWarning)\n",
      "E:\\Installs\\Anaconda\\lib\\site-packages\\sklearn\\linear_model\\logistic.py:469: FutureWarning: Default multi_class will be changed to 'auto' in 0.22. Specify the multi_class option to silence this warning.\n",
      "  \"this warning.\", FutureWarning)\n"
     ]
    },
    {
     "name": "stdout",
     "output_type": "stream",
     "text": [
      "Accuracy: 63.358778625954194 % Best: 70.22900763358778\n"
     ]
    },
    {
     "name": "stderr",
     "output_type": "stream",
     "text": [
      "E:\\Installs\\Anaconda\\lib\\site-packages\\sklearn\\linear_model\\logistic.py:432: FutureWarning: Default solver will be changed to 'lbfgs' in 0.22. Specify a solver to silence this warning.\n",
      "  FutureWarning)\n",
      "E:\\Installs\\Anaconda\\lib\\site-packages\\sklearn\\linear_model\\logistic.py:469: FutureWarning: Default multi_class will be changed to 'auto' in 0.22. Specify the multi_class option to silence this warning.\n",
      "  \"this warning.\", FutureWarning)\n"
     ]
    },
    {
     "name": "stdout",
     "output_type": "stream",
     "text": [
      "Accuracy: 63.358778625954194 % Best: 70.22900763358778\n"
     ]
    },
    {
     "name": "stderr",
     "output_type": "stream",
     "text": [
      "E:\\Installs\\Anaconda\\lib\\site-packages\\sklearn\\linear_model\\logistic.py:432: FutureWarning: Default solver will be changed to 'lbfgs' in 0.22. Specify a solver to silence this warning.\n",
      "  FutureWarning)\n",
      "E:\\Installs\\Anaconda\\lib\\site-packages\\sklearn\\linear_model\\logistic.py:469: FutureWarning: Default multi_class will be changed to 'auto' in 0.22. Specify the multi_class option to silence this warning.\n",
      "  \"this warning.\", FutureWarning)\n"
     ]
    },
    {
     "name": "stdout",
     "output_type": "stream",
     "text": [
      "Accuracy: 66.03053435114504 % Best: 70.22900763358778\n"
     ]
    },
    {
     "name": "stderr",
     "output_type": "stream",
     "text": [
      "E:\\Installs\\Anaconda\\lib\\site-packages\\sklearn\\linear_model\\logistic.py:432: FutureWarning: Default solver will be changed to 'lbfgs' in 0.22. Specify a solver to silence this warning.\n",
      "  FutureWarning)\n",
      "E:\\Installs\\Anaconda\\lib\\site-packages\\sklearn\\linear_model\\logistic.py:469: FutureWarning: Default multi_class will be changed to 'auto' in 0.22. Specify the multi_class option to silence this warning.\n",
      "  \"this warning.\", FutureWarning)\n"
     ]
    },
    {
     "name": "stdout",
     "output_type": "stream",
     "text": [
      "Accuracy: 59.16030534351145 % Best: 70.22900763358778\n"
     ]
    },
    {
     "name": "stderr",
     "output_type": "stream",
     "text": [
      "E:\\Installs\\Anaconda\\lib\\site-packages\\sklearn\\linear_model\\logistic.py:432: FutureWarning: Default solver will be changed to 'lbfgs' in 0.22. Specify a solver to silence this warning.\n",
      "  FutureWarning)\n",
      "E:\\Installs\\Anaconda\\lib\\site-packages\\sklearn\\linear_model\\logistic.py:469: FutureWarning: Default multi_class will be changed to 'auto' in 0.22. Specify the multi_class option to silence this warning.\n",
      "  \"this warning.\", FutureWarning)\n"
     ]
    },
    {
     "name": "stdout",
     "output_type": "stream",
     "text": [
      "Accuracy: 60.30534351145038 % Best: 70.22900763358778\n"
     ]
    },
    {
     "name": "stderr",
     "output_type": "stream",
     "text": [
      "E:\\Installs\\Anaconda\\lib\\site-packages\\sklearn\\linear_model\\logistic.py:432: FutureWarning: Default solver will be changed to 'lbfgs' in 0.22. Specify a solver to silence this warning.\n",
      "  FutureWarning)\n",
      "E:\\Installs\\Anaconda\\lib\\site-packages\\sklearn\\linear_model\\logistic.py:469: FutureWarning: Default multi_class will be changed to 'auto' in 0.22. Specify the multi_class option to silence this warning.\n",
      "  \"this warning.\", FutureWarning)\n"
     ]
    },
    {
     "name": "stdout",
     "output_type": "stream",
     "text": [
      "Accuracy: 64.8854961832061 % Best: 70.22900763358778\n"
     ]
    },
    {
     "name": "stderr",
     "output_type": "stream",
     "text": [
      "E:\\Installs\\Anaconda\\lib\\site-packages\\sklearn\\linear_model\\logistic.py:432: FutureWarning: Default solver will be changed to 'lbfgs' in 0.22. Specify a solver to silence this warning.\n",
      "  FutureWarning)\n",
      "E:\\Installs\\Anaconda\\lib\\site-packages\\sklearn\\linear_model\\logistic.py:469: FutureWarning: Default multi_class will be changed to 'auto' in 0.22. Specify the multi_class option to silence this warning.\n",
      "  \"this warning.\", FutureWarning)\n"
     ]
    },
    {
     "name": "stdout",
     "output_type": "stream",
     "text": [
      "Accuracy: 60.30534351145038 % Best: 70.22900763358778\n"
     ]
    },
    {
     "name": "stderr",
     "output_type": "stream",
     "text": [
      "E:\\Installs\\Anaconda\\lib\\site-packages\\sklearn\\linear_model\\logistic.py:432: FutureWarning: Default solver will be changed to 'lbfgs' in 0.22. Specify a solver to silence this warning.\n",
      "  FutureWarning)\n",
      "E:\\Installs\\Anaconda\\lib\\site-packages\\sklearn\\linear_model\\logistic.py:469: FutureWarning: Default multi_class will be changed to 'auto' in 0.22. Specify the multi_class option to silence this warning.\n",
      "  \"this warning.\", FutureWarning)\n"
     ]
    },
    {
     "name": "stdout",
     "output_type": "stream",
     "text": [
      "Accuracy: 64.12213740458014 % Best: 70.22900763358778\n"
     ]
    },
    {
     "name": "stderr",
     "output_type": "stream",
     "text": [
      "E:\\Installs\\Anaconda\\lib\\site-packages\\sklearn\\linear_model\\logistic.py:432: FutureWarning: Default solver will be changed to 'lbfgs' in 0.22. Specify a solver to silence this warning.\n",
      "  FutureWarning)\n",
      "E:\\Installs\\Anaconda\\lib\\site-packages\\sklearn\\linear_model\\logistic.py:469: FutureWarning: Default multi_class will be changed to 'auto' in 0.22. Specify the multi_class option to silence this warning.\n",
      "  \"this warning.\", FutureWarning)\n"
     ]
    },
    {
     "name": "stdout",
     "output_type": "stream",
     "text": [
      "Accuracy: 63.74045801526718 % Best: 70.22900763358778\n"
     ]
    },
    {
     "name": "stderr",
     "output_type": "stream",
     "text": [
      "E:\\Installs\\Anaconda\\lib\\site-packages\\sklearn\\linear_model\\logistic.py:432: FutureWarning: Default solver will be changed to 'lbfgs' in 0.22. Specify a solver to silence this warning.\n",
      "  FutureWarning)\n",
      "E:\\Installs\\Anaconda\\lib\\site-packages\\sklearn\\linear_model\\logistic.py:469: FutureWarning: Default multi_class will be changed to 'auto' in 0.22. Specify the multi_class option to silence this warning.\n",
      "  \"this warning.\", FutureWarning)\n"
     ]
    },
    {
     "name": "stdout",
     "output_type": "stream",
     "text": [
      "Accuracy: 62.213740458015266 % Best: 70.22900763358778\n"
     ]
    },
    {
     "name": "stderr",
     "output_type": "stream",
     "text": [
      "E:\\Installs\\Anaconda\\lib\\site-packages\\sklearn\\linear_model\\logistic.py:432: FutureWarning: Default solver will be changed to 'lbfgs' in 0.22. Specify a solver to silence this warning.\n",
      "  FutureWarning)\n",
      "E:\\Installs\\Anaconda\\lib\\site-packages\\sklearn\\linear_model\\logistic.py:469: FutureWarning: Default multi_class will be changed to 'auto' in 0.22. Specify the multi_class option to silence this warning.\n",
      "  \"this warning.\", FutureWarning)\n"
     ]
    },
    {
     "name": "stdout",
     "output_type": "stream",
     "text": [
      "Accuracy: 60.30534351145038 % Best: 70.22900763358778\n"
     ]
    },
    {
     "name": "stderr",
     "output_type": "stream",
     "text": [
      "E:\\Installs\\Anaconda\\lib\\site-packages\\sklearn\\linear_model\\logistic.py:432: FutureWarning: Default solver will be changed to 'lbfgs' in 0.22. Specify a solver to silence this warning.\n",
      "  FutureWarning)\n",
      "E:\\Installs\\Anaconda\\lib\\site-packages\\sklearn\\linear_model\\logistic.py:469: FutureWarning: Default multi_class will be changed to 'auto' in 0.22. Specify the multi_class option to silence this warning.\n",
      "  \"this warning.\", FutureWarning)\n"
     ]
    },
    {
     "name": "stdout",
     "output_type": "stream",
     "text": [
      "Accuracy: 62.97709923664122 % Best: 70.22900763358778\n"
     ]
    },
    {
     "name": "stderr",
     "output_type": "stream",
     "text": [
      "E:\\Installs\\Anaconda\\lib\\site-packages\\sklearn\\linear_model\\logistic.py:432: FutureWarning: Default solver will be changed to 'lbfgs' in 0.22. Specify a solver to silence this warning.\n",
      "  FutureWarning)\n",
      "E:\\Installs\\Anaconda\\lib\\site-packages\\sklearn\\linear_model\\logistic.py:469: FutureWarning: Default multi_class will be changed to 'auto' in 0.22. Specify the multi_class option to silence this warning.\n",
      "  \"this warning.\", FutureWarning)\n"
     ]
    },
    {
     "name": "stdout",
     "output_type": "stream",
     "text": [
      "Accuracy: 58.01526717557252 % Best: 70.22900763358778\n"
     ]
    },
    {
     "name": "stderr",
     "output_type": "stream",
     "text": [
      "E:\\Installs\\Anaconda\\lib\\site-packages\\sklearn\\linear_model\\logistic.py:432: FutureWarning: Default solver will be changed to 'lbfgs' in 0.22. Specify a solver to silence this warning.\n",
      "  FutureWarning)\n",
      "E:\\Installs\\Anaconda\\lib\\site-packages\\sklearn\\linear_model\\logistic.py:469: FutureWarning: Default multi_class will be changed to 'auto' in 0.22. Specify the multi_class option to silence this warning.\n",
      "  \"this warning.\", FutureWarning)\n"
     ]
    },
    {
     "name": "stdout",
     "output_type": "stream",
     "text": [
      "Accuracy: 63.358778625954194 % Best: 70.22900763358778\n"
     ]
    },
    {
     "name": "stderr",
     "output_type": "stream",
     "text": [
      "E:\\Installs\\Anaconda\\lib\\site-packages\\sklearn\\linear_model\\logistic.py:432: FutureWarning: Default solver will be changed to 'lbfgs' in 0.22. Specify a solver to silence this warning.\n",
      "  FutureWarning)\n",
      "E:\\Installs\\Anaconda\\lib\\site-packages\\sklearn\\linear_model\\logistic.py:469: FutureWarning: Default multi_class will be changed to 'auto' in 0.22. Specify the multi_class option to silence this warning.\n",
      "  \"this warning.\", FutureWarning)\n"
     ]
    },
    {
     "name": "stdout",
     "output_type": "stream",
     "text": [
      "Accuracy: 62.213740458015266 % Best: 70.22900763358778\n"
     ]
    },
    {
     "name": "stderr",
     "output_type": "stream",
     "text": [
      "E:\\Installs\\Anaconda\\lib\\site-packages\\sklearn\\linear_model\\logistic.py:432: FutureWarning: Default solver will be changed to 'lbfgs' in 0.22. Specify a solver to silence this warning.\n",
      "  FutureWarning)\n",
      "E:\\Installs\\Anaconda\\lib\\site-packages\\sklearn\\linear_model\\logistic.py:469: FutureWarning: Default multi_class will be changed to 'auto' in 0.22. Specify the multi_class option to silence this warning.\n",
      "  \"this warning.\", FutureWarning)\n"
     ]
    },
    {
     "name": "stdout",
     "output_type": "stream",
     "text": [
      "Accuracy: 63.74045801526718 % Best: 70.22900763358778\n"
     ]
    },
    {
     "name": "stderr",
     "output_type": "stream",
     "text": [
      "E:\\Installs\\Anaconda\\lib\\site-packages\\sklearn\\linear_model\\logistic.py:432: FutureWarning: Default solver will be changed to 'lbfgs' in 0.22. Specify a solver to silence this warning.\n",
      "  FutureWarning)\n",
      "E:\\Installs\\Anaconda\\lib\\site-packages\\sklearn\\linear_model\\logistic.py:469: FutureWarning: Default multi_class will be changed to 'auto' in 0.22. Specify the multi_class option to silence this warning.\n",
      "  \"this warning.\", FutureWarning)\n"
     ]
    },
    {
     "name": "stdout",
     "output_type": "stream",
     "text": [
      "Accuracy: 56.87022900763359 % Best: 70.22900763358778\n"
     ]
    },
    {
     "name": "stderr",
     "output_type": "stream",
     "text": [
      "E:\\Installs\\Anaconda\\lib\\site-packages\\sklearn\\linear_model\\logistic.py:432: FutureWarning: Default solver will be changed to 'lbfgs' in 0.22. Specify a solver to silence this warning.\n",
      "  FutureWarning)\n",
      "E:\\Installs\\Anaconda\\lib\\site-packages\\sklearn\\linear_model\\logistic.py:469: FutureWarning: Default multi_class will be changed to 'auto' in 0.22. Specify the multi_class option to silence this warning.\n",
      "  \"this warning.\", FutureWarning)\n"
     ]
    },
    {
     "name": "stdout",
     "output_type": "stream",
     "text": [
      "Accuracy: 59.541984732824424 % Best: 70.22900763358778\n"
     ]
    },
    {
     "name": "stderr",
     "output_type": "stream",
     "text": [
      "E:\\Installs\\Anaconda\\lib\\site-packages\\sklearn\\linear_model\\logistic.py:432: FutureWarning: Default solver will be changed to 'lbfgs' in 0.22. Specify a solver to silence this warning.\n",
      "  FutureWarning)\n",
      "E:\\Installs\\Anaconda\\lib\\site-packages\\sklearn\\linear_model\\logistic.py:469: FutureWarning: Default multi_class will be changed to 'auto' in 0.22. Specify the multi_class option to silence this warning.\n",
      "  \"this warning.\", FutureWarning)\n"
     ]
    },
    {
     "name": "stdout",
     "output_type": "stream",
     "text": [
      "Accuracy: 61.832061068702295 % Best: 70.22900763358778\n"
     ]
    },
    {
     "name": "stderr",
     "output_type": "stream",
     "text": [
      "E:\\Installs\\Anaconda\\lib\\site-packages\\sklearn\\linear_model\\logistic.py:432: FutureWarning: Default solver will be changed to 'lbfgs' in 0.22. Specify a solver to silence this warning.\n",
      "  FutureWarning)\n",
      "E:\\Installs\\Anaconda\\lib\\site-packages\\sklearn\\linear_model\\logistic.py:469: FutureWarning: Default multi_class will be changed to 'auto' in 0.22. Specify the multi_class option to silence this warning.\n",
      "  \"this warning.\", FutureWarning)\n"
     ]
    },
    {
     "name": "stdout",
     "output_type": "stream",
     "text": [
      "Accuracy: 60.30534351145038 % Best: 70.22900763358778\n"
     ]
    },
    {
     "name": "stderr",
     "output_type": "stream",
     "text": [
      "E:\\Installs\\Anaconda\\lib\\site-packages\\sklearn\\linear_model\\logistic.py:432: FutureWarning: Default solver will be changed to 'lbfgs' in 0.22. Specify a solver to silence this warning.\n",
      "  FutureWarning)\n",
      "E:\\Installs\\Anaconda\\lib\\site-packages\\sklearn\\linear_model\\logistic.py:469: FutureWarning: Default multi_class will be changed to 'auto' in 0.22. Specify the multi_class option to silence this warning.\n",
      "  \"this warning.\", FutureWarning)\n"
     ]
    },
    {
     "name": "stdout",
     "output_type": "stream",
     "text": [
      "Accuracy: 68.32061068702289 % Best: 70.22900763358778\n"
     ]
    },
    {
     "name": "stderr",
     "output_type": "stream",
     "text": [
      "E:\\Installs\\Anaconda\\lib\\site-packages\\sklearn\\linear_model\\logistic.py:432: FutureWarning: Default solver will be changed to 'lbfgs' in 0.22. Specify a solver to silence this warning.\n",
      "  FutureWarning)\n",
      "E:\\Installs\\Anaconda\\lib\\site-packages\\sklearn\\linear_model\\logistic.py:469: FutureWarning: Default multi_class will be changed to 'auto' in 0.22. Specify the multi_class option to silence this warning.\n",
      "  \"this warning.\", FutureWarning)\n"
     ]
    },
    {
     "name": "stdout",
     "output_type": "stream",
     "text": [
      "Accuracy: 60.68702290076335 % Best: 70.22900763358778\n"
     ]
    },
    {
     "name": "stderr",
     "output_type": "stream",
     "text": [
      "E:\\Installs\\Anaconda\\lib\\site-packages\\sklearn\\linear_model\\logistic.py:432: FutureWarning: Default solver will be changed to 'lbfgs' in 0.22. Specify a solver to silence this warning.\n",
      "  FutureWarning)\n",
      "E:\\Installs\\Anaconda\\lib\\site-packages\\sklearn\\linear_model\\logistic.py:469: FutureWarning: Default multi_class will be changed to 'auto' in 0.22. Specify the multi_class option to silence this warning.\n",
      "  \"this warning.\", FutureWarning)\n"
     ]
    },
    {
     "name": "stdout",
     "output_type": "stream",
     "text": [
      "Accuracy: 62.59541984732825 % Best: 70.22900763358778\n"
     ]
    },
    {
     "name": "stderr",
     "output_type": "stream",
     "text": [
      "E:\\Installs\\Anaconda\\lib\\site-packages\\sklearn\\linear_model\\logistic.py:432: FutureWarning: Default solver will be changed to 'lbfgs' in 0.22. Specify a solver to silence this warning.\n",
      "  FutureWarning)\n",
      "E:\\Installs\\Anaconda\\lib\\site-packages\\sklearn\\linear_model\\logistic.py:469: FutureWarning: Default multi_class will be changed to 'auto' in 0.22. Specify the multi_class option to silence this warning.\n",
      "  \"this warning.\", FutureWarning)\n"
     ]
    },
    {
     "name": "stdout",
     "output_type": "stream",
     "text": [
      "Accuracy: 61.06870229007634 % Best: 70.22900763358778\n"
     ]
    },
    {
     "name": "stderr",
     "output_type": "stream",
     "text": [
      "E:\\Installs\\Anaconda\\lib\\site-packages\\sklearn\\linear_model\\logistic.py:432: FutureWarning: Default solver will be changed to 'lbfgs' in 0.22. Specify a solver to silence this warning.\n",
      "  FutureWarning)\n",
      "E:\\Installs\\Anaconda\\lib\\site-packages\\sklearn\\linear_model\\logistic.py:469: FutureWarning: Default multi_class will be changed to 'auto' in 0.22. Specify the multi_class option to silence this warning.\n",
      "  \"this warning.\", FutureWarning)\n"
     ]
    },
    {
     "name": "stdout",
     "output_type": "stream",
     "text": [
      "Accuracy: 62.213740458015266 % Best: 70.22900763358778\n"
     ]
    },
    {
     "name": "stderr",
     "output_type": "stream",
     "text": [
      "E:\\Installs\\Anaconda\\lib\\site-packages\\sklearn\\linear_model\\logistic.py:432: FutureWarning: Default solver will be changed to 'lbfgs' in 0.22. Specify a solver to silence this warning.\n",
      "  FutureWarning)\n",
      "E:\\Installs\\Anaconda\\lib\\site-packages\\sklearn\\linear_model\\logistic.py:469: FutureWarning: Default multi_class will be changed to 'auto' in 0.22. Specify the multi_class option to silence this warning.\n",
      "  \"this warning.\", FutureWarning)\n"
     ]
    },
    {
     "name": "stdout",
     "output_type": "stream",
     "text": [
      "Accuracy: 64.50381679389314 % Best: 70.22900763358778\n"
     ]
    },
    {
     "name": "stderr",
     "output_type": "stream",
     "text": [
      "E:\\Installs\\Anaconda\\lib\\site-packages\\sklearn\\linear_model\\logistic.py:432: FutureWarning: Default solver will be changed to 'lbfgs' in 0.22. Specify a solver to silence this warning.\n",
      "  FutureWarning)\n",
      "E:\\Installs\\Anaconda\\lib\\site-packages\\sklearn\\linear_model\\logistic.py:469: FutureWarning: Default multi_class will be changed to 'auto' in 0.22. Specify the multi_class option to silence this warning.\n",
      "  \"this warning.\", FutureWarning)\n"
     ]
    },
    {
     "name": "stdout",
     "output_type": "stream",
     "text": [
      "Accuracy: 58.01526717557252 % Best: 70.22900763358778\n"
     ]
    },
    {
     "name": "stderr",
     "output_type": "stream",
     "text": [
      "E:\\Installs\\Anaconda\\lib\\site-packages\\sklearn\\linear_model\\logistic.py:432: FutureWarning: Default solver will be changed to 'lbfgs' in 0.22. Specify a solver to silence this warning.\n",
      "  FutureWarning)\n",
      "E:\\Installs\\Anaconda\\lib\\site-packages\\sklearn\\linear_model\\logistic.py:469: FutureWarning: Default multi_class will be changed to 'auto' in 0.22. Specify the multi_class option to silence this warning.\n",
      "  \"this warning.\", FutureWarning)\n"
     ]
    },
    {
     "name": "stdout",
     "output_type": "stream",
     "text": [
      "Accuracy: 64.8854961832061 % Best: 70.22900763358778\n"
     ]
    },
    {
     "name": "stderr",
     "output_type": "stream",
     "text": [
      "E:\\Installs\\Anaconda\\lib\\site-packages\\sklearn\\linear_model\\logistic.py:432: FutureWarning: Default solver will be changed to 'lbfgs' in 0.22. Specify a solver to silence this warning.\n",
      "  FutureWarning)\n",
      "E:\\Installs\\Anaconda\\lib\\site-packages\\sklearn\\linear_model\\logistic.py:469: FutureWarning: Default multi_class will be changed to 'auto' in 0.22. Specify the multi_class option to silence this warning.\n",
      "  \"this warning.\", FutureWarning)\n"
     ]
    },
    {
     "name": "stdout",
     "output_type": "stream",
     "text": [
      "Accuracy: 62.97709923664122 % Best: 70.22900763358778\n"
     ]
    },
    {
     "name": "stderr",
     "output_type": "stream",
     "text": [
      "E:\\Installs\\Anaconda\\lib\\site-packages\\sklearn\\linear_model\\logistic.py:432: FutureWarning: Default solver will be changed to 'lbfgs' in 0.22. Specify a solver to silence this warning.\n",
      "  FutureWarning)\n",
      "E:\\Installs\\Anaconda\\lib\\site-packages\\sklearn\\linear_model\\logistic.py:469: FutureWarning: Default multi_class will be changed to 'auto' in 0.22. Specify the multi_class option to silence this warning.\n",
      "  \"this warning.\", FutureWarning)\n"
     ]
    },
    {
     "name": "stdout",
     "output_type": "stream",
     "text": [
      "Accuracy: 63.74045801526718 % Best: 70.22900763358778\n"
     ]
    },
    {
     "name": "stderr",
     "output_type": "stream",
     "text": [
      "E:\\Installs\\Anaconda\\lib\\site-packages\\sklearn\\linear_model\\logistic.py:432: FutureWarning: Default solver will be changed to 'lbfgs' in 0.22. Specify a solver to silence this warning.\n",
      "  FutureWarning)\n",
      "E:\\Installs\\Anaconda\\lib\\site-packages\\sklearn\\linear_model\\logistic.py:469: FutureWarning: Default multi_class will be changed to 'auto' in 0.22. Specify the multi_class option to silence this warning.\n",
      "  \"this warning.\", FutureWarning)\n"
     ]
    },
    {
     "name": "stdout",
     "output_type": "stream",
     "text": [
      "Accuracy: 63.358778625954194 % Best: 70.22900763358778\n"
     ]
    },
    {
     "name": "stderr",
     "output_type": "stream",
     "text": [
      "E:\\Installs\\Anaconda\\lib\\site-packages\\sklearn\\linear_model\\logistic.py:432: FutureWarning: Default solver will be changed to 'lbfgs' in 0.22. Specify a solver to silence this warning.\n",
      "  FutureWarning)\n",
      "E:\\Installs\\Anaconda\\lib\\site-packages\\sklearn\\linear_model\\logistic.py:469: FutureWarning: Default multi_class will be changed to 'auto' in 0.22. Specify the multi_class option to silence this warning.\n",
      "  \"this warning.\", FutureWarning)\n"
     ]
    },
    {
     "name": "stdout",
     "output_type": "stream",
     "text": [
      "Accuracy: 57.25190839694656 % Best: 70.22900763358778\n"
     ]
    }
   ],
   "source": [
    "get_best_fit()"
   ]
  },
  {
   "cell_type": "code",
   "execution_count": 7,
   "metadata": {
    "scrolled": true
   },
   "outputs": [],
   "source": [
    "# y_new = model.predict(X_test)\n",
    "\n",
    "# for i in range(len(y_new)):\n",
    "#     print(\"Original: {}, Predicted: {}\".format(y_test[i], y_new[i]))\n",
    "X_train, X_test, y_train, y_test = train_test_split(X, y, train_size=0.50)"
   ]
  },
  {
   "cell_type": "code",
   "execution_count": 8,
   "metadata": {},
   "outputs": [],
   "source": [
    "def load_model(filename):\n",
    "    return pickle.load(open(filename, 'rb'))"
   ]
  },
  {
   "cell_type": "code",
   "execution_count": 9,
   "metadata": {},
   "outputs": [],
   "source": [
    "model_test = load_model('lr_model.sav')"
   ]
  },
  {
   "cell_type": "code",
   "execution_count": 10,
   "metadata": {},
   "outputs": [
    {
     "data": {
      "text/plain": [
       "0.6394948335246843"
      ]
     },
     "execution_count": 10,
     "metadata": {},
     "output_type": "execute_result"
    }
   ],
   "source": [
    "model_test.score(X_test, y_test)"
   ]
  },
  {
   "cell_type": "code",
   "execution_count": 11,
   "metadata": {},
   "outputs": [
    {
     "name": "stdout",
     "output_type": "stream",
     "text": [
      "Original: 4, Predicted: 4\n",
      "Original: 3, Predicted: 3\n",
      "Original: 5, Predicted: 5\n",
      "Original: 5, Predicted: 5\n",
      "Original: 0, Predicted: 0\n",
      "Original: 1, Predicted: 2\n",
      "Original: 2, Predicted: 0\n",
      "Original: 3, Predicted: 3\n",
      "Original: 2, Predicted: 1\n",
      "Original: 2, Predicted: 0\n",
      "Original: 3, Predicted: 5\n",
      "Original: 2, Predicted: 0\n",
      "Original: 4, Predicted: 4\n",
      "Original: 1, Predicted: 0\n",
      "Original: 4, Predicted: 1\n",
      "Original: 0, Predicted: 0\n",
      "Original: 5, Predicted: 5\n",
      "Original: 0, Predicted: 0\n",
      "Original: 5, Predicted: 5\n",
      "Original: 3, Predicted: 3\n",
      "Original: 5, Predicted: 5\n",
      "Original: 2, Predicted: 2\n",
      "Original: 0, Predicted: 0\n",
      "Original: 3, Predicted: 3\n",
      "Original: 2, Predicted: 2\n",
      "Original: 3, Predicted: 5\n",
      "Original: 0, Predicted: 5\n",
      "Original: 1, Predicted: 0\n",
      "Original: 5, Predicted: 5\n",
      "Original: 1, Predicted: 4\n",
      "Original: 2, Predicted: 0\n",
      "Original: 5, Predicted: 1\n",
      "Original: 0, Predicted: 5\n",
      "Original: 2, Predicted: 2\n",
      "Original: 5, Predicted: 0\n",
      "Original: 4, Predicted: 2\n",
      "Original: 4, Predicted: 0\n",
      "Original: 0, Predicted: 0\n",
      "Original: 3, Predicted: 3\n",
      "Original: 1, Predicted: 1\n",
      "Original: 5, Predicted: 5\n",
      "Original: 0, Predicted: 0\n",
      "Original: 2, Predicted: 2\n",
      "Original: 1, Predicted: 0\n",
      "Original: 3, Predicted: 3\n",
      "Original: 3, Predicted: 3\n",
      "Original: 0, Predicted: 0\n",
      "Original: 0, Predicted: 1\n",
      "Original: 0, Predicted: 0\n",
      "Original: 0, Predicted: 0\n",
      "Original: 2, Predicted: 2\n",
      "Original: 2, Predicted: 2\n",
      "Original: 5, Predicted: 5\n",
      "Original: 0, Predicted: 1\n",
      "Original: 5, Predicted: 5\n",
      "Original: 5, Predicted: 0\n",
      "Original: 4, Predicted: 4\n",
      "Original: 5, Predicted: 5\n",
      "Original: 5, Predicted: 3\n",
      "Original: 2, Predicted: 2\n",
      "Original: 3, Predicted: 3\n",
      "Original: 4, Predicted: 4\n",
      "Original: 4, Predicted: 0\n",
      "Original: 2, Predicted: 4\n",
      "Original: 0, Predicted: 2\n",
      "Original: 2, Predicted: 0\n",
      "Original: 1, Predicted: 1\n",
      "Original: 2, Predicted: 2\n",
      "Original: 2, Predicted: 2\n",
      "Original: 2, Predicted: 3\n",
      "Original: 5, Predicted: 0\n",
      "Original: 4, Predicted: 4\n",
      "Original: 5, Predicted: 5\n",
      "Original: 1, Predicted: 0\n",
      "Original: 3, Predicted: 5\n",
      "Original: 3, Predicted: 3\n",
      "Original: 5, Predicted: 5\n",
      "Original: 1, Predicted: 1\n",
      "Original: 0, Predicted: 0\n",
      "Original: 1, Predicted: 1\n",
      "Original: 1, Predicted: 1\n",
      "Original: 0, Predicted: 1\n",
      "Original: 3, Predicted: 5\n",
      "Original: 4, Predicted: 4\n",
      "Original: 0, Predicted: 0\n",
      "Original: 0, Predicted: 0\n",
      "Original: 1, Predicted: 0\n",
      "Original: 0, Predicted: 0\n",
      "Original: 1, Predicted: 1\n",
      "Original: 1, Predicted: 1\n",
      "Original: 4, Predicted: 4\n",
      "Original: 4, Predicted: 4\n",
      "Original: 1, Predicted: 1\n",
      "Original: 3, Predicted: 5\n",
      "Original: 4, Predicted: 0\n",
      "Original: 3, Predicted: 3\n",
      "Original: 2, Predicted: 2\n",
      "Original: 0, Predicted: 0\n",
      "Original: 4, Predicted: 5\n",
      "Original: 3, Predicted: 4\n",
      "Original: 1, Predicted: 4\n",
      "Original: 0, Predicted: 1\n",
      "Original: 1, Predicted: 5\n",
      "Original: 4, Predicted: 4\n",
      "Original: 3, Predicted: 3\n",
      "Original: 3, Predicted: 3\n",
      "Original: 4, Predicted: 0\n",
      "Original: 4, Predicted: 4\n",
      "Original: 2, Predicted: 2\n",
      "Original: 5, Predicted: 5\n",
      "Original: 4, Predicted: 1\n",
      "Original: 4, Predicted: 4\n",
      "Original: 1, Predicted: 1\n",
      "Original: 2, Predicted: 2\n",
      "Original: 1, Predicted: 1\n",
      "Original: 5, Predicted: 5\n",
      "Original: 5, Predicted: 5\n",
      "Original: 1, Predicted: 2\n",
      "Original: 0, Predicted: 0\n",
      "Original: 2, Predicted: 2\n",
      "Original: 4, Predicted: 4\n",
      "Original: 2, Predicted: 2\n",
      "Original: 1, Predicted: 1\n",
      "Original: 0, Predicted: 0\n",
      "Original: 0, Predicted: 0\n",
      "Original: 0, Predicted: 0\n",
      "Original: 4, Predicted: 4\n",
      "Original: 0, Predicted: 2\n",
      "Original: 0, Predicted: 0\n",
      "Original: 3, Predicted: 0\n",
      "Original: 1, Predicted: 1\n",
      "Original: 4, Predicted: 0\n",
      "Original: 2, Predicted: 4\n",
      "Original: 5, Predicted: 5\n",
      "Original: 1, Predicted: 1\n",
      "Original: 4, Predicted: 5\n",
      "Original: 3, Predicted: 4\n",
      "Original: 5, Predicted: 5\n",
      "Original: 4, Predicted: 0\n",
      "Original: 1, Predicted: 1\n",
      "Original: 0, Predicted: 2\n",
      "Original: 1, Predicted: 1\n",
      "Original: 2, Predicted: 2\n",
      "Original: 0, Predicted: 0\n",
      "Original: 0, Predicted: 0\n",
      "Original: 3, Predicted: 3\n",
      "Original: 2, Predicted: 2\n",
      "Original: 2, Predicted: 2\n",
      "Original: 0, Predicted: 0\n",
      "Original: 5, Predicted: 5\n",
      "Original: 3, Predicted: 3\n",
      "Original: 4, Predicted: 4\n",
      "Original: 1, Predicted: 1\n",
      "Original: 1, Predicted: 1\n",
      "Original: 2, Predicted: 2\n",
      "Original: 0, Predicted: 0\n",
      "Original: 2, Predicted: 2\n",
      "Original: 3, Predicted: 3\n",
      "Original: 0, Predicted: 0\n",
      "Original: 0, Predicted: 0\n",
      "Original: 2, Predicted: 4\n",
      "Original: 2, Predicted: 0\n",
      "Original: 4, Predicted: 4\n",
      "Original: 5, Predicted: 1\n",
      "Original: 5, Predicted: 2\n",
      "Original: 4, Predicted: 4\n",
      "Original: 5, Predicted: 5\n",
      "Original: 2, Predicted: 2\n",
      "Original: 4, Predicted: 4\n",
      "Original: 5, Predicted: 5\n",
      "Original: 5, Predicted: 5\n",
      "Original: 4, Predicted: 4\n",
      "Original: 5, Predicted: 5\n",
      "Original: 1, Predicted: 1\n",
      "Original: 5, Predicted: 5\n",
      "Original: 3, Predicted: 4\n",
      "Original: 5, Predicted: 5\n",
      "Original: 0, Predicted: 2\n",
      "Original: 1, Predicted: 1\n",
      "Original: 1, Predicted: 1\n",
      "Original: 0, Predicted: 0\n",
      "Original: 0, Predicted: 0\n",
      "Original: 3, Predicted: 3\n",
      "Original: 0, Predicted: 0\n",
      "Original: 5, Predicted: 5\n",
      "Original: 1, Predicted: 1\n",
      "Original: 5, Predicted: 5\n",
      "Original: 4, Predicted: 1\n",
      "Original: 1, Predicted: 2\n",
      "Original: 3, Predicted: 5\n",
      "Original: 0, Predicted: 0\n",
      "Original: 0, Predicted: 2\n",
      "Original: 0, Predicted: 0\n",
      "Original: 1, Predicted: 1\n",
      "Original: 1, Predicted: 1\n",
      "Original: 1, Predicted: 1\n",
      "Original: 0, Predicted: 0\n",
      "Original: 2, Predicted: 2\n",
      "Original: 5, Predicted: 3\n",
      "Original: 4, Predicted: 4\n",
      "Original: 3, Predicted: 4\n",
      "Original: 3, Predicted: 3\n",
      "Original: 3, Predicted: 5\n",
      "Original: 3, Predicted: 3\n",
      "Original: 1, Predicted: 1\n",
      "Original: 5, Predicted: 3\n",
      "Original: 0, Predicted: 0\n",
      "Original: 5, Predicted: 5\n",
      "Original: 3, Predicted: 5\n",
      "Original: 1, Predicted: 1\n",
      "Original: 0, Predicted: 0\n",
      "Original: 5, Predicted: 0\n",
      "Original: 5, Predicted: 5\n",
      "Original: 0, Predicted: 0\n",
      "Original: 4, Predicted: 4\n",
      "Original: 3, Predicted: 3\n",
      "Original: 1, Predicted: 1\n",
      "Original: 5, Predicted: 4\n",
      "Original: 1, Predicted: 0\n",
      "Original: 4, Predicted: 2\n",
      "Original: 1, Predicted: 1\n",
      "Original: 1, Predicted: 1\n",
      "Original: 5, Predicted: 4\n",
      "Original: 1, Predicted: 1\n",
      "Original: 2, Predicted: 2\n",
      "Original: 1, Predicted: 1\n",
      "Original: 1, Predicted: 1\n",
      "Original: 5, Predicted: 3\n",
      "Original: 1, Predicted: 1\n",
      "Original: 3, Predicted: 4\n",
      "Original: 4, Predicted: 5\n",
      "Original: 3, Predicted: 4\n",
      "Original: 3, Predicted: 3\n",
      "Original: 3, Predicted: 3\n",
      "Original: 3, Predicted: 3\n",
      "Original: 5, Predicted: 5\n",
      "Original: 2, Predicted: 2\n",
      "Original: 0, Predicted: 0\n",
      "Original: 3, Predicted: 1\n",
      "Original: 1, Predicted: 2\n",
      "Original: 0, Predicted: 2\n",
      "Original: 5, Predicted: 3\n",
      "Original: 0, Predicted: 0\n",
      "Original: 3, Predicted: 3\n",
      "Original: 0, Predicted: 0\n",
      "Original: 1, Predicted: 1\n",
      "Original: 1, Predicted: 1\n",
      "Original: 5, Predicted: 5\n",
      "Original: 0, Predicted: 2\n",
      "Original: 0, Predicted: 2\n",
      "Original: 2, Predicted: 2\n",
      "Original: 5, Predicted: 3\n",
      "Original: 4, Predicted: 5\n",
      "Original: 0, Predicted: 0\n",
      "Original: 4, Predicted: 5\n",
      "Original: 1, Predicted: 1\n",
      "Original: 4, Predicted: 4\n",
      "Original: 2, Predicted: 1\n",
      "Original: 4, Predicted: 4\n",
      "Original: 1, Predicted: 1\n",
      "Original: 2, Predicted: 2\n",
      "Original: 1, Predicted: 1\n",
      "Original: 4, Predicted: 4\n",
      "Original: 1, Predicted: 0\n",
      "Original: 3, Predicted: 3\n",
      "Original: 5, Predicted: 3\n",
      "Original: 0, Predicted: 0\n",
      "Original: 5, Predicted: 5\n",
      "Original: 0, Predicted: 0\n",
      "Original: 0, Predicted: 0\n",
      "Original: 5, Predicted: 5\n",
      "Original: 4, Predicted: 3\n",
      "Original: 4, Predicted: 4\n",
      "Original: 2, Predicted: 2\n",
      "Original: 2, Predicted: 0\n",
      "Original: 0, Predicted: 0\n",
      "Original: 3, Predicted: 4\n",
      "Original: 4, Predicted: 1\n",
      "Original: 0, Predicted: 0\n",
      "Original: 3, Predicted: 3\n",
      "Original: 0, Predicted: 1\n",
      "Original: 3, Predicted: 3\n",
      "Original: 3, Predicted: 5\n",
      "Original: 5, Predicted: 0\n",
      "Original: 3, Predicted: 5\n",
      "Original: 4, Predicted: 4\n",
      "Original: 4, Predicted: 5\n",
      "Original: 0, Predicted: 0\n",
      "Original: 5, Predicted: 0\n",
      "Original: 5, Predicted: 5\n",
      "Original: 2, Predicted: 2\n",
      "Original: 4, Predicted: 4\n",
      "Original: 2, Predicted: 0\n",
      "Original: 4, Predicted: 1\n",
      "Original: 0, Predicted: 0\n",
      "Original: 3, Predicted: 3\n",
      "Original: 3, Predicted: 5\n",
      "Original: 4, Predicted: 4\n",
      "Original: 4, Predicted: 5\n",
      "Original: 1, Predicted: 1\n",
      "Original: 3, Predicted: 3\n",
      "Original: 3, Predicted: 5\n",
      "Original: 4, Predicted: 4\n",
      "Original: 5, Predicted: 5\n",
      "Original: 0, Predicted: 0\n",
      "Original: 5, Predicted: 4\n",
      "Original: 3, Predicted: 5\n",
      "Original: 1, Predicted: 1\n",
      "Original: 4, Predicted: 4\n",
      "Original: 1, Predicted: 1\n",
      "Original: 3, Predicted: 3\n",
      "Original: 3, Predicted: 3\n",
      "Original: 1, Predicted: 1\n",
      "Original: 1, Predicted: 1\n",
      "Original: 3, Predicted: 3\n"
     ]
    },
    {
     "name": "stdout",
     "output_type": "stream",
     "text": [
      "Original: 0, Predicted: 1\n",
      "Original: 1, Predicted: 1\n",
      "Original: 1, Predicted: 1\n",
      "Original: 2, Predicted: 2\n",
      "Original: 2, Predicted: 4\n",
      "Original: 1, Predicted: 1\n",
      "Original: 5, Predicted: 1\n",
      "Original: 1, Predicted: 1\n",
      "Original: 0, Predicted: 0\n",
      "Original: 5, Predicted: 4\n",
      "Original: 4, Predicted: 1\n",
      "Original: 3, Predicted: 3\n",
      "Original: 5, Predicted: 4\n",
      "Original: 2, Predicted: 2\n",
      "Original: 0, Predicted: 1\n",
      "Original: 3, Predicted: 4\n",
      "Original: 5, Predicted: 5\n",
      "Original: 4, Predicted: 4\n",
      "Original: 1, Predicted: 5\n",
      "Original: 1, Predicted: 1\n",
      "Original: 3, Predicted: 5\n",
      "Original: 0, Predicted: 2\n",
      "Original: 4, Predicted: 3\n",
      "Original: 3, Predicted: 3\n",
      "Original: 5, Predicted: 5\n",
      "Original: 3, Predicted: 3\n",
      "Original: 5, Predicted: 5\n",
      "Original: 4, Predicted: 0\n",
      "Original: 2, Predicted: 0\n",
      "Original: 1, Predicted: 1\n",
      "Original: 3, Predicted: 5\n",
      "Original: 0, Predicted: 1\n",
      "Original: 3, Predicted: 3\n",
      "Original: 2, Predicted: 1\n",
      "Original: 5, Predicted: 5\n",
      "Original: 3, Predicted: 3\n",
      "Original: 5, Predicted: 5\n",
      "Original: 4, Predicted: 1\n",
      "Original: 5, Predicted: 4\n",
      "Original: 2, Predicted: 2\n",
      "Original: 3, Predicted: 3\n",
      "Original: 3, Predicted: 3\n",
      "Original: 1, Predicted: 5\n",
      "Original: 1, Predicted: 1\n",
      "Original: 0, Predicted: 0\n",
      "Original: 1, Predicted: 1\n",
      "Original: 5, Predicted: 4\n",
      "Original: 0, Predicted: 0\n",
      "Original: 0, Predicted: 0\n",
      "Original: 4, Predicted: 3\n",
      "Original: 3, Predicted: 5\n",
      "Original: 1, Predicted: 0\n",
      "Original: 2, Predicted: 2\n",
      "Original: 5, Predicted: 5\n",
      "Original: 1, Predicted: 0\n",
      "Original: 5, Predicted: 2\n",
      "Original: 2, Predicted: 0\n",
      "Original: 3, Predicted: 3\n",
      "Original: 5, Predicted: 5\n",
      "Original: 3, Predicted: 4\n",
      "Original: 1, Predicted: 1\n",
      "Original: 5, Predicted: 3\n",
      "Original: 1, Predicted: 1\n",
      "Original: 0, Predicted: 0\n",
      "Original: 2, Predicted: 4\n",
      "Original: 4, Predicted: 1\n",
      "Original: 4, Predicted: 2\n",
      "Original: 0, Predicted: 0\n",
      "Original: 4, Predicted: 4\n",
      "Original: 0, Predicted: 0\n",
      "Original: 0, Predicted: 0\n",
      "Original: 3, Predicted: 2\n",
      "Original: 1, Predicted: 1\n",
      "Original: 0, Predicted: 0\n",
      "Original: 5, Predicted: 5\n",
      "Original: 2, Predicted: 2\n",
      "Original: 5, Predicted: 5\n",
      "Original: 0, Predicted: 0\n",
      "Original: 0, Predicted: 2\n",
      "Original: 1, Predicted: 1\n",
      "Original: 1, Predicted: 1\n",
      "Original: 3, Predicted: 5\n",
      "Original: 3, Predicted: 3\n",
      "Original: 5, Predicted: 5\n",
      "Original: 1, Predicted: 5\n",
      "Original: 2, Predicted: 2\n",
      "Original: 0, Predicted: 0\n",
      "Original: 4, Predicted: 4\n",
      "Original: 2, Predicted: 2\n",
      "Original: 1, Predicted: 1\n",
      "Original: 1, Predicted: 4\n",
      "Original: 1, Predicted: 1\n",
      "Original: 0, Predicted: 0\n",
      "Original: 0, Predicted: 0\n",
      "Original: 4, Predicted: 4\n",
      "Original: 5, Predicted: 5\n",
      "Original: 3, Predicted: 3\n",
      "Original: 5, Predicted: 3\n",
      "Original: 5, Predicted: 5\n",
      "Original: 5, Predicted: 0\n",
      "Original: 3, Predicted: 3\n",
      "Original: 1, Predicted: 1\n",
      "Original: 1, Predicted: 0\n",
      "Original: 1, Predicted: 1\n",
      "Original: 5, Predicted: 5\n",
      "Original: 5, Predicted: 5\n",
      "Original: 0, Predicted: 5\n",
      "Original: 3, Predicted: 4\n",
      "Original: 4, Predicted: 2\n",
      "Original: 5, Predicted: 5\n",
      "Original: 2, Predicted: 2\n",
      "Original: 0, Predicted: 0\n",
      "Original: 3, Predicted: 3\n",
      "Original: 3, Predicted: 3\n",
      "Original: 1, Predicted: 1\n",
      "Original: 4, Predicted: 3\n",
      "Original: 3, Predicted: 4\n",
      "Original: 0, Predicted: 0\n",
      "Original: 5, Predicted: 0\n",
      "Original: 1, Predicted: 1\n",
      "Original: 2, Predicted: 2\n",
      "Original: 3, Predicted: 5\n",
      "Original: 4, Predicted: 4\n",
      "Original: 5, Predicted: 5\n",
      "Original: 2, Predicted: 2\n",
      "Original: 3, Predicted: 3\n",
      "Original: 4, Predicted: 1\n",
      "Original: 1, Predicted: 1\n",
      "Original: 4, Predicted: 2\n",
      "Original: 2, Predicted: 0\n",
      "Original: 3, Predicted: 3\n",
      "Original: 2, Predicted: 2\n",
      "Original: 2, Predicted: 2\n",
      "Original: 2, Predicted: 2\n",
      "Original: 5, Predicted: 0\n",
      "Original: 0, Predicted: 0\n",
      "Original: 3, Predicted: 3\n",
      "Original: 2, Predicted: 2\n",
      "Original: 3, Predicted: 3\n",
      "Original: 0, Predicted: 0\n",
      "Original: 0, Predicted: 0\n",
      "Original: 1, Predicted: 1\n",
      "Original: 5, Predicted: 3\n",
      "Original: 1, Predicted: 1\n",
      "Original: 2, Predicted: 2\n",
      "Original: 0, Predicted: 0\n",
      "Original: 0, Predicted: 5\n",
      "Original: 2, Predicted: 0\n",
      "Original: 3, Predicted: 4\n",
      "Original: 0, Predicted: 0\n",
      "Original: 5, Predicted: 3\n",
      "Original: 0, Predicted: 0\n",
      "Original: 3, Predicted: 3\n",
      "Original: 4, Predicted: 3\n",
      "Original: 3, Predicted: 2\n",
      "Original: 5, Predicted: 5\n",
      "Original: 2, Predicted: 0\n",
      "Original: 4, Predicted: 4\n",
      "Original: 2, Predicted: 3\n",
      "Original: 3, Predicted: 5\n",
      "Original: 0, Predicted: 5\n",
      "Original: 5, Predicted: 5\n",
      "Original: 4, Predicted: 2\n",
      "Original: 2, Predicted: 0\n",
      "Original: 3, Predicted: 3\n",
      "Original: 1, Predicted: 4\n",
      "Original: 1, Predicted: 1\n",
      "Original: 3, Predicted: 4\n",
      "Original: 3, Predicted: 4\n",
      "Original: 2, Predicted: 2\n",
      "Original: 4, Predicted: 4\n",
      "Original: 2, Predicted: 0\n",
      "Original: 1, Predicted: 1\n",
      "Original: 3, Predicted: 4\n",
      "Original: 4, Predicted: 3\n",
      "Original: 2, Predicted: 2\n",
      "Original: 1, Predicted: 1\n",
      "Original: 4, Predicted: 4\n",
      "Original: 5, Predicted: 5\n",
      "Original: 3, Predicted: 5\n",
      "Original: 5, Predicted: 5\n",
      "Original: 3, Predicted: 4\n",
      "Original: 3, Predicted: 3\n",
      "Original: 3, Predicted: 5\n",
      "Original: 2, Predicted: 2\n",
      "Original: 3, Predicted: 3\n",
      "Original: 0, Predicted: 0\n",
      "Original: 4, Predicted: 5\n",
      "Original: 3, Predicted: 3\n",
      "Original: 1, Predicted: 1\n",
      "Original: 2, Predicted: 2\n",
      "Original: 0, Predicted: 0\n",
      "Original: 1, Predicted: 1\n",
      "Original: 1, Predicted: 1\n",
      "Original: 3, Predicted: 3\n",
      "Original: 5, Predicted: 5\n",
      "Original: 2, Predicted: 2\n",
      "Original: 3, Predicted: 3\n",
      "Original: 0, Predicted: 2\n",
      "Original: 4, Predicted: 4\n",
      "Original: 4, Predicted: 4\n",
      "Original: 4, Predicted: 4\n",
      "Original: 3, Predicted: 5\n",
      "Original: 3, Predicted: 3\n",
      "Original: 5, Predicted: 5\n",
      "Original: 0, Predicted: 0\n",
      "Original: 4, Predicted: 4\n",
      "Original: 3, Predicted: 3\n",
      "Original: 4, Predicted: 4\n",
      "Original: 1, Predicted: 2\n",
      "Original: 2, Predicted: 2\n",
      "Original: 1, Predicted: 1\n",
      "Original: 2, Predicted: 2\n",
      "Original: 0, Predicted: 0\n",
      "Original: 5, Predicted: 4\n",
      "Original: 0, Predicted: 0\n",
      "Original: 2, Predicted: 0\n",
      "Original: 5, Predicted: 2\n",
      "Original: 0, Predicted: 0\n",
      "Original: 2, Predicted: 1\n",
      "Original: 3, Predicted: 3\n",
      "Original: 1, Predicted: 2\n",
      "Original: 5, Predicted: 5\n",
      "Original: 2, Predicted: 2\n",
      "Original: 4, Predicted: 4\n",
      "Original: 3, Predicted: 3\n",
      "Original: 4, Predicted: 4\n",
      "Original: 1, Predicted: 2\n",
      "Original: 2, Predicted: 2\n",
      "Original: 0, Predicted: 0\n",
      "Original: 0, Predicted: 2\n",
      "Original: 1, Predicted: 1\n",
      "Original: 4, Predicted: 4\n",
      "Original: 1, Predicted: 1\n",
      "Original: 0, Predicted: 2\n",
      "Original: 4, Predicted: 2\n",
      "Original: 2, Predicted: 2\n",
      "Original: 3, Predicted: 4\n",
      "Original: 2, Predicted: 2\n",
      "Original: 4, Predicted: 5\n",
      "Original: 1, Predicted: 1\n",
      "Original: 5, Predicted: 2\n",
      "Original: 4, Predicted: 4\n",
      "Original: 5, Predicted: 5\n",
      "Original: 4, Predicted: 5\n",
      "Original: 0, Predicted: 4\n",
      "Original: 5, Predicted: 5\n",
      "Original: 3, Predicted: 3\n",
      "Original: 1, Predicted: 2\n",
      "Original: 2, Predicted: 0\n",
      "Original: 3, Predicted: 4\n",
      "Original: 4, Predicted: 1\n",
      "Original: 1, Predicted: 1\n",
      "Original: 2, Predicted: 2\n",
      "Original: 2, Predicted: 2\n",
      "Original: 2, Predicted: 2\n",
      "Original: 5, Predicted: 3\n",
      "Original: 2, Predicted: 2\n",
      "Original: 0, Predicted: 0\n",
      "Original: 2, Predicted: 5\n",
      "Original: 2, Predicted: 2\n",
      "Original: 5, Predicted: 0\n",
      "Original: 5, Predicted: 5\n",
      "Original: 1, Predicted: 1\n",
      "Original: 2, Predicted: 0\n",
      "Original: 1, Predicted: 1\n",
      "Original: 1, Predicted: 1\n",
      "Original: 0, Predicted: 0\n",
      "Original: 4, Predicted: 1\n",
      "Original: 4, Predicted: 4\n",
      "Original: 3, Predicted: 3\n",
      "Original: 5, Predicted: 5\n",
      "Original: 2, Predicted: 2\n",
      "Original: 0, Predicted: 5\n",
      "Original: 2, Predicted: 2\n",
      "Original: 4, Predicted: 5\n",
      "Original: 3, Predicted: 5\n",
      "Original: 0, Predicted: 0\n",
      "Original: 2, Predicted: 2\n",
      "Original: 0, Predicted: 5\n",
      "Original: 5, Predicted: 5\n",
      "Original: 0, Predicted: 1\n",
      "Original: 5, Predicted: 5\n",
      "Original: 2, Predicted: 2\n",
      "Original: 0, Predicted: 0\n",
      "Original: 4, Predicted: 4\n",
      "Original: 0, Predicted: 0\n",
      "Original: 1, Predicted: 1\n",
      "Original: 0, Predicted: 0\n",
      "Original: 2, Predicted: 2\n",
      "Original: 3, Predicted: 3\n",
      "Original: 4, Predicted: 4\n",
      "Original: 2, Predicted: 2\n",
      "Original: 2, Predicted: 2\n",
      "Original: 2, Predicted: 0\n",
      "Original: 3, Predicted: 3\n",
      "Original: 5, Predicted: 0\n",
      "Original: 1, Predicted: 5\n",
      "Original: 3, Predicted: 3\n",
      "Original: 2, Predicted: 0\n",
      "Original: 3, Predicted: 4\n",
      "Original: 2, Predicted: 2\n",
      "Original: 3, Predicted: 3\n",
      "Original: 4, Predicted: 1\n",
      "Original: 0, Predicted: 0\n",
      "Original: 0, Predicted: 2\n",
      "Original: 2, Predicted: 4\n",
      "Original: 4, Predicted: 2\n",
      "Original: 0, Predicted: 1\n",
      "Original: 1, Predicted: 1\n",
      "Original: 5, Predicted: 3\n",
      "Original: 0, Predicted: 0\n",
      "Original: 5, Predicted: 3\n",
      "Original: 0, Predicted: 0\n",
      "Original: 5, Predicted: 3\n"
     ]
    },
    {
     "name": "stdout",
     "output_type": "stream",
     "text": [
      "Original: 5, Predicted: 5\n",
      "Original: 0, Predicted: 0\n",
      "Original: 2, Predicted: 2\n",
      "Original: 0, Predicted: 0\n",
      "Original: 5, Predicted: 5\n",
      "Original: 2, Predicted: 2\n",
      "Original: 3, Predicted: 5\n",
      "Original: 1, Predicted: 1\n",
      "Original: 2, Predicted: 2\n",
      "Original: 4, Predicted: 4\n",
      "Original: 5, Predicted: 5\n",
      "Original: 0, Predicted: 2\n",
      "Original: 4, Predicted: 5\n",
      "Original: 5, Predicted: 5\n",
      "Original: 2, Predicted: 2\n",
      "Original: 0, Predicted: 5\n",
      "Original: 4, Predicted: 4\n",
      "Original: 5, Predicted: 3\n",
      "Original: 2, Predicted: 2\n",
      "Original: 1, Predicted: 1\n",
      "Original: 3, Predicted: 5\n",
      "Original: 3, Predicted: 4\n",
      "Original: 1, Predicted: 1\n",
      "Original: 2, Predicted: 2\n",
      "Original: 2, Predicted: 2\n",
      "Original: 5, Predicted: 5\n",
      "Original: 2, Predicted: 2\n",
      "Original: 0, Predicted: 0\n",
      "Original: 2, Predicted: 2\n",
      "Original: 0, Predicted: 0\n",
      "Original: 2, Predicted: 2\n",
      "Original: 5, Predicted: 5\n",
      "Original: 3, Predicted: 5\n",
      "Original: 2, Predicted: 2\n",
      "Original: 5, Predicted: 0\n",
      "Original: 2, Predicted: 2\n",
      "Original: 4, Predicted: 5\n",
      "Original: 1, Predicted: 1\n",
      "Original: 0, Predicted: 0\n",
      "Original: 3, Predicted: 4\n",
      "Original: 3, Predicted: 3\n",
      "Original: 3, Predicted: 5\n",
      "Original: 1, Predicted: 4\n",
      "Original: 2, Predicted: 2\n",
      "Original: 1, Predicted: 1\n",
      "Original: 4, Predicted: 1\n",
      "Original: 5, Predicted: 2\n",
      "Original: 4, Predicted: 5\n",
      "Original: 3, Predicted: 4\n",
      "Original: 3, Predicted: 3\n",
      "Original: 1, Predicted: 4\n",
      "Original: 3, Predicted: 3\n",
      "Original: 0, Predicted: 1\n",
      "Original: 5, Predicted: 3\n",
      "Original: 5, Predicted: 5\n",
      "Original: 5, Predicted: 3\n",
      "Original: 4, Predicted: 4\n",
      "Original: 5, Predicted: 5\n",
      "Original: 3, Predicted: 5\n",
      "Original: 2, Predicted: 2\n",
      "Original: 3, Predicted: 5\n",
      "Original: 5, Predicted: 5\n",
      "Original: 3, Predicted: 3\n",
      "Original: 0, Predicted: 0\n",
      "Original: 5, Predicted: 3\n",
      "Original: 2, Predicted: 2\n",
      "Original: 0, Predicted: 1\n",
      "Original: 5, Predicted: 5\n",
      "Original: 3, Predicted: 3\n",
      "Original: 0, Predicted: 0\n",
      "Original: 5, Predicted: 3\n",
      "Original: 1, Predicted: 5\n",
      "Original: 5, Predicted: 5\n",
      "Original: 0, Predicted: 0\n",
      "Original: 3, Predicted: 5\n",
      "Original: 4, Predicted: 5\n",
      "Original: 4, Predicted: 4\n",
      "Original: 2, Predicted: 0\n",
      "Original: 2, Predicted: 2\n",
      "Original: 1, Predicted: 1\n",
      "Original: 2, Predicted: 2\n",
      "Original: 3, Predicted: 4\n",
      "Original: 4, Predicted: 3\n",
      "Original: 0, Predicted: 0\n",
      "Original: 1, Predicted: 0\n",
      "Original: 1, Predicted: 1\n",
      "Original: 3, Predicted: 4\n",
      "Original: 5, Predicted: 5\n",
      "Original: 3, Predicted: 3\n",
      "Original: 2, Predicted: 4\n",
      "Original: 2, Predicted: 2\n",
      "Original: 4, Predicted: 4\n",
      "Original: 5, Predicted: 5\n",
      "Original: 2, Predicted: 2\n",
      "Original: 2, Predicted: 2\n",
      "Original: 0, Predicted: 2\n",
      "Original: 3, Predicted: 3\n",
      "Original: 3, Predicted: 5\n",
      "Original: 3, Predicted: 3\n",
      "Original: 0, Predicted: 0\n",
      "Original: 2, Predicted: 2\n",
      "Original: 3, Predicted: 3\n",
      "Original: 3, Predicted: 3\n",
      "Original: 5, Predicted: 5\n",
      "Original: 5, Predicted: 3\n",
      "Original: 4, Predicted: 1\n",
      "Original: 3, Predicted: 5\n",
      "Original: 3, Predicted: 3\n",
      "Original: 3, Predicted: 3\n",
      "Original: 4, Predicted: 3\n",
      "Original: 4, Predicted: 4\n",
      "Original: 1, Predicted: 0\n",
      "Original: 0, Predicted: 1\n",
      "Original: 1, Predicted: 1\n",
      "Original: 4, Predicted: 4\n",
      "Original: 2, Predicted: 2\n",
      "Original: 2, Predicted: 2\n",
      "Original: 0, Predicted: 5\n",
      "Original: 3, Predicted: 3\n",
      "Original: 1, Predicted: 1\n",
      "Original: 0, Predicted: 0\n",
      "Original: 0, Predicted: 0\n",
      "Original: 3, Predicted: 3\n",
      "Original: 1, Predicted: 1\n",
      "Original: 3, Predicted: 4\n",
      "Original: 5, Predicted: 3\n",
      "Original: 0, Predicted: 0\n",
      "Original: 2, Predicted: 0\n",
      "Original: 5, Predicted: 5\n",
      "Original: 0, Predicted: 0\n",
      "Original: 5, Predicted: 0\n",
      "Original: 3, Predicted: 3\n",
      "Original: 1, Predicted: 0\n",
      "Original: 3, Predicted: 3\n",
      "Original: 3, Predicted: 3\n",
      "Original: 5, Predicted: 3\n",
      "Original: 5, Predicted: 5\n",
      "Original: 4, Predicted: 4\n",
      "Original: 5, Predicted: 3\n",
      "Original: 5, Predicted: 1\n",
      "Original: 3, Predicted: 3\n",
      "Original: 0, Predicted: 2\n",
      "Original: 5, Predicted: 5\n",
      "Original: 0, Predicted: 0\n",
      "Original: 2, Predicted: 4\n",
      "Original: 3, Predicted: 3\n",
      "Original: 2, Predicted: 2\n",
      "Original: 0, Predicted: 0\n",
      "Original: 0, Predicted: 0\n",
      "Original: 1, Predicted: 1\n",
      "Original: 1, Predicted: 1\n",
      "Original: 1, Predicted: 4\n",
      "Original: 4, Predicted: 2\n",
      "Original: 1, Predicted: 1\n",
      "Original: 4, Predicted: 5\n",
      "Original: 5, Predicted: 3\n",
      "Original: 2, Predicted: 2\n",
      "Original: 5, Predicted: 5\n",
      "Original: 4, Predicted: 1\n",
      "Original: 3, Predicted: 5\n",
      "Original: 5, Predicted: 5\n",
      "Original: 0, Predicted: 5\n",
      "Original: 1, Predicted: 4\n",
      "Original: 4, Predicted: 3\n",
      "Original: 0, Predicted: 0\n",
      "Original: 0, Predicted: 2\n",
      "Original: 1, Predicted: 1\n",
      "Original: 1, Predicted: 1\n",
      "Original: 5, Predicted: 3\n",
      "Original: 4, Predicted: 0\n",
      "Original: 0, Predicted: 2\n",
      "Original: 4, Predicted: 0\n",
      "Original: 5, Predicted: 5\n",
      "Original: 3, Predicted: 3\n",
      "Original: 2, Predicted: 2\n",
      "Original: 0, Predicted: 0\n",
      "Original: 3, Predicted: 3\n",
      "Original: 2, Predicted: 2\n",
      "Original: 2, Predicted: 2\n",
      "Original: 0, Predicted: 0\n",
      "Original: 0, Predicted: 2\n",
      "Original: 1, Predicted: 5\n",
      "Original: 5, Predicted: 4\n",
      "Original: 0, Predicted: 1\n",
      "Original: 5, Predicted: 0\n",
      "Original: 1, Predicted: 1\n",
      "Original: 2, Predicted: 2\n",
      "Original: 1, Predicted: 1\n",
      "Original: 2, Predicted: 2\n",
      "Original: 1, Predicted: 1\n",
      "Original: 0, Predicted: 0\n",
      "Original: 2, Predicted: 2\n",
      "Original: 2, Predicted: 2\n",
      "Original: 1, Predicted: 1\n",
      "Original: 5, Predicted: 5\n",
      "Original: 2, Predicted: 4\n",
      "Original: 2, Predicted: 2\n",
      "Original: 3, Predicted: 0\n",
      "Original: 1, Predicted: 0\n",
      "Original: 2, Predicted: 2\n",
      "Original: 3, Predicted: 3\n",
      "Original: 0, Predicted: 0\n",
      "Original: 2, Predicted: 4\n",
      "Original: 3, Predicted: 3\n",
      "Original: 5, Predicted: 5\n",
      "Original: 0, Predicted: 0\n",
      "Original: 1, Predicted: 1\n",
      "Original: 2, Predicted: 0\n",
      "Original: 4, Predicted: 4\n",
      "Original: 4, Predicted: 0\n",
      "Original: 5, Predicted: 5\n",
      "Original: 2, Predicted: 2\n",
      "Original: 1, Predicted: 1\n",
      "Original: 3, Predicted: 4\n",
      "Original: 2, Predicted: 0\n",
      "Original: 5, Predicted: 3\n",
      "Original: 3, Predicted: 5\n",
      "Original: 0, Predicted: 0\n",
      "Original: 5, Predicted: 5\n",
      "Original: 4, Predicted: 1\n",
      "Original: 2, Predicted: 2\n",
      "Original: 1, Predicted: 1\n",
      "Original: 1, Predicted: 1\n",
      "Original: 0, Predicted: 0\n",
      "Original: 3, Predicted: 4\n",
      "Original: 5, Predicted: 0\n",
      "Original: 0, Predicted: 2\n",
      "Original: 1, Predicted: 1\n",
      "Original: 4, Predicted: 4\n",
      "Original: 2, Predicted: 2\n",
      "Original: 1, Predicted: 1\n",
      "Original: 2, Predicted: 2\n",
      "Original: 5, Predicted: 4\n",
      "Original: 1, Predicted: 4\n",
      "Original: 1, Predicted: 1\n",
      "Original: 3, Predicted: 4\n",
      "Original: 4, Predicted: 4\n",
      "Original: 2, Predicted: 2\n",
      "Original: 5, Predicted: 5\n",
      "Original: 3, Predicted: 3\n",
      "Original: 4, Predicted: 2\n"
     ]
    }
   ],
   "source": [
    "y_new = model_test.predict(X_test)\n",
    "\n",
    "for i in range(len(y_new)):\n",
    "    print(\"Original: {}, Predicted: {}\".format(y_test[i], y_new[i]))"
   ]
  },
  {
   "cell_type": "code",
   "execution_count": null,
   "metadata": {},
   "outputs": [],
   "source": []
  }
 ],
 "metadata": {
  "kernelspec": {
   "display_name": "Python 3",
   "language": "python",
   "name": "python3"
  },
  "language_info": {
   "codemirror_mode": {
    "name": "ipython",
    "version": 3
   },
   "file_extension": ".py",
   "mimetype": "text/x-python",
   "name": "python",
   "nbconvert_exporter": "python",
   "pygments_lexer": "ipython3",
   "version": "3.7.3"
  }
 },
 "nbformat": 4,
 "nbformat_minor": 2
}
