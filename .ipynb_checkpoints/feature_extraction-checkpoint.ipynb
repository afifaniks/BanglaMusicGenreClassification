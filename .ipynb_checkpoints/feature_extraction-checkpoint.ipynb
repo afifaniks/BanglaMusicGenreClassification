{
 "cells": [
  {
   "cell_type": "markdown",
   "metadata": {},
   "source": [
    "<h2 style=\"color:green\"> Feature Extraction from MP3 Files</h2>\n",
    "Author: [Afif Al Mamun](https://afifaniks.github.io)<br>\n",
    "Date: 3 July, 2019"
   ]
  },
  {
   "cell_type": "code",
   "execution_count": 1,
   "metadata": {},
   "outputs": [],
   "source": [
    "import librosa\n",
    "import os\n",
    "import csv\n",
    "import pandas as pd\n",
    "import numpy as np\n",
    "from tqdm import tqdm_notebook as tqdm"
   ]
  },
  {
   "cell_type": "code",
   "execution_count": 2,
   "metadata": {},
   "outputs": [],
   "source": [
    "def get_files(dir_path):\n",
    "    '''Returns the list of files from a specified directory'''\n",
    "    file_list = []\n",
    "    \n",
    "    for file in os.scandir(dir_path):\n",
    "        if file.is_file:\n",
    "            file_list.append(file.name)\n",
    "    \n",
    "    return file_list"
   ]
  },
  {
   "cell_type": "code",
   "execution_count": 3,
   "metadata": {},
   "outputs": [],
   "source": [
    "def load_mp3(file_path, start_time, duration_time):\n",
    "    '''Loads an MP3 file as an array of samples'''\n",
    "    file, sr = librosa.load(file_path, offset=start_time, duration=duration_time)\n",
    "    \n",
    "    return (file, sr)"
   ]
  },
  {
   "cell_type": "code",
   "execution_count": 4,
   "metadata": {},
   "outputs": [],
   "source": [
    "def get_zero_crossing_rate(file):\n",
    "    '''Returns number of zero crossings of an MP3 file in a specified time interval'''\n",
    "    start_time = 0\n",
    "    \n",
    "    zero_crossings = librosa.zero_crossings(file[start_time:], pad=False)\n",
    "    z_c = sum(zero_crossings)\n",
    "    \n",
    "    return z_c"
   ]
  },
  {
   "cell_type": "code",
   "execution_count": 5,
   "metadata": {},
   "outputs": [],
   "source": [
    "def get_spectral_centroid(file):\n",
    "    '''Returns mean value of Spectral Centroid of an MP3 file'''\n",
    "    spectral_centroid = librosa.feature.spectral_centroid(file)\n",
    "    return np.mean(spectral_centroid)"
   ]
  },
  {
   "cell_type": "code",
   "execution_count": 6,
   "metadata": {},
   "outputs": [],
   "source": [
    "def get_spectral_rolloff(file):\n",
    "    '''Returns mean value of Spectral Rolloff of an MP3 file'''\n",
    "    spectral_rolloff = librosa.feature.spectral_rolloff(file)\n",
    "    return np.mean(spectral_rolloff)"
   ]
  },
  {
   "cell_type": "code",
   "execution_count": 7,
   "metadata": {},
   "outputs": [],
   "source": [
    "def get_mfcc(file):\n",
    "    '''Returns mean values of Mel Frequency Cepstral Coefficients (which\n",
    "    is 20 in length) of an MP3 file'''\n",
    "    mfcc = librosa.feature.mfcc(file)\n",
    "    \n",
    "    result_mfcc = []\n",
    "    \n",
    "    for i in range(mfcc.shape[0]):\n",
    "        result_mfcc.append(np.mean(mfcc[i]))\n",
    "\n",
    "    return result_mfcc"
   ]
  },
  {
   "cell_type": "code",
   "execution_count": 8,
   "metadata": {},
   "outputs": [],
   "source": [
    "def get_chroma_freq(file):\n",
    "    '''Returns mean value of Chroma Frequencies of an MP3'''\n",
    "    chroma_frequencie = librosa.feature.chroma_stft(file)\n",
    "    \n",
    "    return np.mean(chroma_frequencie)"
   ]
  },
  {
   "cell_type": "code",
   "execution_count": 9,
   "metadata": {},
   "outputs": [],
   "source": [
    "def create_csv():\n",
    "    column_names = \"file_names zero_crossings spectral_centroids spectral_rolloff chroma_frequencies\"\n",
    "    \n",
    "    for i in range(20):\n",
    "        column_names += \" mfcc{}\".format(i)\n",
    "    \n",
    "    column_names += \" labels\"\n",
    "    \n",
    "    with open('dataset.csv', mode='w', newline='') as csv_file:\n",
    "        writer = csv.writer(csv_file)\n",
    "        writer.writerow(column_names.split())\n",
    "    \n",
    "    print(\"CSV File Created\")   "
   ]
  },
  {
   "cell_type": "code",
   "execution_count": 10,
   "metadata": {},
   "outputs": [],
   "source": [
    "def write_csv(file_name, zero_crossing, spectral_centroid, spectral_rolloff, chroma_frequency, mfcc, label):\n",
    "    if not os.path.isfile('dataset.csv'):\n",
    "        create_csv()\n",
    "    \n",
    "    row_values = [file_name, zero_crossing, spectral_centroid, spectral_rolloff, chroma_frequency]\n",
    "    \n",
    "    for i in range(20): #mfcc length is always 20\n",
    "        row_values.append(mfcc[i])\n",
    "    \n",
    "    row_values.append(label)\n",
    "    \n",
    "    with open('dataset.csv', mode='a', newline='') as csv_file:\n",
    "        writer = csv.writer(csv_file)\n",
    "        writer.writerow(row_values)"
   ]
  },
  {
   "cell_type": "code",
   "execution_count": 11,
   "metadata": {},
   "outputs": [],
   "source": [
    "def extract_features():\n",
    "    genre_dir = os.listdir('data') # Getting subdirectories of data directory\n",
    "\n",
    "    for genre in genre_dir:        \n",
    "        files = get_files('data/' + genre)\n",
    "        \n",
    "        files_iterator = tqdm(files, ncols=700) #ncols sets the progress bar width\n",
    "        \n",
    "        print(\"Processing files in directory: data/\" + genre +\"/\")\n",
    "        for file_name in files_iterator:\n",
    "            files_iterator.set_description(file_name)\n",
    "            try:\n",
    "                if file_name.endswith('.mp3'):\n",
    "                    \n",
    "                    file, sample_rate = load_mp3('data/' + genre + '/' + file_name, 30, 15) # Starting offset = 30, duration = 15\n",
    "\n",
    "                    zero_crossing = get_zero_crossing_rate(file)\n",
    "                    spec_centroid = get_spectral_centroid(file)\n",
    "                    spec_rolloff = get_spectral_rolloff(file)\n",
    "                    chroma_frequency = get_chroma_freq(file)\n",
    "                    mfcc = get_mfcc(file)\n",
    "\n",
    "                    write_csv(file_name,\n",
    "                             zero_crossing,\n",
    "                             spec_centroid,\n",
    "                             spec_rolloff,\n",
    "                             chroma_frequency,\n",
    "                             mfcc,\n",
    "                             genre)\n",
    "            except:\n",
    "                print(\"Something's wrong with file: data/\" + genre + \"/\" + file_name )\n",
    "                continue\n"
   ]
  },
  {
   "cell_type": "code",
   "execution_count": 12,
   "metadata": {},
   "outputs": [
    {
     "data": {
      "application/vnd.jupyter.widget-view+json": {
       "model_id": "42ac850643ee4f3a843c666619d45f1b",
       "version_major": 2,
       "version_minor": 0
      },
      "text/plain": [
       "HBox(children=(IntProgress(value=0, layout=Layout(flex='2')), HTML(value='')), layout=Layout(display='inline-f…"
      ]
     },
     "metadata": {},
     "output_type": "display_data"
    },
    {
     "name": "stdout",
     "output_type": "stream",
     "text": [
      "Processing files in directory: data/mild/\n",
      "CSV File Created\n",
      "Something's wrong with file: data/mild/Alt-J (∆) - Matilda.mp3\n",
      "Something's wrong with file: data/mild/alt-J (∆) Breezeblocks.mp3\n",
      "Something's wrong with file: data/mild/אינדי סיטי - LolaMarsh - Wishing girl.mp3\n",
      "\n"
     ]
    },
    {
     "data": {
      "application/vnd.jupyter.widget-view+json": {
       "model_id": "654316af1ec041f4af46c6d468de9101",
       "version_major": 2,
       "version_minor": 0
      },
      "text/plain": [
       "HBox(children=(IntProgress(value=0, layout=Layout(flex='2'), max=99), HTML(value='')), layout=Layout(display='…"
      ]
     },
     "metadata": {},
     "output_type": "display_data"
    },
    {
     "name": "stdout",
     "output_type": "stream",
     "text": [
      "Processing files in directory: data/rock/\n",
      "\n"
     ]
    }
   ],
   "source": [
    "extract_features()"
   ]
  },
  {
   "cell_type": "code",
   "execution_count": 14,
   "metadata": {
    "scrolled": true
   },
   "outputs": [
    {
     "data": {
      "text/html": [
       "<div>\n",
       "<style scoped>\n",
       "    .dataframe tbody tr th:only-of-type {\n",
       "        vertical-align: middle;\n",
       "    }\n",
       "\n",
       "    .dataframe tbody tr th {\n",
       "        vertical-align: top;\n",
       "    }\n",
       "\n",
       "    .dataframe thead th {\n",
       "        text-align: right;\n",
       "    }\n",
       "</style>\n",
       "<table border=\"1\" class=\"dataframe\">\n",
       "  <thead>\n",
       "    <tr style=\"text-align: right;\">\n",
       "      <th></th>\n",
       "      <th>file_names</th>\n",
       "      <th>zero_crossings</th>\n",
       "      <th>spectral_centroids</th>\n",
       "      <th>spectral_rolloff</th>\n",
       "      <th>chroma_frequencies</th>\n",
       "      <th>mfcc0</th>\n",
       "      <th>mfcc1</th>\n",
       "      <th>mfcc2</th>\n",
       "      <th>mfcc3</th>\n",
       "      <th>mfcc4</th>\n",
       "      <th>...</th>\n",
       "      <th>mfcc11</th>\n",
       "      <th>mfcc12</th>\n",
       "      <th>mfcc13</th>\n",
       "      <th>mfcc14</th>\n",
       "      <th>mfcc15</th>\n",
       "      <th>mfcc16</th>\n",
       "      <th>mfcc17</th>\n",
       "      <th>mfcc18</th>\n",
       "      <th>mfcc19</th>\n",
       "      <th>labels</th>\n",
       "    </tr>\n",
       "  </thead>\n",
       "  <tbody>\n",
       "    <tr>\n",
       "      <th>0</th>\n",
       "      <td>505 lyrics - Arctic Monkeys.mp3</td>\n",
       "      <td>17855</td>\n",
       "      <td>1361.976661</td>\n",
       "      <td>2665.300550</td>\n",
       "      <td>0.309933</td>\n",
       "      <td>-213.525981</td>\n",
       "      <td>141.725476</td>\n",
       "      <td>12.349420</td>\n",
       "      <td>33.520290</td>\n",
       "      <td>16.103440</td>\n",
       "      <td>...</td>\n",
       "      <td>-7.880349</td>\n",
       "      <td>-14.187121</td>\n",
       "      <td>-7.668938</td>\n",
       "      <td>-0.192236</td>\n",
       "      <td>3.283944</td>\n",
       "      <td>-5.491011</td>\n",
       "      <td>4.841823</td>\n",
       "      <td>-1.018004</td>\n",
       "      <td>-5.487875</td>\n",
       "      <td>mild</td>\n",
       "    </tr>\n",
       "    <tr>\n",
       "      <th>1</th>\n",
       "      <td>Acollective - Happiest of All Memorial Days.mp3</td>\n",
       "      <td>23980</td>\n",
       "      <td>1590.959938</td>\n",
       "      <td>2936.232245</td>\n",
       "      <td>0.221365</td>\n",
       "      <td>-225.882346</td>\n",
       "      <td>134.870830</td>\n",
       "      <td>3.077759</td>\n",
       "      <td>-11.021871</td>\n",
       "      <td>-15.270789</td>\n",
       "      <td>...</td>\n",
       "      <td>-12.590802</td>\n",
       "      <td>-17.671080</td>\n",
       "      <td>-4.948105</td>\n",
       "      <td>-6.429291</td>\n",
       "      <td>-0.782444</td>\n",
       "      <td>-5.487762</td>\n",
       "      <td>1.213659</td>\n",
       "      <td>-9.344385</td>\n",
       "      <td>-8.244936</td>\n",
       "      <td>mild</td>\n",
       "    </tr>\n",
       "    <tr>\n",
       "      <th>2</th>\n",
       "      <td>alt-J - In Cold Blood (Official Audio).mp3</td>\n",
       "      <td>30587</td>\n",
       "      <td>2039.567145</td>\n",
       "      <td>4309.773939</td>\n",
       "      <td>0.369340</td>\n",
       "      <td>-47.469420</td>\n",
       "      <td>110.880886</td>\n",
       "      <td>-1.918403</td>\n",
       "      <td>24.852786</td>\n",
       "      <td>-4.447391</td>\n",
       "      <td>...</td>\n",
       "      <td>4.946983</td>\n",
       "      <td>-4.952784</td>\n",
       "      <td>1.572037</td>\n",
       "      <td>-2.835366</td>\n",
       "      <td>0.494517</td>\n",
       "      <td>-6.052243</td>\n",
       "      <td>5.391527</td>\n",
       "      <td>-0.449315</td>\n",
       "      <td>1.825346</td>\n",
       "      <td>mild</td>\n",
       "    </tr>\n",
       "    <tr>\n",
       "      <th>3</th>\n",
       "      <td>Amber Run - I Found.mp3</td>\n",
       "      <td>14293</td>\n",
       "      <td>1060.081151</td>\n",
       "      <td>1856.055443</td>\n",
       "      <td>0.352049</td>\n",
       "      <td>-232.148677</td>\n",
       "      <td>164.578050</td>\n",
       "      <td>25.053746</td>\n",
       "      <td>13.708847</td>\n",
       "      <td>5.517765</td>\n",
       "      <td>...</td>\n",
       "      <td>2.399896</td>\n",
       "      <td>2.747565</td>\n",
       "      <td>1.966829</td>\n",
       "      <td>2.044824</td>\n",
       "      <td>9.187340</td>\n",
       "      <td>-3.036627</td>\n",
       "      <td>9.005856</td>\n",
       "      <td>6.608620</td>\n",
       "      <td>7.307281</td>\n",
       "      <td>mild</td>\n",
       "    </tr>\n",
       "    <tr>\n",
       "      <th>4</th>\n",
       "      <td>BIRDY + RHODES - Let It All Go [Official].mp3</td>\n",
       "      <td>20013</td>\n",
       "      <td>1681.730560</td>\n",
       "      <td>3311.763308</td>\n",
       "      <td>0.237528</td>\n",
       "      <td>-235.493873</td>\n",
       "      <td>122.314426</td>\n",
       "      <td>28.324646</td>\n",
       "      <td>27.929303</td>\n",
       "      <td>0.473906</td>\n",
       "      <td>...</td>\n",
       "      <td>-5.596426</td>\n",
       "      <td>-11.428919</td>\n",
       "      <td>1.680365</td>\n",
       "      <td>-19.084055</td>\n",
       "      <td>-5.280164</td>\n",
       "      <td>-8.765901</td>\n",
       "      <td>-2.857857</td>\n",
       "      <td>-8.536520</td>\n",
       "      <td>3.319843</td>\n",
       "      <td>mild</td>\n",
       "    </tr>\n",
       "  </tbody>\n",
       "</table>\n",
       "<p>5 rows × 26 columns</p>\n",
       "</div>"
      ],
      "text/plain": [
       "                                        file_names  zero_crossings  \\\n",
       "0                  505 lyrics - Arctic Monkeys.mp3           17855   \n",
       "1  Acollective - Happiest of All Memorial Days.mp3           23980   \n",
       "2       alt-J - In Cold Blood (Official Audio).mp3           30587   \n",
       "3                          Amber Run - I Found.mp3           14293   \n",
       "4    BIRDY + RHODES - Let It All Go [Official].mp3           20013   \n",
       "\n",
       "   spectral_centroids  spectral_rolloff  chroma_frequencies       mfcc0  \\\n",
       "0         1361.976661       2665.300550            0.309933 -213.525981   \n",
       "1         1590.959938       2936.232245            0.221365 -225.882346   \n",
       "2         2039.567145       4309.773939            0.369340  -47.469420   \n",
       "3         1060.081151       1856.055443            0.352049 -232.148677   \n",
       "4         1681.730560       3311.763308            0.237528 -235.493873   \n",
       "\n",
       "        mfcc1      mfcc2      mfcc3      mfcc4   ...       mfcc11     mfcc12  \\\n",
       "0  141.725476  12.349420  33.520290  16.103440   ...    -7.880349 -14.187121   \n",
       "1  134.870830   3.077759 -11.021871 -15.270789   ...   -12.590802 -17.671080   \n",
       "2  110.880886  -1.918403  24.852786  -4.447391   ...     4.946983  -4.952784   \n",
       "3  164.578050  25.053746  13.708847   5.517765   ...     2.399896   2.747565   \n",
       "4  122.314426  28.324646  27.929303   0.473906   ...    -5.596426 -11.428919   \n",
       "\n",
       "     mfcc13     mfcc14    mfcc15    mfcc16    mfcc17    mfcc18    mfcc19  \\\n",
       "0 -7.668938  -0.192236  3.283944 -5.491011  4.841823 -1.018004 -5.487875   \n",
       "1 -4.948105  -6.429291 -0.782444 -5.487762  1.213659 -9.344385 -8.244936   \n",
       "2  1.572037  -2.835366  0.494517 -6.052243  5.391527 -0.449315  1.825346   \n",
       "3  1.966829   2.044824  9.187340 -3.036627  9.005856  6.608620  7.307281   \n",
       "4  1.680365 -19.084055 -5.280164 -8.765901 -2.857857 -8.536520  3.319843   \n",
       "\n",
       "   labels  \n",
       "0    mild  \n",
       "1    mild  \n",
       "2    mild  \n",
       "3    mild  \n",
       "4    mild  \n",
       "\n",
       "[5 rows x 26 columns]"
      ]
     },
     "execution_count": 14,
     "metadata": {},
     "output_type": "execute_result"
    }
   ],
   "source": [
    "df = pd.read_csv(\"dataset.csv\")\n",
    "df.head()"
   ]
  }
 ],
 "metadata": {
  "kernelspec": {
   "display_name": "Python 3",
   "language": "python",
   "name": "python3"
  },
  "language_info": {
   "codemirror_mode": {
    "name": "ipython",
    "version": 3
   },
   "file_extension": ".py",
   "mimetype": "text/x-python",
   "name": "python",
   "nbconvert_exporter": "python",
   "pygments_lexer": "ipython3",
   "version": "3.6.5"
  }
 },
 "nbformat": 4,
 "nbformat_minor": 2
}
