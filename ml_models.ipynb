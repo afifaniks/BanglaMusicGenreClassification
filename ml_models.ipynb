{
 "cells": [
  {
   "cell_type": "markdown",
   "metadata": {},
   "source": [
    "<h2 style=\"color: green\">Testing Extracted Features w/ ML</h2>\n",
    "Author: [Afif Al Mamun](https://afifaniks.github.io)<br>\n",
    "Date: 5 July, 2019\n",
    "\n",
    "Tested for three classes.\n",
    "0 : Band Music\n",
    "1 : Nazrul Sangeet\n",
    "2 : Hiphop\n",
    "3 : Lokogeeti\n",
    "4 : Polligeeti\n",
    "5 : Pop\n",
    "6 : Rabindra Sangeet"
   ]
  },
  {
   "cell_type": "code",
   "execution_count": 12,
   "metadata": {},
   "outputs": [],
   "source": [
    "from sklearn.preprocessing import LabelEncoder\n",
    "from sklearn.linear_model import LogisticRegression \n",
    "from sklearn.linear_model import LinearRegression\n",
    "from sklearn.neighbors import KNeighborsClassifier\n",
    "from sklearn.svm import SVC\n",
    "from sklearn.model_selection import train_test_split\n",
    "import pandas as pd\n",
    "import pickle\n",
    "from tqdm import tqdm_notebook as tqdm"
   ]
  },
  {
   "cell_type": "code",
   "execution_count": 13,
   "metadata": {},
   "outputs": [],
   "source": [
    "df = pd.read_csv('dataset.csv', encoding='latin-1')"
   ]
  },
  {
   "cell_type": "code",
   "execution_count": 14,
   "metadata": {
    "scrolled": true
   },
   "outputs": [],
   "source": [
    "y = df['label']\n",
    "X = df.drop(['file_name', 'label'], axis=1)\n",
    "le = LabelEncoder()\n",
    "\n",
    "y = le.fit_transform(y)"
   ]
  },
  {
   "cell_type": "code",
   "execution_count": 17,
   "metadata": {},
   "outputs": [],
   "source": [
    "def get_best_fit():   \n",
    "    X_train, X_test, y_train, y_test = train_test_split(X, y, train_size=0.8)\n",
    "    log_reg_model = LogisticRegression()\n",
    "    lin_reg_model = LinearRegression()\n",
    "    svm_model = SVC()\n",
    "    knn_model = KNeighborsClassifier(n_neighbors=8)\n",
    "\n",
    "    # Log Reg\n",
    "    log_reg_model.fit(X_train, y_train)\n",
    "    score = log_reg_model.score(X_test, y_test)\n",
    "    print(\"Logistic Regression Acc: \", score)\n",
    "    \n",
    "    # Lin Reg\n",
    "    lin_reg_model.fit(X_train, y_train)\n",
    "    score = lin_reg_model.score(X_test, y_test)\n",
    "    print(\"Linear Regression Acc: \", score)\n",
    "    \n",
    "    # SVM\n",
    "    svm_model.fit(X_train, y_train)\n",
    "    score = svm_model.score(X_test, y_test)\n",
    "    print(\"SVM Acc: \", score)\n",
    "    \n",
    "    # KNN\n",
    "    knn_model.fit(X_train, y_train)\n",
    "    score = knn_model.score(X_test, y_test)\n",
    "    print(\"KNN Acc: \", score)"
   ]
  },
  {
   "cell_type": "code",
   "execution_count": 18,
   "metadata": {},
   "outputs": [
    {
     "name": "stderr",
     "output_type": "stream",
     "text": [
      "E:\\Installs\\Anaconda\\lib\\site-packages\\sklearn\\linear_model\\logistic.py:432: FutureWarning: Default solver will be changed to 'lbfgs' in 0.22. Specify a solver to silence this warning.\n",
      "  FutureWarning)\n",
      "E:\\Installs\\Anaconda\\lib\\site-packages\\sklearn\\linear_model\\logistic.py:469: FutureWarning: Default multi_class will be changed to 'auto' in 0.22. Specify the multi_class option to silence this warning.\n",
      "  \"this warning.\", FutureWarning)\n"
     ]
    },
    {
     "name": "stdout",
     "output_type": "stream",
     "text": [
      "Logistic Regression Acc:  0.6074498567335244\n",
      "Linear Regression Acc:  0.4462540758997092\n"
     ]
    },
    {
     "name": "stderr",
     "output_type": "stream",
     "text": [
      "E:\\Installs\\Anaconda\\lib\\site-packages\\sklearn\\svm\\base.py:193: FutureWarning: The default value of gamma will change from 'auto' to 'scale' in version 0.22 to account better for unscaled features. Set gamma explicitly to 'auto' or 'scale' to avoid this warning.\n",
      "  \"avoid this warning.\", FutureWarning)\n"
     ]
    },
    {
     "name": "stdout",
     "output_type": "stream",
     "text": [
      "SVM Acc:  0.18911174785100288\n",
      "KNN Acc:  0.3495702005730659\n"
     ]
    }
   ],
   "source": [
    "get_best_fit()"
   ]
  },
  {
   "cell_type": "code",
   "execution_count": null,
   "metadata": {},
   "outputs": [],
   "source": []
  }
 ],
 "metadata": {
  "kernelspec": {
   "display_name": "Python 3",
   "language": "python",
   "name": "python3"
  },
  "language_info": {
   "codemirror_mode": {
    "name": "ipython",
    "version": 3
   },
   "file_extension": ".py",
   "mimetype": "text/x-python",
   "name": "python",
   "nbconvert_exporter": "python",
   "pygments_lexer": "ipython3",
   "version": "3.7.3"
  }
 },
 "nbformat": 4,
 "nbformat_minor": 2
}
